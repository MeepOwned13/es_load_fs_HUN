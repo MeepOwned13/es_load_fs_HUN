{
 "cells": [
  {
   "cell_type": "code",
   "execution_count": null,
   "id": "initial_id",
   "metadata": {
    "collapsed": true
   },
   "outputs": [],
   "source": [
    "import numpy as np\n",
    "import matplotlib.pyplot as plt\n",
    "import torch\n",
    "from torch import nn\n",
    "import pandas as pd\n",
    "from timeit import default_timer as timer\n",
    "import models.trainer_lib as tl\n",
    "import models.torch_model_definitions as tmd\n",
    "import os\n",
    "from configs import CONFIGS, load_data\n",
    "import random\n",
    "import json\n",
    "\n",
    "with open('final_eval_results/strategies.json', 'r') as f:\n",
    "    strategies = json.load(f)\n",
    "\n",
    "available_strategies = [s for s in strategies if 'fold_9' in strategies[s]]\n",
    "if len(available_strategies) == 0:\n",
    "    raise Exception('No strategies available, make sure to run eval_final_config.py with -sm switch or download final_eval_results folder from GitHub repo')\n",
    "\n",
    "print('Strategies available:', ', '.join(available_strategies))"
   ]
  },
  {
   "cell_type": "markdown",
   "source": [
    "# Choose strategy and fold, Initialization cell"
   ],
   "metadata": {
    "collapsed": false
   },
   "id": "7cb496fcb6dcdbc7"
  },
  {
   "cell_type": "code",
   "execution_count": null,
   "outputs": [],
   "source": [
    "FOLD = 3\n",
    "CHOICE = \"mimo_tcn\"\n",
    "\n",
    "### Above are configurable parameters ###\n",
    "\n",
    "if CHOICE not in available_strategies:\n",
    "    raise Exception(f'Strategy {CHOICE} not available, choose one: {\", \".join(available_strategies)}')\n",
    "if FOLD not in range(1, 10):\n",
    "    raise Exception(f'Fold {FOLD} not available, choose one from 1-9')\n",
    "\n",
    "config = CONFIGS[CHOICE]\n",
    "path = f\"final_eval_results/{CHOICE}/fold_{FOLD}.pt\"\n",
    "wrapper = config['wrapper'](config['model'](**config['model_params']), config['seq_len'], config['pred_len'])\n",
    "\n",
    "wrapper.load_state(path)\n",
    "X, y = load_data(config['load_modifier'])\n",
    "\n",
    "split_len = X.shape[0] // (config['n_splits'] + 1) \n",
    "start_point = split_len * FOLD\n",
    "end_point = split_len * (FOLD + 1)\n",
    "\n",
    "y_pred, y_true = wrapper.predict(X[start_point:end_point], y[start_point:end_point])"
   ],
   "metadata": {
    "collapsed": false
   },
   "id": "1ac64dce1208062a"
  },
  {
   "cell_type": "markdown",
   "source": [
    "## Per hour ahead performance"
   ],
   "metadata": {
    "collapsed": false
   },
   "id": "b23ded6b97a7c5f2"
  },
  {
   "cell_type": "code",
   "execution_count": null,
   "outputs": [],
   "source": [
    "df = pd.read_csv(f'final_eval_results/{CHOICE}.csv')\n",
    "\n",
    "df_no12fold = df[(df['Fold'] != 1) & (df['Fold'] != 2)]\n",
    "      \n",
    "means = df_no12fold.drop(['Fold', 'Train Time', 'Pred Time'], axis=1).groupby('Hour').mean()\n",
    "stds = df_no12fold.drop(['Fold', 'Train Time', 'Pred Time'], axis=1).groupby('Hour').std()\n",
    "\n",
    "means = means.round({'MAE': 2, 'MSE': 1, 'RMSE': 2, 'MAPE': 4, 'MPE': 4})\n",
    "stds = stds.round({'MAE': 2, 'MSE': 1, 'RMSE': 2, 'MAPE': 4, 'MPE': 4})\n",
    "\n",
    "mean_and_std = pd.DataFrame(columns=['Hour', 'MAE', 'MSE', 'RMSE', 'MAPE', 'MPE'])\n",
    "mean_and_std['Hour'] = means.index\n",
    "mean_and_std.set_index('Hour', inplace=True)\n",
    "\n",
    "for col in means.columns:\n",
    "    mean_and_std[col] = means[col].astype(str) + \"\\u00B1\" + stds[col].astype(str)\n",
    "\n",
    "# print(mean_and_std.to_latex())\n",
    "# print(mean_and_std.to_markdown())\n",
    "\n",
    "mean_and_std"
   ],
   "metadata": {
    "collapsed": false
   },
   "id": "8887718a9cc142e1"
  },
  {
   "cell_type": "markdown",
   "source": [
    "## Per fold performance"
   ],
   "metadata": {
    "collapsed": false
   },
   "id": "5bc5c939c9f2fd47"
  },
  {
   "cell_type": "code",
   "execution_count": null,
   "outputs": [],
   "source": [
    "df = pd.read_csv(f'final_eval_results/{CHOICE}.csv')\n",
    "\n",
    "df = df[(df['Hour'] == 0)]\n",
    "\n",
    "means = df.drop(['Hour', 'Train Time', 'Pred Time'], axis=1).groupby('Fold').mean()\n",
    "stds = df.drop(['Hour', 'Train Time', 'Pred Time'], axis=1).groupby('Fold').std()\n",
    "\n",
    "means = means.round({'MAE': 2, 'MSE': 1, 'RMSE': 2, 'MAPE': 4, 'MPE': 4})\n",
    "stds = stds.round({'MAE': 2, 'MSE': 1, 'RMSE': 2, 'MAPE': 4, 'MPE': 4})\n",
    "\n",
    "mean_and_std = pd.DataFrame(columns=['Fold', 'MAE', 'MSE', 'RMSE', 'MAPE', 'MPE'])\n",
    "mean_and_std.set_index('Fold', inplace=True)\n",
    "\n",
    "for col in means.columns:\n",
    "    mean_and_std[col] = means[col].astype(str) + \"\\u00B1\" + stds[col].astype(str)\n",
    "    \n",
    "mean_and_std"
   ],
   "metadata": {
    "collapsed": false
   },
   "id": "805f6b71653e6c1d"
  },
  {
   "cell_type": "markdown",
   "source": [
    "## Training and prediction time"
   ],
   "metadata": {
    "collapsed": false
   },
   "id": "ee9c60eb33fcde41"
  },
  {
   "cell_type": "code",
   "execution_count": null,
   "outputs": [],
   "source": [
    "df = pd.read_csv(f'final_eval_results/{CHOICE}.csv')\n",
    "\n",
    "print(f\"Train time: {df['Train Time'].mean():.1f}\\u00B1{df['Train Time'].std():.1f}\")\n",
    "print(f\"Pred time: {df['Pred Time'].mean():.4f}\\u00B1{df['Pred Time'].std():.4f}\")\n",
    "\n",
    "tt_df = df.groupby('Fold')['Train Time'].mean()\n",
    "tt_df = tt_df / 60\n",
    "\n",
    "pt_df = df.groupby('Fold')['Pred Time'].mean()\n",
    "pt_df = pt_df * 1000\n",
    "\n",
    "fig, axs = plt.subplots(nrows=1, ncols=2, figsize=(15, 6))\n",
    "axs[0].bar(tt_df.index, tt_df, color='orange')\n",
    "axs[0].set_title(\"Training Time\")\n",
    "axs[0].set_xlabel(\"Fold\")\n",
    "axs[0].set_ylabel(\"Time (minutes)\")\n",
    "axs[0].grid(axis='y')\n",
    "\n",
    "axs[1].bar(pt_df.index, pt_df, color='blue')\n",
    "axs[1].set_title(\"Prediction Time\")\n",
    "axs[1].set_xlabel(\"Fold\")\n",
    "axs[1].set_ylabel(\"Time (ms)\")\n",
    "axs[1].grid(axis='y')"
   ],
   "metadata": {
    "collapsed": false
   },
   "id": "5d8dc04bff5109cc"
  },
  {
   "cell_type": "markdown",
   "source": [
    "## Prediction plots"
   ],
   "metadata": {
    "collapsed": false
   },
   "id": "a4da4300be162d91"
  },
  {
   "cell_type": "code",
   "execution_count": null,
   "outputs": [],
   "source": [
    "PLOT_START = None # None means choose randomly\n",
    "PLOT_LENGTH = 150\n",
    "WHICH_PLOTS = [ # Comment out the ones you don't want\n",
    "#    'per_hour',\n",
    "    'together',\n",
    "]\n",
    "\n",
    "### Above are configurable parameters ###\n",
    "\n",
    "if PLOT_START is None:\n",
    "    PLOT_START = random.randint(0, split_len - PLOT_LENGTH)\n",
    "    \n",
    "if PLOT_START + PLOT_LENGTH > split_len:\n",
    "    raise ValueError(f'PLOT_START + PLOT_LENGTH > split_len, PLOT_START: {PLOT_START}, PLOT_LENGTH: {PLOT_LENGTH}, split_len: {split_len}')\n",
    "    \n",
    "if 'per_hour' in WHICH_PLOTS:\n",
    "    wrapper.plot_predictions_per_hour(y_pred[PLOT_START:PLOT_START+PLOT_LENGTH], y_true[PLOT_START:PLOT_START+PLOT_LENGTH])\n",
    "if 'together' in WHICH_PLOTS:\n",
    "    wrapper.plot_predictions_together(y_pred[PLOT_START:PLOT_START+PLOT_LENGTH], y_true[PLOT_START:PLOT_START+PLOT_LENGTH])"
   ],
   "metadata": {
    "collapsed": false
   },
   "id": "f2c3642d6f6e5cbd"
  }
 ],
 "metadata": {
  "kernelspec": {
   "display_name": "Python 3",
   "language": "python",
   "name": "python3"
  },
  "language_info": {
   "codemirror_mode": {
    "name": "ipython",
    "version": 2
   },
   "file_extension": ".py",
   "mimetype": "text/x-python",
   "name": "python",
   "nbconvert_exporter": "python",
   "pygments_lexer": "ipython2",
   "version": "2.7.6"
  }
 },
 "nbformat": 4,
 "nbformat_minor": 5
}
