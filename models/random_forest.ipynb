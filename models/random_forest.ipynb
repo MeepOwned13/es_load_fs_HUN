{
 "cells": [
  {
   "cell_type": "markdown",
   "source": [
    "### Imports"
   ],
   "metadata": {
    "collapsed": false
   },
   "id": "eebf5f152872d283"
  },
  {
   "cell_type": "code",
   "execution_count": 1,
   "id": "initial_id",
   "metadata": {
    "collapsed": true,
    "ExecuteTime": {
     "end_time": "2023-10-01T09:56:47.553572300Z",
     "start_time": "2023-10-01T09:56:38.994806200Z"
    }
   },
   "outputs": [],
   "source": [
    "import numpy as np\n",
    "import pandas as pd\n",
    "import matplotlib.pyplot as plt\n",
    "from trainer_lib import load_country_wide_dataset\n",
    "from sklearn.ensemble import RandomForestRegressor\n",
    "from sklearn.model_selection import TimeSeriesSplit, GridSearchCV, cross_val_score\n",
    "# https://scikit-learn.org/stable/modules/generated/sklearn.model_selection.GridSearchCV.html\n",
    "import os\n",
    "\n",
    "np.random.seed(2909231846)\n",
    "randomstate = np.random.RandomState(131002)"
   ]
  },
  {
   "cell_type": "markdown",
   "source": [
    "### Load data"
   ],
   "metadata": {
    "collapsed": false
   },
   "id": "13a1460cfaa9c09d"
  },
  {
   "cell_type": "code",
   "execution_count": 2,
   "outputs": [],
   "source": [
    "df: pd.DataFrame = load_country_wide_dataset('../data/country_data.csv')\n",
    "\n",
    "X = df.to_numpy(dtype=np.float32)\n",
    "y = df['el_load'].to_numpy(dtype=np.float32)\n",
    "rf_X = np.zeros((len(X)-24-3, 24*X.shape[1]))\n",
    "rf_y = np.zeros((len(X)-24-3, 3))\n",
    "for i in range(len(X)-24-3):\n",
    "    rf_X[i] = X[i:i+24].flatten()\n",
    "    rf_y[i] = y[i+24:i+24+3]"
   ],
   "metadata": {
    "collapsed": false,
    "ExecuteTime": {
     "end_time": "2023-10-01T09:56:47.948325300Z",
     "start_time": "2023-10-01T09:56:47.551571Z"
    }
   },
   "id": "8e003afbad9fd2a5"
  },
  {
   "cell_type": "markdown",
   "source": [
    "### Grid search"
   ],
   "metadata": {
    "collapsed": false
   },
   "id": "4e193fe77f23b869"
  },
  {
   "cell_type": "markdown",
   "source": [
    "I'll first use grid search to get an idea of how to tune the parameters, then I'll go ahead and define some myself."
   ],
   "metadata": {
    "collapsed": false
   },
   "id": "4726d245632d5ca7"
  },
  {
   "cell_type": "code",
   "execution_count": 3,
   "outputs": [
    {
     "name": "stdout",
     "output_type": "stream",
     "text": [
      "Number of CPUs in the system: 12, n_jobs will be set to 10\n"
     ]
    }
   ],
   "source": [
    "n_cpu = os.cpu_count()\n",
    "print(f\"Number of CPUs in the system: {n_cpu}, n_jobs will be set to {n_cpu-2}\")\n",
    "\n",
    "tscv = TimeSeriesSplit(n_splits=6)\n",
    "split = tscv.split(rf_X, rf_y)"
   ],
   "metadata": {
    "collapsed": false,
    "ExecuteTime": {
     "end_time": "2023-10-01T09:56:52.469664400Z",
     "start_time": "2023-10-01T09:56:52.459409Z"
    }
   },
   "id": "6656aca522988f95"
  },
  {
   "cell_type": "code",
   "execution_count": 12,
   "outputs": [
    {
     "name": "stdout",
     "output_type": "stream",
     "text": [
      "Number of CPUs in the system: 12, n_jobs will be set to 10\n",
      "Fitting 6 folds for each of 24 candidates, totalling 144 fits\n",
      "[CV 1/6] END max_depth=5, max_features=log2, min_samples_split=2, n_estimators=150;, score=(train=-205.135, test=-254.296) total time=   0.5s\n",
      "[CV 2/6] END max_depth=5, max_features=log2, min_samples_split=2, n_estimators=150;, score=(train=-220.561, test=-236.658) total time=   0.9s\n",
      "[CV 3/6] END max_depth=5, max_features=log2, min_samples_split=2, n_estimators=150;, score=(train=-222.252, test=-275.117) total time=   1.3s\n",
      "[CV 4/6] END max_depth=5, max_features=log2, min_samples_split=2, n_estimators=150;, score=(train=-230.289, test=-320.868) total time=   2.0s\n",
      "[CV 5/6] END max_depth=5, max_features=log2, min_samples_split=2, n_estimators=150;, score=(train=-241.919, test=-327.881) total time=   2.5s\n",
      "[CV 6/6] END max_depth=5, max_features=log2, min_samples_split=2, n_estimators=150;, score=(train=-254.395, test=-338.429) total time=   2.9s\n",
      "[CV 1/6] END max_depth=5, max_features=log2, min_samples_split=2, n_estimators=300;, score=(train=-204.813, test=-253.445) total time=   0.9s\n",
      "[CV 2/6] END max_depth=5, max_features=log2, min_samples_split=2, n_estimators=300;, score=(train=-219.349, test=-234.435) total time=   1.8s\n",
      "[CV 3/6] END max_depth=5, max_features=log2, min_samples_split=2, n_estimators=300;, score=(train=-221.403, test=-273.462) total time=   2.8s\n",
      "[CV 4/6] END max_depth=5, max_features=log2, min_samples_split=2, n_estimators=300;, score=(train=-229.183, test=-320.694) total time=   3.6s\n",
      "[CV 5/6] END max_depth=5, max_features=log2, min_samples_split=2, n_estimators=300;, score=(train=-240.338, test=-325.638) total time=   4.6s\n",
      "[CV 6/6] END max_depth=5, max_features=log2, min_samples_split=2, n_estimators=300;, score=(train=-252.930, test=-340.380) total time=   5.5s\n",
      "[CV 1/6] END max_depth=5, max_features=log2, min_samples_split=5, n_estimators=150;, score=(train=-204.683, test=-253.878) total time=   0.4s\n",
      "[CV 2/6] END max_depth=5, max_features=log2, min_samples_split=5, n_estimators=150;, score=(train=-220.565, test=-236.674) total time=   0.9s\n",
      "[CV 3/6] END max_depth=5, max_features=log2, min_samples_split=5, n_estimators=150;, score=(train=-222.271, test=-274.999) total time=   1.3s\n",
      "[CV 4/6] END max_depth=5, max_features=log2, min_samples_split=5, n_estimators=150;, score=(train=-230.185, test=-320.716) total time=   1.8s\n",
      "[CV 5/6] END max_depth=5, max_features=log2, min_samples_split=5, n_estimators=150;, score=(train=-241.890, test=-327.871) total time=   2.3s\n",
      "[CV 6/6] END max_depth=5, max_features=log2, min_samples_split=5, n_estimators=150;, score=(train=-254.395, test=-338.429) total time=   2.8s\n",
      "[CV 1/6] END max_depth=5, max_features=log2, min_samples_split=5, n_estimators=300;, score=(train=-204.567, test=-253.220) total time=   0.9s\n",
      "[CV 2/6] END max_depth=5, max_features=log2, min_samples_split=5, n_estimators=300;, score=(train=-219.352, test=-234.443) total time=   1.7s\n",
      "[CV 3/6] END max_depth=5, max_features=log2, min_samples_split=5, n_estimators=300;, score=(train=-221.418, test=-273.410) total time=   2.6s\n",
      "[CV 4/6] END max_depth=5, max_features=log2, min_samples_split=5, n_estimators=300;, score=(train=-229.174, test=-320.702) total time=   3.8s\n",
      "[CV 5/6] END max_depth=5, max_features=log2, min_samples_split=5, n_estimators=300;, score=(train=-240.166, test=-325.421) total time=   5.4s\n",
      "[CV 6/6] END max_depth=5, max_features=log2, min_samples_split=5, n_estimators=300;, score=(train=-252.930, test=-340.380) total time=   6.1s\n",
      "[CV 1/6] END max_depth=5, max_features=sqrt, min_samples_split=2, n_estimators=150;, score=(train=-183.106, test=-231.172) total time=   0.8s\n",
      "[CV 2/6] END max_depth=5, max_features=sqrt, min_samples_split=2, n_estimators=150;, score=(train=-195.794, test=-205.029) total time=   1.7s\n",
      "[CV 3/6] END max_depth=5, max_features=sqrt, min_samples_split=2, n_estimators=150;, score=(train=-199.745, test=-243.916) total time=   2.6s\n",
      "[CV 4/6] END max_depth=5, max_features=sqrt, min_samples_split=2, n_estimators=150;, score=(train=-206.900, test=-290.182) total time=   3.6s\n",
      "[CV 5/6] END max_depth=5, max_features=sqrt, min_samples_split=2, n_estimators=150;, score=(train=-215.820, test=-291.429) total time=   4.5s\n",
      "[CV 6/6] END max_depth=5, max_features=sqrt, min_samples_split=2, n_estimators=150;, score=(train=-226.272, test=-310.853) total time=   5.4s\n",
      "[CV 1/6] END max_depth=5, max_features=sqrt, min_samples_split=2, n_estimators=300;, score=(train=-182.449, test=-230.286) total time=   1.7s\n",
      "[CV 2/6] END max_depth=5, max_features=sqrt, min_samples_split=2, n_estimators=300;, score=(train=-195.327, test=-204.583) total time=   3.3s\n",
      "[CV 3/6] END max_depth=5, max_features=sqrt, min_samples_split=2, n_estimators=300;, score=(train=-197.917, test=-241.578) total time=   5.1s\n",
      "[CV 4/6] END max_depth=5, max_features=sqrt, min_samples_split=2, n_estimators=300;, score=(train=-205.135, test=-289.056) total time=   7.8s\n",
      "[CV 5/6] END max_depth=5, max_features=sqrt, min_samples_split=2, n_estimators=300;, score=(train=-213.896, test=-289.030) total time=   9.8s\n",
      "[CV 6/6] END max_depth=5, max_features=sqrt, min_samples_split=2, n_estimators=300;, score=(train=-225.021, test=-309.698) total time=  11.4s\n",
      "[CV 1/6] END max_depth=5, max_features=sqrt, min_samples_split=5, n_estimators=150;, score=(train=-183.157, test=-231.276) total time=   0.9s\n",
      "[CV 2/6] END max_depth=5, max_features=sqrt, min_samples_split=5, n_estimators=150;, score=(train=-195.794, test=-205.029) total time=   1.7s\n",
      "[CV 3/6] END max_depth=5, max_features=sqrt, min_samples_split=5, n_estimators=150;, score=(train=-199.748, test=-243.933) total time=   2.6s\n",
      "[CV 4/6] END max_depth=5, max_features=sqrt, min_samples_split=5, n_estimators=150;, score=(train=-206.900, test=-290.182) total time=   4.2s\n",
      "[CV 5/6] END max_depth=5, max_features=sqrt, min_samples_split=5, n_estimators=150;, score=(train=-215.822, test=-291.432) total time=   4.4s\n",
      "[CV 6/6] END max_depth=5, max_features=sqrt, min_samples_split=5, n_estimators=150;, score=(train=-226.269, test=-310.856) total time=   5.4s\n",
      "[CV 1/6] END max_depth=5, max_features=sqrt, min_samples_split=5, n_estimators=300;, score=(train=-182.469, test=-230.341) total time=   1.6s\n",
      "[CV 2/6] END max_depth=5, max_features=sqrt, min_samples_split=5, n_estimators=300;, score=(train=-195.330, test=-204.615) total time=   3.3s\n",
      "[CV 3/6] END max_depth=5, max_features=sqrt, min_samples_split=5, n_estimators=300;, score=(train=-197.969, test=-241.715) total time=   5.3s\n",
      "[CV 4/6] END max_depth=5, max_features=sqrt, min_samples_split=5, n_estimators=300;, score=(train=-205.135, test=-289.056) total time=   6.9s\n",
      "[CV 5/6] END max_depth=5, max_features=sqrt, min_samples_split=5, n_estimators=300;, score=(train=-213.897, test=-289.031) total time=   8.7s\n",
      "[CV 6/6] END max_depth=5, max_features=sqrt, min_samples_split=5, n_estimators=300;, score=(train=-225.019, test=-309.698) total time=  11.8s\n",
      "[CV 1/6] END max_depth=5, max_features=0.5, min_samples_split=2, n_estimators=150;, score=(train=-148.110, test=-188.113) total time=   6.6s\n",
      "[CV 2/6] END max_depth=5, max_features=0.5, min_samples_split=2, n_estimators=150;, score=(train=-153.796, test=-159.991) total time=  13.6s\n",
      "[CV 3/6] END max_depth=5, max_features=0.5, min_samples_split=2, n_estimators=150;, score=(train=-154.542, test=-180.726) total time=  20.5s\n",
      "[CV 4/6] END max_depth=5, max_features=0.5, min_samples_split=2, n_estimators=150;, score=(train=-163.284, test=-210.531) total time=  28.5s\n",
      "[CV 5/6] END max_depth=5, max_features=0.5, min_samples_split=2, n_estimators=150;, score=(train=-169.104, test=-214.761) total time=  36.4s\n",
      "[CV 6/6] END max_depth=5, max_features=0.5, min_samples_split=2, n_estimators=150;, score=(train=-175.019, test=-214.367) total time=  43.3s\n",
      "[CV 1/6] END max_depth=5, max_features=0.5, min_samples_split=2, n_estimators=300;, score=(train=-147.980, test=-188.249) total time=  13.6s\n",
      "[CV 2/6] END max_depth=5, max_features=0.5, min_samples_split=2, n_estimators=300;, score=(train=-153.654, test=-159.552) total time=  27.4s\n",
      "[CV 3/6] END max_depth=5, max_features=0.5, min_samples_split=2, n_estimators=300;, score=(train=-154.150, test=-180.646) total time=  42.0s\n",
      "[CV 4/6] END max_depth=5, max_features=0.5, min_samples_split=2, n_estimators=300;, score=(train=-161.944, test=-208.751) total time=  56.5s\n",
      "[CV 5/6] END max_depth=5, max_features=0.5, min_samples_split=2, n_estimators=300;, score=(train=-168.186, test=-214.600) total time= 1.2min\n",
      "[CV 6/6] END max_depth=5, max_features=0.5, min_samples_split=2, n_estimators=300;, score=(train=-174.381, test=-214.166) total time= 1.4min\n",
      "[CV 1/6] END max_depth=5, max_features=0.5, min_samples_split=5, n_estimators=150;, score=(train=-148.110, test=-188.113) total time=   6.6s\n",
      "[CV 2/6] END max_depth=5, max_features=0.5, min_samples_split=5, n_estimators=150;, score=(train=-153.788, test=-160.039) total time=  13.9s\n",
      "[CV 3/6] END max_depth=5, max_features=0.5, min_samples_split=5, n_estimators=150;, score=(train=-154.497, test=-180.560) total time=  21.3s\n",
      "[CV 4/6] END max_depth=5, max_features=0.5, min_samples_split=5, n_estimators=150;, score=(train=-163.284, test=-210.531) total time=  28.4s\n",
      "[CV 5/6] END max_depth=5, max_features=0.5, min_samples_split=5, n_estimators=150;, score=(train=-169.104, test=-214.761) total time=  35.9s\n",
      "[CV 6/6] END max_depth=5, max_features=0.5, min_samples_split=5, n_estimators=150;, score=(train=-175.019, test=-214.367) total time=  44.1s\n",
      "[CV 1/6] END max_depth=5, max_features=0.5, min_samples_split=5, n_estimators=300;, score=(train=-147.980, test=-188.249) total time=  13.4s\n",
      "[CV 2/6] END max_depth=5, max_features=0.5, min_samples_split=5, n_estimators=300;, score=(train=-153.727, test=-159.697) total time=  27.3s\n",
      "[CV 3/6] END max_depth=5, max_features=0.5, min_samples_split=5, n_estimators=300;, score=(train=-154.102, test=-180.509) total time=  42.8s\n",
      "[CV 4/6] END max_depth=5, max_features=0.5, min_samples_split=5, n_estimators=300;, score=(train=-161.944, test=-208.751) total time= 1.0min\n",
      "[CV 5/6] END max_depth=5, max_features=0.5, min_samples_split=5, n_estimators=300;, score=(train=-168.186, test=-214.600) total time= 1.3min\n",
      "[CV 6/6] END max_depth=5, max_features=0.5, min_samples_split=5, n_estimators=300;, score=(train=-174.381, test=-214.166) total time= 1.5min\n",
      "[CV 1/6] END max_depth=15, max_features=log2, min_samples_split=2, n_estimators=150;, score=(train=-39.643, test=-156.163) total time=   1.5s\n",
      "[CV 2/6] END max_depth=15, max_features=log2, min_samples_split=2, n_estimators=150;, score=(train=-50.035, test=-123.991) total time=   3.2s\n",
      "[CV 3/6] END max_depth=15, max_features=log2, min_samples_split=2, n_estimators=150;, score=(train=-52.349, test=-135.176) total time=   4.6s\n",
      "[CV 4/6] END max_depth=15, max_features=log2, min_samples_split=2, n_estimators=150;, score=(train=-60.398, test=-170.925) total time=   5.8s\n",
      "[CV 5/6] END max_depth=15, max_features=log2, min_samples_split=2, n_estimators=150;, score=(train=-62.981, test=-191.524) total time=   7.5s\n",
      "[CV 6/6] END max_depth=15, max_features=log2, min_samples_split=2, n_estimators=150;, score=(train=-71.156, test=-224.875) total time=   8.8s\n",
      "[CV 1/6] END max_depth=15, max_features=log2, min_samples_split=2, n_estimators=300;, score=(train=-39.160, test=-155.086) total time=   3.0s\n",
      "[CV 2/6] END max_depth=15, max_features=log2, min_samples_split=2, n_estimators=300;, score=(train=-49.327, test=-122.756) total time=   5.6s\n",
      "[CV 3/6] END max_depth=15, max_features=log2, min_samples_split=2, n_estimators=300;, score=(train=-52.181, test=-135.136) total time=   9.0s\n",
      "[CV 4/6] END max_depth=15, max_features=log2, min_samples_split=2, n_estimators=300;, score=(train=-59.244, test=-169.842) total time=  11.3s\n",
      "[CV 5/6] END max_depth=15, max_features=log2, min_samples_split=2, n_estimators=300;, score=(train=-62.531, test=-190.344) total time=  13.7s\n",
      "[CV 6/6] END max_depth=15, max_features=log2, min_samples_split=2, n_estimators=300;, score=(train=-70.695, test=-222.694) total time=  17.0s\n",
      "[CV 1/6] END max_depth=15, max_features=log2, min_samples_split=5, n_estimators=150;, score=(train=-46.860, test=-156.469) total time=   1.3s\n",
      "[CV 2/6] END max_depth=15, max_features=log2, min_samples_split=5, n_estimators=150;, score=(train=-56.384, test=-126.326) total time=   2.9s\n",
      "[CV 3/6] END max_depth=15, max_features=log2, min_samples_split=5, n_estimators=150;, score=(train=-57.580, test=-137.227) total time=   4.3s\n",
      "[CV 4/6] END max_depth=15, max_features=log2, min_samples_split=5, n_estimators=150;, score=(train=-63.764, test=-170.940) total time=   5.6s\n",
      "[CV 5/6] END max_depth=15, max_features=log2, min_samples_split=5, n_estimators=150;, score=(train=-66.983, test=-192.293) total time=   6.9s\n",
      "[CV 6/6] END max_depth=15, max_features=log2, min_samples_split=5, n_estimators=150;, score=(train=-74.580, test=-223.910) total time=   8.8s\n",
      "[CV 1/6] END max_depth=15, max_features=log2, min_samples_split=5, n_estimators=300;, score=(train=-46.768, test=-156.148) total time=   2.7s\n",
      "[CV 2/6] END max_depth=15, max_features=log2, min_samples_split=5, n_estimators=300;, score=(train=-55.805, test=-124.388) total time=   5.3s\n",
      "[CV 3/6] END max_depth=15, max_features=log2, min_samples_split=5, n_estimators=300;, score=(train=-57.239, test=-136.201) total time=   8.0s\n",
      "[CV 4/6] END max_depth=15, max_features=log2, min_samples_split=5, n_estimators=300;, score=(train=-62.888, test=-169.758) total time=  10.5s\n",
      "[CV 5/6] END max_depth=15, max_features=log2, min_samples_split=5, n_estimators=300;, score=(train=-66.343, test=-191.510) total time=  13.2s\n",
      "[CV 6/6] END max_depth=15, max_features=log2, min_samples_split=5, n_estimators=300;, score=(train=-74.087, test=-223.888) total time=  16.2s\n",
      "[CV 1/6] END max_depth=15, max_features=sqrt, min_samples_split=2, n_estimators=150;, score=(train=-34.874, test=-141.289) total time=   2.7s\n",
      "[CV 2/6] END max_depth=15, max_features=sqrt, min_samples_split=2, n_estimators=150;, score=(train=-42.663, test=-106.156) total time=   5.4s\n",
      "[CV 3/6] END max_depth=15, max_features=sqrt, min_samples_split=2, n_estimators=150;, score=(train=-44.973, test=-119.573) total time=   8.5s\n",
      "[CV 4/6] END max_depth=15, max_features=sqrt, min_samples_split=2, n_estimators=150;, score=(train=-49.788, test=-151.534) total time=  11.4s\n",
      "[CV 5/6] END max_depth=15, max_features=sqrt, min_samples_split=2, n_estimators=150;, score=(train=-53.643, test=-168.113) total time=  13.7s\n",
      "[CV 6/6] END max_depth=15, max_features=sqrt, min_samples_split=2, n_estimators=150;, score=(train=-60.637, test=-196.319) total time=  16.3s\n",
      "[CV 1/6] END max_depth=15, max_features=sqrt, min_samples_split=2, n_estimators=300;, score=(train=-34.450, test=-140.343) total time=   5.4s\n",
      "[CV 2/6] END max_depth=15, max_features=sqrt, min_samples_split=2, n_estimators=300;, score=(train=-42.370, test=-104.972) total time=  11.2s\n",
      "[CV 3/6] END max_depth=15, max_features=sqrt, min_samples_split=2, n_estimators=300;, score=(train=-44.648, test=-119.250) total time=  17.2s\n",
      "[CV 4/6] END max_depth=15, max_features=sqrt, min_samples_split=2, n_estimators=300;, score=(train=-49.460, test=-150.688) total time=  22.7s\n",
      "[CV 5/6] END max_depth=15, max_features=sqrt, min_samples_split=2, n_estimators=300;, score=(train=-53.078, test=-167.392) total time=  28.2s\n",
      "[CV 6/6] END max_depth=15, max_features=sqrt, min_samples_split=2, n_estimators=300;, score=(train=-60.238, test=-197.101) total time=  33.3s\n",
      "[CV 1/6] END max_depth=15, max_features=sqrt, min_samples_split=5, n_estimators=150;, score=(train=-41.324, test=-142.316) total time=   2.4s\n",
      "[CV 2/6] END max_depth=15, max_features=sqrt, min_samples_split=5, n_estimators=150;, score=(train=-47.854, test=-104.804) total time=   5.1s\n",
      "[CV 3/6] END max_depth=15, max_features=sqrt, min_samples_split=5, n_estimators=150;, score=(train=-48.931, test=-119.466) total time=   8.2s\n",
      "[CV 4/6] END max_depth=15, max_features=sqrt, min_samples_split=5, n_estimators=150;, score=(train=-53.676, test=-153.536) total time=  10.8s\n",
      "[CV 5/6] END max_depth=15, max_features=sqrt, min_samples_split=5, n_estimators=150;, score=(train=-56.367, test=-168.954) total time=  13.5s\n",
      "[CV 6/6] END max_depth=15, max_features=sqrt, min_samples_split=5, n_estimators=150;, score=(train=-63.504, test=-198.474) total time=  16.8s\n",
      "[CV 1/6] END max_depth=15, max_features=sqrt, min_samples_split=5, n_estimators=300;, score=(train=-41.014, test=-141.622) total time=   5.8s\n",
      "[CV 2/6] END max_depth=15, max_features=sqrt, min_samples_split=5, n_estimators=300;, score=(train=-47.295, test=-104.311) total time=  11.8s\n",
      "[CV 3/6] END max_depth=15, max_features=sqrt, min_samples_split=5, n_estimators=300;, score=(train=-48.359, test=-118.785) total time=  19.8s\n",
      "[CV 4/6] END max_depth=15, max_features=sqrt, min_samples_split=5, n_estimators=300;, score=(train=-53.386, test=-152.837) total time=  23.3s\n",
      "[CV 5/6] END max_depth=15, max_features=sqrt, min_samples_split=5, n_estimators=300;, score=(train=-55.878, test=-168.080) total time=  28.2s\n",
      "[CV 6/6] END max_depth=15, max_features=sqrt, min_samples_split=5, n_estimators=300;, score=(train=-62.968, test=-197.497) total time=  34.9s\n",
      "[CV 1/6] END max_depth=15, max_features=0.5, min_samples_split=2, n_estimators=150;, score=(train=-25.786, test=-108.771) total time=  22.4s\n",
      "[CV 2/6] END max_depth=15, max_features=0.5, min_samples_split=2, n_estimators=150;, score=(train=-27.912, test=-71.934) total time=  45.5s\n",
      "[CV 3/6] END max_depth=15, max_features=0.5, min_samples_split=2, n_estimators=150;, score=(train=-28.860, test=-87.070) total time= 1.2min\n",
      "[CV 4/6] END max_depth=15, max_features=0.5, min_samples_split=2, n_estimators=150;, score=(train=-32.222, test=-102.895) total time= 1.6min\n",
      "[CV 5/6] END max_depth=15, max_features=0.5, min_samples_split=2, n_estimators=150;, score=(train=-35.336, test=-131.398) total time= 2.0min\n",
      "[CV 6/6] END max_depth=15, max_features=0.5, min_samples_split=2, n_estimators=150;, score=(train=-40.746, test=-136.272) total time= 2.4min\n",
      "[CV 1/6] END max_depth=15, max_features=0.5, min_samples_split=2, n_estimators=300;, score=(train=-25.574, test=-108.606) total time=  43.5s\n",
      "[CV 2/6] END max_depth=15, max_features=0.5, min_samples_split=2, n_estimators=300;, score=(train=-27.707, test=-71.551) total time= 1.6min\n",
      "[CV 3/6] END max_depth=15, max_features=0.5, min_samples_split=2, n_estimators=300;, score=(train=-28.589, test=-86.918) total time= 2.2min\n",
      "[CV 4/6] END max_depth=15, max_features=0.5, min_samples_split=2, n_estimators=300;, score=(train=-32.002, test=-102.438) total time= 2.9min\n",
      "[CV 5/6] END max_depth=15, max_features=0.5, min_samples_split=2, n_estimators=300;, score=(train=-35.134, test=-130.769) total time= 3.7min\n",
      "[CV 6/6] END max_depth=15, max_features=0.5, min_samples_split=2, n_estimators=300;, score=(train=-40.573, test=-136.084) total time= 4.4min\n",
      "[CV 1/6] END max_depth=15, max_features=0.5, min_samples_split=5, n_estimators=150;, score=(train=-31.106, test=-109.253) total time=  19.0s\n",
      "[CV 2/6] END max_depth=15, max_features=0.5, min_samples_split=5, n_estimators=150;, score=(train=-32.096, test=-71.870) total time=  39.2s\n",
      "[CV 3/6] END max_depth=15, max_features=0.5, min_samples_split=5, n_estimators=150;, score=(train=-32.017, test=-87.263) total time= 1.0min\n",
      "[CV 4/6] END max_depth=15, max_features=0.5, min_samples_split=5, n_estimators=150;, score=(train=-34.898, test=-102.191) total time= 1.4min\n",
      "[CV 5/6] END max_depth=15, max_features=0.5, min_samples_split=5, n_estimators=150;, score=(train=-37.827, test=-131.912) total time= 1.7min\n",
      "[CV 6/6] END max_depth=15, max_features=0.5, min_samples_split=5, n_estimators=150;, score=(train=-43.089, test=-135.830) total time= 2.1min\n",
      "[CV 1/6] END max_depth=15, max_features=0.5, min_samples_split=5, n_estimators=300;, score=(train=-30.884, test=-109.447) total time=  37.1s\n",
      "[CV 2/6] END max_depth=15, max_features=0.5, min_samples_split=5, n_estimators=300;, score=(train=-31.809, test=-71.777) total time= 1.3min\n",
      "[CV 3/6] END max_depth=15, max_features=0.5, min_samples_split=5, n_estimators=300;, score=(train=-31.818, test=-87.216) total time= 2.0min\n",
      "[CV 4/6] END max_depth=15, max_features=0.5, min_samples_split=5, n_estimators=300;, score=(train=-34.796, test=-102.873) total time= 2.8min\n",
      "[CV 5/6] END max_depth=15, max_features=0.5, min_samples_split=5, n_estimators=300;, score=(train=-37.738, test=-131.800) total time= 3.5min\n",
      "[CV 6/6] END max_depth=15, max_features=0.5, min_samples_split=5, n_estimators=300;, score=(train=-42.890, test=-136.027) total time= 4.2min\n"
     ]
    }
   ],
   "source": [
    "param_grid = {\n",
    "    'n_estimators': [150, 300],\n",
    "    'max_depth': [5, 15],\n",
    "    'min_samples_split': [2, 5],\n",
    "    'max_features': ['log2', 'sqrt', 0.5],\n",
    "}\n",
    "# Fitting 6 folds for each of 24 candidates, totalling 144 fits\n",
    "\n",
    "grid_search = GridSearchCV(\n",
    "    RandomForestRegressor(random_state=randomstate, n_jobs=n_cpu-2),\n",
    "    scoring='neg_root_mean_squared_error',\n",
    "    param_grid=param_grid,\n",
    "    cv=split,\n",
    "    verbose=4,\n",
    "    return_train_score=True\n",
    ")\n",
    "\n",
    "results = grid_search.fit(rf_X, rf_y)"
   ],
   "metadata": {
    "collapsed": false,
    "ExecuteTime": {
     "start_time": "2023-09-29T17:07:15.433565900Z"
    }
   },
   "id": "3c16b357ba37642a"
  },
  {
   "cell_type": "code",
   "execution_count": 15,
   "outputs": [
    {
     "name": "stdout",
     "output_type": "stream",
     "text": [
      "Best parameters: {'max_depth': 15, 'max_features': 0.5, 'min_samples_split': 2, 'n_estimators': 300}\n",
      "Best score: -106.06095301049247\n"
     ]
    }
   ],
   "source": [
    "print(f\"Best parameters: {results.best_params_}\")\n",
    "print(f\"Best score: {results.best_score_}\")\n",
    "\n",
    "# Best parameters: {'max_depth': 15, 'max_features': 0.5, 'min_samples_split': 2, 'n_estimators': 300}\n",
    "# Best score: -106.06095301049247"
   ],
   "metadata": {
    "collapsed": false,
    "ExecuteTime": {
     "end_time": "2023-09-29T19:28:12.663868500Z",
     "start_time": "2023-09-29T19:28:12.661350200Z"
    }
   },
   "id": "5cb6c90873d77e0e"
  },
  {
   "cell_type": "markdown",
   "source": [
    "### Estimator number tuning and train size limit"
   ],
   "metadata": {
    "collapsed": false
   },
   "id": "853537b57dd760cb"
  },
  {
   "cell_type": "markdown",
   "source": [
    "300 estimators only barely score better, it might be worth using less.\n",
    "The models seem to fit worse and worse as the trainig data size increases past the 2nd fold, let's try to limit it. Maybe we are looking too far into the past."
   ],
   "metadata": {
    "collapsed": false
   },
   "id": "b026bb4eb49949f7"
  },
  {
   "cell_type": "code",
   "execution_count": 13,
   "outputs": [
    {
     "name": "stdout",
     "output_type": "stream",
     "text": [
      "[CV] END ............................. score: (test=-109.202) total time=  22.0s\n",
      "[CV] END .............................. score: (test=-71.952) total time=  46.4s\n",
      "[CV] END .............................. score: (test=-88.943) total time=  53.8s\n",
      "[CV] END ............................. score: (test=-107.444) total time=  53.2s\n",
      "[CV] END ............................. score: (test=-129.497) total time=  53.3s\n",
      "[CV] END ............................. score: (test=-131.541) total time=  54.2s\n"
     ]
    }
   ],
   "source": [
    "tscv = TimeSeriesSplit(n_splits=6, max_train_size=rf_X.shape[0]//3)\n",
    "split = tscv.split(rf_X, rf_y)\n",
    "\n",
    "score = cross_val_score(\n",
    "    RandomForestRegressor(random_state=randomstate, n_jobs=n_cpu-2, max_depth=15, max_features=0.5, min_samples_split=2, n_estimators=150),\n",
    "    rf_X, rf_y,\n",
    "    scoring='neg_root_mean_squared_error',\n",
    "    cv=split,\n",
    "    verbose=4,\n",
    ")"
   ],
   "metadata": {
    "collapsed": false,
    "ExecuteTime": {
     "end_time": "2023-10-01T10:37:56.338094300Z",
     "start_time": "2023-10-01T10:33:12.792039700Z"
    }
   },
   "id": "e511f536d81c60c3"
  },
  {
   "cell_type": "markdown",
   "source": [
    "There is mild improvement, but not much, I still want to test less estimators and maybe bring back the covid column."
   ],
   "metadata": {
    "collapsed": false
   },
   "id": "c520e3001696ae11"
  },
  {
   "cell_type": "markdown",
   "source": [
    "### Covid column"
   ],
   "metadata": {
    "collapsed": false
   },
   "id": "c3bbd708d20c5413"
  },
  {
   "cell_type": "code",
   "execution_count": 14,
   "outputs": [
    {
     "name": "stdout",
     "output_type": "stream",
     "text": [
      "Fitting 6 folds for each of 6 candidates, totalling 36 fits\n",
      "[CV 1/6] END max_depth=15, max_features=0.5, min_samples_split=2, n_estimators=50;, score=(train=-27.180, test=-110.031) total time=   7.5s\n",
      "[CV 2/6] END max_depth=15, max_features=0.5, min_samples_split=2, n_estimators=50;, score=(train=-29.254, test=-73.884) total time=  15.5s\n",
      "[CV 3/6] END max_depth=15, max_features=0.5, min_samples_split=2, n_estimators=50;, score=(train=-29.810, test=-88.235) total time=  23.4s\n",
      "[CV 4/6] END max_depth=15, max_features=0.5, min_samples_split=2, n_estimators=50;, score=(train=-33.397, test=-105.322) total time=  26.9s\n",
      "[CV 5/6] END max_depth=15, max_features=0.5, min_samples_split=2, n_estimators=50;, score=(train=-36.559, test=-130.972) total time=  27.7s\n",
      "[CV 6/6] END max_depth=15, max_features=0.5, min_samples_split=2, n_estimators=50;, score=(train=-42.746, test=-136.094) total time=  27.7s\n",
      "[CV 1/6] END max_depth=15, max_features=0.5, min_samples_split=2, n_estimators=100;, score=(train=-26.195, test=-110.050) total time=  15.2s\n",
      "[CV 2/6] END max_depth=15, max_features=0.5, min_samples_split=2, n_estimators=100;, score=(train=-28.263, test=-72.156) total time=  30.6s\n",
      "[CV 3/6] END max_depth=15, max_features=0.5, min_samples_split=2, n_estimators=100;, score=(train=-29.046, test=-87.510) total time=  45.9s\n",
      "[CV 4/6] END max_depth=15, max_features=0.5, min_samples_split=2, n_estimators=100;, score=(train=-32.747, test=-104.544) total time=  52.8s\n",
      "[CV 5/6] END max_depth=15, max_features=0.5, min_samples_split=2, n_estimators=100;, score=(train=-35.732, test=-130.035) total time=  53.8s\n",
      "[CV 6/6] END max_depth=15, max_features=0.5, min_samples_split=2, n_estimators=100;, score=(train=-41.879, test=-134.340) total time=  54.7s\n",
      "[CV 1/6] END max_depth=15, max_features=0.5, min_samples_split=2, n_estimators=150;, score=(train=-25.870, test=-109.202) total time=  22.1s\n",
      "[CV 2/6] END max_depth=15, max_features=0.5, min_samples_split=2, n_estimators=150;, score=(train=-28.024, test=-71.952) total time=  45.0s\n",
      "[CV 3/6] END max_depth=15, max_features=0.5, min_samples_split=2, n_estimators=150;, score=(train=-28.905, test=-87.442) total time= 1.1min\n",
      "[CV 4/6] END max_depth=15, max_features=0.5, min_samples_split=2, n_estimators=150;, score=(train=-32.491, test=-103.542) total time= 1.3min\n",
      "[CV 5/6] END max_depth=15, max_features=0.5, min_samples_split=2, n_estimators=150;, score=(train=-35.471, test=-129.720) total time= 1.4min\n",
      "[CV 6/6] END max_depth=15, max_features=0.5, min_samples_split=2, n_estimators=150;, score=(train=-41.713, test=-134.306) total time= 1.3min\n",
      "[CV 1/6] END max_depth=15, max_features=1.0, min_samples_split=2, n_estimators=50;, score=(train=-27.443, test=-109.139) total time=  15.0s\n",
      "[CV 2/6] END max_depth=15, max_features=1.0, min_samples_split=2, n_estimators=50;, score=(train=-27.565, test=-73.136) total time=  30.4s\n",
      "[CV 3/6] END max_depth=15, max_features=1.0, min_samples_split=2, n_estimators=50;, score=(train=-28.710, test=-91.088) total time=  46.4s\n",
      "[CV 4/6] END max_depth=15, max_features=1.0, min_samples_split=2, n_estimators=50;, score=(train=-32.621, test=-104.209) total time=  54.1s\n",
      "[CV 5/6] END max_depth=15, max_features=1.0, min_samples_split=2, n_estimators=50;, score=(train=-37.559, test=-134.356) total time=  57.0s\n",
      "[CV 6/6] END max_depth=15, max_features=1.0, min_samples_split=2, n_estimators=50;, score=(train=-44.590, test=-134.417) total time=  55.0s\n",
      "[CV 1/6] END max_depth=15, max_features=1.0, min_samples_split=2, n_estimators=100;, score=(train=-26.351, test=-108.538) total time=  30.0s\n",
      "[CV 2/6] END max_depth=15, max_features=1.0, min_samples_split=2, n_estimators=100;, score=(train=-26.712, test=-72.634) total time= 1.0min\n",
      "[CV 3/6] END max_depth=15, max_features=1.0, min_samples_split=2, n_estimators=100;, score=(train=-28.116, test=-89.766) total time= 1.6min\n",
      "[CV 4/6] END max_depth=15, max_features=1.0, min_samples_split=2, n_estimators=100;, score=(train=-32.192, test=-103.396) total time= 1.8min\n",
      "[CV 5/6] END max_depth=15, max_features=1.0, min_samples_split=2, n_estimators=100;, score=(train=-37.069, test=-133.854) total time= 1.8min\n",
      "[CV 6/6] END max_depth=15, max_features=1.0, min_samples_split=2, n_estimators=100;, score=(train=-43.949, test=-133.876) total time= 1.8min\n",
      "[CV 1/6] END max_depth=15, max_features=1.0, min_samples_split=2, n_estimators=150;, score=(train=-26.005, test=-108.166) total time=  43.7s\n",
      "[CV 2/6] END max_depth=15, max_features=1.0, min_samples_split=2, n_estimators=150;, score=(train=-26.530, test=-72.460) total time= 1.5min\n",
      "[CV 3/6] END max_depth=15, max_features=1.0, min_samples_split=2, n_estimators=150;, score=(train=-27.878, test=-89.415) total time= 2.3min\n",
      "[CV 4/6] END max_depth=15, max_features=1.0, min_samples_split=2, n_estimators=150;, score=(train=-32.058, test=-103.450) total time= 2.6min\n",
      "[CV 5/6] END max_depth=15, max_features=1.0, min_samples_split=2, n_estimators=150;, score=(train=-36.882, test=-133.782) total time= 2.7min\n",
      "[CV 6/6] END max_depth=15, max_features=1.0, min_samples_split=2, n_estimators=150;, score=(train=-43.760, test=-133.697) total time= 2.7min\n"
     ]
    }
   ],
   "source": [
    "df['covid'] = 0\n",
    "df.loc['2020-03-11 00:00:00':'2022-03-7 23:00:00', 'covid'] = 1\n",
    "df['covid'] = df['covid'].astype(float)\n",
    "\n",
    "X = df.to_numpy(dtype=np.float32)\n",
    "y = df['el_load'].to_numpy(dtype=np.float32)\n",
    "rf_X = np.zeros((len(X)-24-3, 24*X.shape[1]))\n",
    "rf_y = np.zeros((len(X)-24-3, 3))\n",
    "for i in range(len(X)-24-3):\n",
    "    rf_X[i] = X[i:i+24].flatten()\n",
    "    rf_y[i] = y[i+24:i+24+3]\n",
    "    \n",
    "tscv = TimeSeriesSplit(n_splits=6, max_train_size=rf_X.shape[0]//2) # I'll give it more train data than before\n",
    "split = tscv.split(rf_X, rf_y)\n",
    "    \n",
    "param_grid = {\n",
    "    'n_estimators': [50, 100, 150],\n",
    "    'max_depth': [15],\n",
    "    'min_samples_split': [2],\n",
    "    'max_features': [0.5, 1.0],\n",
    "}\n",
    "\n",
    "grid_search = GridSearchCV(\n",
    "    RandomForestRegressor(random_state=randomstate, n_jobs=n_cpu-2),\n",
    "    scoring='neg_root_mean_squared_error',\n",
    "    param_grid=param_grid,\n",
    "    cv=split,\n",
    "    verbose=4,\n",
    "    return_train_score=True\n",
    ")\n",
    "\n",
    "results = grid_search.fit(rf_X, rf_y)"
   ],
   "metadata": {
    "collapsed": false,
    "ExecuteTime": {
     "end_time": "2023-10-01T11:18:44.060871200Z",
     "start_time": "2023-10-01T10:37:56.337094400Z"
    }
   },
   "id": "24a7952af770b533"
  },
  {
   "cell_type": "code",
   "execution_count": 16,
   "outputs": [
    {
     "name": "stdout",
     "output_type": "stream",
     "text": [
      "Best parameters: {'max_depth': 15, 'max_features': 0.5, 'min_samples_split': 2, 'n_estimators': 150}\n",
      "Best score: -106.02729310577672\n"
     ]
    }
   ],
   "source": [
    "print(f\"Best parameters: {results.best_params_}\")\n",
    "print(f\"Best score: {results.best_score_}\")"
   ],
   "metadata": {
    "collapsed": false,
    "ExecuteTime": {
     "end_time": "2023-10-01T11:29:41.341763200Z",
     "start_time": "2023-10-01T11:29:41.332027100Z"
    }
   },
   "id": "d00cc85fc6b47294"
  },
  {
   "cell_type": "markdown",
   "source": [
    "### Test size tuning"
   ],
   "metadata": {
    "collapsed": false
   },
   "id": "7019ea007708dee1"
  },
  {
   "cell_type": "markdown",
   "source": [
    "It might also be worth to check smaller test sizes, since we can retrain the model per month for example. I suspect as we move away from the training data, predictions get worse."
   ],
   "metadata": {
    "collapsed": false
   },
   "id": "839bfaf45a4abf43"
  },
  {
   "cell_type": "code",
   "execution_count": 18,
   "outputs": [
    {
     "name": "stdout",
     "output_type": "stream",
     "text": [
      "[CV] END ............................. score: (test=-135.055) total time=  53.5s\n",
      "[CV] END .............................. score: (test=-96.828) total time=  53.5s\n",
      "[CV] END ............................. score: (test=-114.074) total time= 1.0min\n",
      "[CV] END ............................. score: (test=-152.435) total time= 1.1min\n",
      "[CV] END ............................. score: (test=-134.318) total time= 1.0min\n",
      "[CV] END ............................. score: (test=-131.917) total time= 1.0min\n",
      "Mean score: -127.43777719735088\n"
     ]
    }
   ],
   "source": [
    "tscv = TimeSeriesSplit(n_splits=6, max_train_size=rf_X.shape[0]//3, test_size=24*30*2)  # 2 months of test data\n",
    "split = tscv.split(rf_X, rf_y)\n",
    "\n",
    "score = cross_val_score(\n",
    "    RandomForestRegressor(random_state=randomstate, n_jobs=n_cpu-2, max_depth=15, max_features=0.5, min_samples_split=2, n_estimators=150),\n",
    "    rf_X, rf_y,\n",
    "    scoring='neg_root_mean_squared_error',\n",
    "    cv=split,\n",
    "    verbose=4,\n",
    ")\n",
    "\n",
    "print(f\"Mean score: {score.mean()}\")"
   ],
   "metadata": {
    "collapsed": false,
    "ExecuteTime": {
     "end_time": "2023-10-01T11:39:18.212861100Z",
     "start_time": "2023-10-01T11:33:15.980988700Z"
    }
   },
   "id": "a71461e2b75ce25d"
  },
  {
   "cell_type": "markdown",
   "source": [
    "We get very inconsistent testing results, I'll increase test size to 6 months.\n",
    "I also want to try a higher depth."
   ],
   "metadata": {
    "collapsed": false
   },
   "id": "674f8932e6650a9e"
  },
  {
   "cell_type": "markdown",
   "source": [
    "### Depth tuning"
   ],
   "metadata": {
    "collapsed": false
   },
   "id": "83a986005f917f2b"
  },
  {
   "cell_type": "code",
   "execution_count": 19,
   "outputs": [
    {
     "name": "stdout",
     "output_type": "stream",
     "text": [
      "[CV] END .............................. score: (test=-94.696) total time= 1.1min\n",
      "[CV] END ............................. score: (test=-103.579) total time= 1.1min\n",
      "[CV] END ............................. score: (test=-135.493) total time= 1.0min\n",
      "[CV] END ............................. score: (test=-117.599) total time= 1.1min\n",
      "[CV] END ............................. score: (test=-115.701) total time= 1.1min\n",
      "[CV] END ............................. score: (test=-150.475) total time= 1.1min\n",
      "Mean score: -119.59061087801166\n"
     ]
    }
   ],
   "source": [
    "tscv = TimeSeriesSplit(n_splits=6, max_train_size=rf_X.shape[0]//3, test_size=24*30*6)  # 6 months of test data\n",
    "split = tscv.split(rf_X, rf_y)\n",
    "\n",
    "score = cross_val_score(\n",
    "    RandomForestRegressor(random_state=randomstate, n_jobs=n_cpu-2, max_depth=25, max_features=0.5, min_samples_split=2, n_estimators=150),\n",
    "    rf_X, rf_y,\n",
    "    scoring='neg_root_mean_squared_error',\n",
    "    cv=split,\n",
    "    verbose=4,\n",
    ")\n",
    "\n",
    "print(f\"Mean score: {score.mean()}\")"
   ],
   "metadata": {
    "collapsed": false,
    "ExecuteTime": {
     "end_time": "2023-10-01T11:45:47.454917700Z",
     "start_time": "2023-10-01T11:39:18.217860200Z"
    }
   },
   "id": "b43615ff241360ab"
  },
  {
   "cell_type": "markdown",
   "source": [
    "I think depth made a difference, but test size might be working against us.\n",
    "I'll also remove the limit on training size."
   ],
   "metadata": {
    "collapsed": false
   },
   "id": "ace8e3b7367d1849"
  },
  {
   "cell_type": "code",
   "execution_count": 24,
   "outputs": [
    {
     "name": "stdout",
     "output_type": "stream",
     "text": [
      "[CV] END ............................. score: (test=-106.286) total time=  42.9s\n",
      "[CV] END .............................. score: (test=-69.600) total time= 1.5min\n",
      "[CV] END .............................. score: (test=-85.622) total time= 2.3min\n",
      "[CV] END .............................. score: (test=-98.812) total time= 3.0min\n",
      "[CV] END ............................. score: (test=-129.786) total time= 4.0min\n",
      "[CV] END ............................. score: (test=-129.673) total time= 4.9min\n",
      "Mean score: -103.29632041102292\n"
     ]
    }
   ],
   "source": [
    "df: pd.DataFrame = df.drop(columns=['covid'], errors='ignore')\n",
    "\n",
    "X = df.to_numpy(dtype=np.float32)\n",
    "y = df['el_load'].to_numpy(dtype=np.float32)\n",
    "rf_X = np.zeros((len(X)-24-3, 24*X.shape[1]))\n",
    "rf_y = np.zeros((len(X)-24-3, 3))\n",
    "for i in range(len(X)-24-3):\n",
    "    rf_X[i] = X[i:i+24].flatten()\n",
    "    rf_y[i] = y[i+24:i+24+3]\n",
    "\n",
    "tscv = TimeSeriesSplit(n_splits=6)\n",
    "split = tscv.split(rf_X, rf_y)\n",
    "\n",
    "score = cross_val_score(\n",
    "    RandomForestRegressor(random_state=randomstate, n_jobs=n_cpu-2, max_depth=50, max_features=0.75, n_estimators=150),\n",
    "    rf_X, rf_y,\n",
    "    scoring='neg_root_mean_squared_error',\n",
    "    cv=split,\n",
    "    verbose=4,\n",
    ")\n",
    "\n",
    "print(f\"Mean score: {score.mean()}\")"
   ],
   "metadata": {
    "collapsed": false,
    "ExecuteTime": {
     "end_time": "2023-10-01T12:29:06.380590100Z",
     "start_time": "2023-10-01T12:12:46.202902500Z"
    }
   },
   "id": "db1bc6b75dfbe972"
  }
 ],
 "metadata": {
  "kernelspec": {
   "display_name": "Python 3",
   "language": "python",
   "name": "python3"
  },
  "language_info": {
   "codemirror_mode": {
    "name": "ipython",
    "version": 2
   },
   "file_extension": ".py",
   "mimetype": "text/x-python",
   "name": "python",
   "nbconvert_exporter": "python",
   "pygments_lexer": "ipython2",
   "version": "2.7.6"
  }
 },
 "nbformat": 4,
 "nbformat_minor": 5
}
