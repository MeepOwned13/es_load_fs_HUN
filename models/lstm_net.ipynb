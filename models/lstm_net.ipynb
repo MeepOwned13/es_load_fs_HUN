{
 "cells": [
  {
   "cell_type": "markdown",
   "source": [
    "### Imports"
   ],
   "metadata": {
    "collapsed": false
   },
   "id": "f1173e19089d7b08"
  },
  {
   "cell_type": "code",
   "execution_count": 1,
   "outputs": [],
   "source": [
    "import random\n",
    "import numpy as np\n",
    "import pandas as pd\n",
    "import matplotlib.pyplot as plt\n",
    "import torch\n",
    "from torch import nn\n",
    "import trainer_lib as tl\n",
    "from torch_model_definitions import GaussianNoise\n",
    "\n",
    "torch.manual_seed(310231551)\n",
    "random.seed(3009231410)\n",
    "np.random.seed(2909231846)\n",
    "np_random_state = np.random.RandomState(131002)"
   ],
   "metadata": {
    "collapsed": false,
    "ExecuteTime": {
     "end_time": "2023-11-28T09:37:13.551421100Z",
     "start_time": "2023-11-28T09:37:08.378423800Z"
    }
   },
   "id": "242f902e948b817f"
  },
  {
   "cell_type": "markdown",
   "source": [
    "### Load data"
   ],
   "metadata": {
    "collapsed": false
   },
   "id": "9368fad7ca0a9df2"
  },
  {
   "cell_type": "code",
   "execution_count": 2,
   "outputs": [],
   "source": [
    "df: pd.DataFrame = tl.load_country_wide_dataset('../data/country_data.csv')\n",
    "\n",
    "X = df.to_numpy(dtype=np.float32)\n",
    "y = df['el_load'].to_numpy(dtype=np.float32)"
   ],
   "metadata": {
    "collapsed": false,
    "ExecuteTime": {
     "end_time": "2023-11-28T09:37:13.840193500Z",
     "start_time": "2023-11-28T09:37:13.530424300Z"
    }
   },
   "id": "6203873f30ffdfa"
  },
  {
   "cell_type": "markdown",
   "source": [
    "### Define models"
   ],
   "metadata": {
    "collapsed": false
   },
   "id": "5a90fabd53d08648"
  },
  {
   "cell_type": "code",
   "execution_count": 3,
   "outputs": [],
   "source": [
    "class LSTMModel(nn.Module):\n",
    "    def __init__(self, features=11, hidden_size=15, num_layers=2, dropout=0.0, in_noise=0.0, hid_noise=0.0, bidirectional=True, **kwargs):\n",
    "        super(LSTMModel, self).__init__()\n",
    "        self.hidden_size = hidden_size\n",
    "        self.h_n_dim = 2 if bidirectional else 1\n",
    "        self.num_layers = num_layers\n",
    "        self.in_noise = GaussianNoise(in_noise)\n",
    "        rec_drop = dropout if num_layers > 1 else 0.0\n",
    "        self.lstm = nn.LSTM(input_size=features, hidden_size=self.hidden_size, num_layers=num_layers, batch_first=True, bidirectional=bidirectional, dropout=rec_drop)\n",
    "        # https://pytorch.org/docs/stable/generated/torch.nn.LSTM.html\n",
    "        self.fc = nn.Sequential(\n",
    "            nn.Flatten(),\n",
    "            GaussianNoise(hid_noise),\n",
    "            nn.Dropout(dropout),\n",
    "            nn.Linear(self.hidden_size * self.h_n_dim * self.num_layers, 3)\n",
    "        )\n",
    "\n",
    "    def forward(self, x):\n",
    "        x = self.in_noise(x)\n",
    "        batch_size = x.shape[0]\n",
    "        h_0 = torch.zeros(self.h_n_dim * self.num_layers, batch_size, self.hidden_size).to(tl.TRAINER_LIB_DEVICE)\n",
    "        c_0 = torch.zeros(self.h_n_dim * self.num_layers, batch_size, self.hidden_size).to(tl.TRAINER_LIB_DEVICE)\n",
    "\n",
    "        output, (h_n, c_n) = self.lstm(x, (h_0, c_0))\n",
    "        h_n = torch.permute(h_n, (1, 0, 2)) # From shape [h_n_dim, batch, hidden_size] -> [batch, h_n_dim, hidden_size]\n",
    "                                            # flatten and fully connected layer expects batch to be the first dimension\n",
    "        return self.fc(h_n)\n",
    "    \n",
    "    \n",
    "class LSTMParams(LSTMModel):\n",
    "    def __init__(self, param_group='2-20', dropout=0.0, in_noise=0.0, hid_noise=0.0, **kwargs):\n",
    "        if param_group == '3-20':\n",
    "            super(LSTMParams, self).__init__(11, hidden_size=20, num_layers=3, bidirectional=True, dropout=dropout, in_noise=in_noise, hid_noise=hid_noise)\n",
    "        elif param_group == '3-15':\n",
    "            super(LSTMParams, self).__init__(11, hidden_size=15, num_layers=3, bidirectional=True, dropout=dropout, in_noise=in_noise, hid_noise=hid_noise)\n",
    "        else:\n",
    "            super(LSTMParams, self).__init__(11, hidden_size=20, num_layers=2, bidirectional=True, dropout=dropout, in_noise=in_noise, hid_noise=hid_noise)"
   ],
   "metadata": {
    "collapsed": false,
    "ExecuteTime": {
     "end_time": "2023-11-28T09:37:13.851215500Z",
     "start_time": "2023-11-28T09:37:13.846194Z"
    }
   },
   "id": "dcdf8355f27d18f6"
  },
  {
   "cell_type": "markdown",
   "source": [
    "### Grid search"
   ],
   "metadata": {
    "collapsed": false
   },
   "id": "a7c2907dd02a6611"
  },
  {
   "cell_type": "markdown",
   "source": [
    "I'll first look at different model constructions, then I'll look into hyperparameters, dropouts, noise and maybe higher sequence lengths."
   ],
   "metadata": {
    "collapsed": false
   },
   "id": "5ed6b4ef2243c140"
  },
  {
   "cell_type": "code",
   "execution_count": null,
   "outputs": [],
   "source": [
    "grid = tl.Grid({\n",
    "    'epochs': [1000],  # we use early stopping, so this is just a high number\n",
    "    'lr': [0.001],\n",
    "    'model': [LSTMModel],\n",
    "    'hidden_size': [15, 30],\n",
    "    'num_layers': [1, 2],\n",
    "    'bidirectional': [False, True],\n",
    "    'n_splits': [6],\n",
    "})\n",
    "\n",
    "wrapper = tl.MIMOTSWrapper(LSTMModel(), seq_len=24, pred_len=3)\n",
    "b_p, b_s = wrapper.grid_search(X, y, grid, verbose=4)\n",
    "print(f\"\\nBest params: {b_p}\\nBest score: {b_s}\")"
   ],
   "metadata": {
    "collapsed": false
   },
   "id": "f7c94fa75f614a23"
  },
  {
   "cell_type": "markdown",
   "source": [
    "I need to try out different validation set sizes.\n",
    "\n",
    "### Validation set size"
   ],
   "metadata": {
    "collapsed": false
   },
   "id": "6d890928f1623f60"
  },
  {
   "cell_type": "code",
   "execution_count": null,
   "outputs": [],
   "source": [
    "n_p = {k: [v] for k, v in b_p.items()}\n",
    "n_p['val_mod'] = [2, 3, 4, 5, 6, 7]\n",
    "grid = tl.Grid(n_p)\n",
    "\n",
    "wrapper = tl.MIMOTSWrapper(LSTMModel(), seq_len=24, pred_len=3)\n",
    "b_p, b_s = wrapper.grid_search(X, y, grid, verbose=4)\n",
    "print(f\"\\nBest params: {b_p}\\nBest score: {b_s}\")"
   ],
   "metadata": {
    "collapsed": false
   },
   "id": "fa0a4b6b53fb8937"
  },
  {
   "cell_type": "code",
   "execution_count": null,
   "outputs": [],
   "source": [
    "n_p = {k: [v] for k, v in b_p.items()}\n",
    "n_p['val_mod'] = [7, 8, 9, 10, 11, 12]\n",
    "grid = tl.Grid(n_p)\n",
    "\n",
    "wrapper = tl.MIMOTSWrapper(LSTMModel(), seq_len=24, pred_len=3)\n",
    "b_p, b_s = wrapper.grid_search(X, y, grid, verbose=4)\n",
    "print(f\"\\nBest params: {b_p}\\nBest score: {b_s}\")"
   ],
   "metadata": {
    "collapsed": false
   },
   "id": "aaebfe8be35381ce"
  },
  {
   "cell_type": "markdown",
   "source": [
    "11 performed the best, but it seems quite unstable, I'll go with 8, since it seems to be the most stable. (This will be the default in trainer_lib.py "
   ],
   "metadata": {
    "collapsed": false
   },
   "id": "5a31a7c58e31ad09"
  },
  {
   "cell_type": "markdown",
   "source": [
    "### Fine tune model parameters"
   ],
   "metadata": {
    "collapsed": false
   },
   "id": "142fd70ba3e20b5a"
  },
  {
   "cell_type": "markdown",
   "source": [
    "Bidirectional models seem to perform better. Let's test different hidden and layer sizes."
   ],
   "metadata": {
    "collapsed": false
   },
   "id": "5220c687c42a09f2"
  },
  {
   "cell_type": "code",
   "execution_count": null,
   "outputs": [],
   "source": [
    "grid = tl.Grid({\n",
    "    'epochs': [1000],  # we use early stopping, so this is just a high number\n",
    "    'lr': [0.001],\n",
    "    'model': [LSTMModel],\n",
    "    'hidden_size': [10, 15, 20],\n",
    "    'num_layers': [1, 2, 3],\n",
    "    'bidirectional': [True],\n",
    "    'n_splits': [6],\n",
    "    'dropout': [0.3],\n",
    "}) # val_mod is default at 8\n",
    "\n",
    "wrapper = tl.MIMOTSWrapper(LSTMModel(), seq_len=24, pred_len=3)\n",
    "b_p, b_s = wrapper.grid_search(X, y, grid, verbose=3)\n",
    "print(f\"\\nBest params: {b_p}\\nBest score: {b_s}\")"
   ],
   "metadata": {
    "collapsed": false
   },
   "id": "9e8bf897a525b2bc"
  },
  {
   "cell_type": "markdown",
   "source": [
    "(num_layers) - (hidden_sizes): (notes)\n",
    "- 2 - 20: I see a lot of consistency\n",
    "- 3 - 15: Not too consistent, but has good overall score\n",
    "- 3 - 20: Seems somewhat consistent, has the best overall score"
   ],
   "metadata": {
    "collapsed": false
   },
   "id": "a9acf0859118a749"
  },
  {
   "cell_type": "markdown",
   "source": [
    "I'll do some quick learning rate testing."
   ],
   "metadata": {
    "collapsed": false
   },
   "id": "58f74d3e275f492c"
  },
  {
   "cell_type": "code",
   "execution_count": null,
   "outputs": [],
   "source": [
    "grid = tl.Grid({\n",
    "    'epochs': [1000],  # we use early stopping, so this is just a high number\n",
    "    'lr': [0.001, 0.0005, 0.0001],\n",
    "    'model': [LSTMParams],\n",
    "    'param_group': ['3-20'],\n",
    "    'n_splits': [6],\n",
    "    'dropout': [0.3],\n",
    "}) # val_mod is default at 8\n",
    "\n",
    "b_p, b_s = wrapper.grid_search(X, y, grid, verbose=3)\n",
    "print(f\"\\nBest params: {b_p}\\nBest score: {b_s}\")"
   ],
   "metadata": {
    "collapsed": false
   },
   "id": "acd34298dad66ca6"
  },
  {
   "cell_type": "markdown",
   "source": [
    "Learning rate 0.0001 is very promising, it's also pretty consistent."
   ],
   "metadata": {
    "collapsed": false
   },
   "id": "aa78c02b94d651c1"
  },
  {
   "cell_type": "markdown",
   "source": [
    "### Noise"
   ],
   "metadata": {
    "collapsed": false
   },
   "id": "346cacc93ab71e9c"
  },
  {
   "cell_type": "code",
   "execution_count": null,
   "outputs": [],
   "source": [
    "grid = tl.Grid({\n",
    "    'epochs': [1000],  # we use early stopping, so this is just a high number\n",
    "    'lr': [0.0001],\n",
    "    'model': [LSTMParams],\n",
    "    'param_group': ['2-20', '3-20'],\n",
    "    'n_splits': [6],\n",
    "    'dropout': [0.3],  # I'll test dropout next\n",
    "    'in_noise': [0.0, 0.05],\n",
    "    'hid_noise': [0.0, 0.05],\n",
    "}) # val_mod is default at 8\n",
    "\n",
    "wrapper = tl.MIMOTSWrapper(LSTMParams(), seq_len=24, pred_len=3)\n",
    "b_p, b_s = wrapper.grid_search(X, y, grid, verbose=3)\n",
    "print(f\"\\nBest params: {b_p}\\nBest score: {b_s}\")"
   ],
   "metadata": {
    "collapsed": false
   },
   "id": "e23d6112b4b0e497"
  },
  {
   "cell_type": "markdown",
   "source": [
    "3-20 configuration seems more consistent, input noise throws off the model too much at this point.\n",
    "Time to test different dropouts."
   ],
   "metadata": {
    "collapsed": false
   },
   "id": "ea0be8523e8635f6"
  },
  {
   "cell_type": "markdown",
   "source": [
    "### Dropouts"
   ],
   "metadata": {
    "collapsed": false
   },
   "id": "5fa0bd9aea5b4521"
  },
  {
   "cell_type": "code",
   "execution_count": null,
   "outputs": [],
   "source": [
    "grid = tl.Grid({\n",
    "    'epochs': [1000],  # we use early stopping, so this is just a high number\n",
    "    'lr': [0.0001],\n",
    "    'model': [LSTMParams],\n",
    "    'param_group': ['3-20'],\n",
    "    'n_splits': [6],\n",
    "    'dropout': [0.3, 0.5],\n",
    "    'hid_noise': [0.05, 0.1],\n",
    "}) # val_mod is default at 8\n",
    "\n",
    "wrapper = tl.MIMOTSWrapper(LSTMParams(), seq_len=24, pred_len=3)\n",
    "b_p, b_s = wrapper.grid_search(X, y, grid, verbose=3)\n",
    "print(f\"\\nBest params: {b_p}\\nBest score: {b_s}\")"
   ],
   "metadata": {
    "collapsed": false
   },
   "id": "a1f49342e6848c92"
  },
  {
   "cell_type": "markdown",
   "source": [
    "It seems that 0.3 dropout and 0.05 noise was the best."
   ],
   "metadata": {
    "collapsed": false
   },
   "id": "ef310e0e22ae58ba"
  },
  {
   "cell_type": "markdown",
   "source": [
    "### Test of all features\n",
    "\n",
    "It might be worth testing if adding back the features filtered in feature selection help us in any way. This way we let the model decide what features are important.\n",
    "If scores don't increase, I'll keep the feature selection."
   ],
   "metadata": {
    "collapsed": false
   },
   "id": "f5cbc7ba18ef9416"
  },
  {
   "cell_type": "code",
   "execution_count": null,
   "outputs": [],
   "source": [
    "df: pd.DataFrame = tl.load_country_wide_dataset('../data/country_data.csv', True)\n",
    "\n",
    "X = df.to_numpy(dtype=np.float32)\n",
    "y = df['el_load'].to_numpy(dtype=np.float32)\n",
    "\n",
    "wrapper = tl.MIMOTSWrapper(LSTMModel(18, hidden_size=20, num_layers=3, bidirectional=True, dropout=0.3, hid_noise=0.05), seq_len=24, pred_len=3)\n",
    "result = wrapper.validate_ts_strategy(X, y, 1000, lr=0.0001, n_splits=6)\n",
    "\n",
    "print(sum(result[3]) / len(result[3]), \"-\", sum(result[3][1:]) / (len(result[3]) - 1))\n",
    "st = X.shape[0] // 7\n",
    "tl.MIMOTSWrapper.print_evaluation_info(*wrapper.predict(X[-st:], y[-st:]))\n",
    "\n",
    "\n",
    "# load back original X and y\n",
    "df: pd.DataFrame = tl.load_country_wide_dataset('../data/country_data.csv')\n",
    "\n",
    "X = df.to_numpy(dtype=np.float32)\n",
    "y = df['el_load'].to_numpy(dtype=np.float32)"
   ],
   "metadata": {
    "collapsed": false
   },
   "id": "6b5f4839571957f4"
  },
  {
   "cell_type": "markdown",
   "source": [
    "This seems to be worse, so I'll keep the feature selection."
   ],
   "metadata": {
    "collapsed": false
   },
   "id": "581a1ace700e468b"
  },
  {
   "cell_type": "markdown",
   "source": [
    "### Trying to speed up training."
   ],
   "metadata": {
    "collapsed": false
   },
   "id": "f948a313d753cb4f"
  },
  {
   "cell_type": "code",
   "execution_count": null,
   "outputs": [],
   "source": [
    "grid = tl.Grid({\n",
    "    'epochs': [1000],  # we use early stopping, so this is just a high number\n",
    "    'lr': [0.001],\n",
    "    'model': [LSTMParams],\n",
    "    'param_group': ['3-20'],\n",
    "    'dropout': [0.3],\n",
    "    'hid_noise': [0.05],\n",
    "    'batch_size': [1024, 2048, 4096],\n",
    "    'es_p': [20],\n",
    "}) # n_splits defaulted to 6, val_mod to 8\n",
    "\n",
    "wrapper = tl.MIMOTSWrapper(LSTMParams(), seq_len=24, pred_len=3)\n",
    "b_p, b_s = wrapper.grid_search(X, y, grid, verbose=4)\n",
    "print(f\"\\nBest params: {b_p}\\nBest score: {b_s}\")"
   ],
   "metadata": {
    "collapsed": false
   },
   "id": "36a92ace8a27b51f"
  },
  {
   "cell_type": "markdown",
   "source": [
    "### Final"
   ],
   "metadata": {
    "collapsed": false
   },
   "id": "33f30039fd2900af"
  },
  {
   "cell_type": "code",
   "execution_count": null,
   "outputs": [],
   "source": [
    "wrapper = tl.MIMOTSWrapper(LSTMParams('3-20', dropout=0.3, hid_noise=0.05), seq_len=24, pred_len=3)\n",
    "result = wrapper.validate_ts_strategy(X, y, 1000, batch_size=2048, lr=0.001, n_splits=6, es_p=20)"
   ],
   "metadata": {
    "collapsed": false
   },
   "id": "f7b237a54694472d"
  },
  {
   "cell_type": "code",
   "execution_count": null,
   "outputs": [],
   "source": [
    "print(sum(result[3]) / len(result[3]), \"-\", sum(result[3][1:]) / (len(result[3]) - 1))\n",
    "st = X.shape[0] // 7\n",
    "tl.MIMOTSWrapper.print_evaluation_info(*wrapper.predict(X[-st:], y[-st:]))"
   ],
   "metadata": {
    "collapsed": false
   },
   "id": "2a001f286526ad1b"
  }
 ],
 "metadata": {
  "kernelspec": {
   "display_name": "Python 3",
   "language": "python",
   "name": "python3"
  },
  "language_info": {
   "codemirror_mode": {
    "name": "ipython",
    "version": 2
   },
   "file_extension": ".py",
   "mimetype": "text/x-python",
   "name": "python",
   "nbconvert_exporter": "python",
   "pygments_lexer": "ipython2",
   "version": "2.7.6"
  }
 },
 "nbformat": 4,
 "nbformat_minor": 5
}
