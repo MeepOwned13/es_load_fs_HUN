{
 "cells": [
  {
   "cell_type": "markdown",
   "source": [
    "### Imports"
   ],
   "metadata": {
    "collapsed": false
   },
   "id": "5e8f02c4531e07f"
  },
  {
   "cell_type": "code",
   "execution_count": null,
   "id": "initial_id",
   "metadata": {
    "collapsed": true
   },
   "outputs": [],
   "source": [
    "import random\n",
    "import numpy as np\n",
    "import pandas as pd\n",
    "import matplotlib.pyplot as plt\n",
    "import torch\n",
    "from torch import nn\n",
    "import trainer_lib as tl\n",
    "import torch_model_definitions as tmd\n",
    "\n",
    "torch.manual_seed(310231551)\n",
    "random.seed(3009231410)\n",
    "np.random.seed(2909231846)\n",
    "np_random_state = np.random.RandomState(131002)"
   ]
  },
  {
   "cell_type": "markdown",
   "source": [
    "### Load data"
   ],
   "metadata": {
    "collapsed": false
   },
   "id": "5c62b93b0a0d0b14"
  },
  {
   "cell_type": "code",
   "execution_count": null,
   "outputs": [],
   "source": [
    "df: pd.DataFrame = tl.load_country_wide_dataset('../data/country_data.csv')\n",
    "\n",
    "X = df.to_numpy(dtype=np.float32)\n",
    "y = df['el_load'].to_numpy(dtype=np.float32)"
   ],
   "metadata": {
    "collapsed": false
   },
   "id": "cc19b65985e4e476"
  },
  {
   "cell_type": "markdown",
   "source": [
    "### Grid search"
   ],
   "metadata": {
    "collapsed": false
   },
   "id": "7697c4ccd76de55a"
  },
  {
   "cell_type": "code",
   "execution_count": null,
   "outputs": [],
   "source": [
    "grid = tl.Grid({\n",
    "    'epochs': [1000],  # we use early stopping, so this is just a high number\n",
    "    'lr': [0.0005],\n",
    "    'model': [tmd.Seq2seq],\n",
    "    'embedding_size': [24],\n",
    "    'num_layers': [1, 2],\n",
    "    'dropout': [0.5],\n",
    "    'bidirectional': [True, False],\n",
    "}) # n_splits defaulted to 6, val_mod to 8\n",
    "\n",
    "wrapper = tl.S2STSWRAPPER(tmd.Seq2seq(), seq_len=24, pred_len=3, teacher_forcing_decay=0.01)\n",
    "b_p, b_s = wrapper.grid_search(X, y, grid, verbose=4)\n",
    "print(f\"\\nBest params: {b_p}\\nBest score: {b_s}\")"
   ],
   "metadata": {
    "collapsed": false
   },
   "id": "6eab3e2a01ebe19b"
  },
  {
   "cell_type": "code",
   "execution_count": null,
   "outputs": [],
   "source": [
    "grid = tl.Grid({\n",
    "    'epochs': [1000],  # we use early stopping, so this is just a high number\n",
    "    'lr': [0.0005],\n",
    "    'model': [tmd.Seq2seq],\n",
    "    'embedding_size': [18, 12],\n",
    "    'num_layers': [1, 2],\n",
    "    'dropout': [0.5],\n",
    "    'bidirectional': [True],\n",
    "}) # n_splits defaulted to 6, val_mod to 8\n",
    "\n",
    "wrapper = tl.S2STSWRAPPER(tmd.Seq2seq(), seq_len=24, pred_len=3)\n",
    "b_p, b_s = wrapper.grid_search(X, y, grid, verbose=4)\n",
    "print(f\"\\nBest params: {b_p}\\nBest score: {b_s}\")"
   ],
   "metadata": {
    "collapsed": false
   },
   "id": "d6ba194b30eb0a50"
  },
  {
   "cell_type": "markdown",
   "source": [
    "A small embedding size and layer count seems to be the best option so far. Let's try smaller ones, and also a way larger embedding size."
   ],
   "metadata": {
    "collapsed": false
   },
   "id": "102bb0f81cbf3459"
  },
  {
   "cell_type": "code",
   "execution_count": null,
   "outputs": [],
   "source": [
    "grid = tl.Grid({\n",
    "    'epochs': [1000],  # we use early stopping, so this is just a high number\n",
    "    'lr': [0.0005],\n",
    "    'model': [tmd.Seq2seq],\n",
    "    'embedding_size': [8, 10, 64],\n",
    "    'num_layers': [1],\n",
    "    'dropout': [0.5],\n",
    "    'bidirectional': [True],\n",
    "})  # n_splits defaulted to 6, val_mod to 8\n",
    "\n",
    "wrapper = tl.S2STSWRAPPER(tmd.Seq2seq(), seq_len=24, pred_len=3)\n",
    "b_p, b_s = wrapper.grid_search(X, y, grid, verbose=4)\n",
    "print(f\"\\nBest params: {b_p}\\nBest score: {b_s}\")"
   ],
   "metadata": {
    "collapsed": false
   },
   "id": "5fd15b4adc9a619b"
  },
  {
   "cell_type": "markdown",
   "source": [
    "Best parameters seem to be embedding size 12 and 1 bidirectional layer."
   ],
   "metadata": {
    "collapsed": false
   },
   "id": "777263f820c3e8b7"
  },
  {
   "cell_type": "markdown",
   "source": [
    "### Adding noise\n",
    "\n",
    "I'll try a very small input noise, since that already threw off most models too much."
   ],
   "metadata": {
    "collapsed": false
   },
   "id": "7420e026f1c760cb"
  },
  {
   "cell_type": "code",
   "execution_count": null,
   "outputs": [],
   "source": [
    "grid = tl.Grid({\n",
    "    'epochs': [1000],  # we use early stopping, so this is just a high number\n",
    "    'lr': [0.0005],\n",
    "    'model': [tmd.Seq2seq],\n",
    "    'embedding_size': [10],\n",
    "    'num_layers': [1],\n",
    "    'dropout': [0.5],\n",
    "    'bidirectional': [True],\n",
    "    'in_noise': [0.0, 0.02],\n",
    "    'out_noise': [0.0, 0.05]\n",
    "})  # n_splits defaulted to 6, val_mod to 8\n",
    "\n",
    "wrapper = tl.S2STSWRAPPER(tmd.Seq2seq(), seq_len=24, pred_len=3)\n",
    "b_p, b_s = wrapper.grid_search(X, y, grid, verbose=4)\n",
    "print(f\"\\nBest params: {b_p}\\nBest score: {b_s}\")"
   ],
   "metadata": {
    "collapsed": false
   },
   "id": "2f39c3c24417c968"
  },
  {
   "cell_type": "markdown",
   "source": [
    "Applying noise to the input makes the model worse again, but noise right before predictions improve it's stability massively.\n",
    "I noticed training taking too long, so I will increase the batch and learning rate. Increasing batch size alongside learning rate won't affect our results."
   ],
   "metadata": {
    "collapsed": false
   },
   "id": "e411dac76867b77"
  },
  {
   "cell_type": "code",
   "execution_count": null,
   "outputs": [],
   "source": [
    "grid = tl.Grid({\n",
    "    'epochs': [1000],  # we use early stopping, so this is just a high number\n",
    "    'lr': [0.001],\n",
    "    'model': [tmd.Seq2seq],\n",
    "    'embedding_size': [10, 12],\n",
    "    'num_layers': [1],\n",
    "    'dropout': [0.5],\n",
    "    'bidirectional': [True],\n",
    "    'out_noise': [0.05],\n",
    "    'batch_size': [1024],\n",
    "    'es_p': [20],\n",
    "})  # n_splits defaulted to 6, val_mod to 8\n",
    "\n",
    "wrapper = tl.S2STSWRAPPER(tmd.Seq2seq(), seq_len=24, pred_len=3)\n",
    "b_p, b_s = wrapper.grid_search(X, y, grid, verbose=4)\n",
    "print(f\"\\nBest params: {b_p}\\nBest score: {b_s}\")"
   ],
   "metadata": {
    "collapsed": false
   },
   "id": "8edddc87629f2313"
  },
  {
   "cell_type": "code",
   "execution_count": null,
   "outputs": [],
   "source": [
    "grid = tl.Grid({\n",
    "    'epochs': [1000],  # we use early stopping, so this is just a high number\n",
    "    'lr': [0.001],\n",
    "    'model': [tmd.Seq2seq],\n",
    "    'embedding_size': [10],\n",
    "    'num_layers': [1],\n",
    "    'dropout': [0.5],\n",
    "    'bidirectional': [True],\n",
    "    'out_noise': [0.05],\n",
    "    'batch_size': [1024, 2048, 4096],\n",
    "})  # n_splits defaulted to 6, val_mod to 8\n",
    "\n",
    "wrapper = tl.S2STSWRAPPER(tmd.Seq2seq(), seq_len=24, pred_len=3)\n",
    "b_p, b_s = wrapper.grid_search(X, y, grid, verbose=4)\n",
    "print(f\"\\nBest params: {b_p}\\nBest score: {b_s}\")"
   ],
   "metadata": {
    "collapsed": false
   },
   "id": "fe9d56368a6ff71f"
  },
  {
   "cell_type": "code",
   "execution_count": null,
   "outputs": [],
   "source": [
    "wrapper = tl.MIMOTSWrapper(tmd.Seq2seq(pred_len=3,embedding_size=10, num_layers=1, bidirectional=True, dropout=0.5, out_noise=0.05), seq_len=24, pred_len=3)\n",
    "result = wrapper.validate_ts_strategy(X, y, 1000, batch_size=2048, lr=0.001, n_splits=6, es_p=10)"
   ],
   "metadata": {
    "collapsed": false
   },
   "id": "c624fad66766fa8a"
  },
  {
   "cell_type": "code",
   "execution_count": null,
   "outputs": [],
   "source": [
    "print(sum(result[3]) / len(result[3]), \"-\", sum(result[3][1:]) / (len(result[3]) - 1))\n",
    "st = X.shape[0] // 7\n",
    "tl.MIMOTSWrapper.print_evaluation_info(*wrapper.predict(X[-st:], y[-st:]))"
   ],
   "metadata": {
    "collapsed": false
   },
   "id": "aca049ca1fe34cdd"
  }
 ],
 "metadata": {
  "kernelspec": {
   "display_name": "Python 3",
   "language": "python",
   "name": "python3"
  },
  "language_info": {
   "codemirror_mode": {
    "name": "ipython",
    "version": 2
   },
   "file_extension": ".py",
   "mimetype": "text/x-python",
   "name": "python",
   "nbconvert_exporter": "python",
   "pygments_lexer": "ipython2",
   "version": "2.7.6"
  }
 },
 "nbformat": 4,
 "nbformat_minor": 5
}
