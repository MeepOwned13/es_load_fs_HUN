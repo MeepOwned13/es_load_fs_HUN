{
 "cells": [
  {
   "cell_type": "markdown",
   "source": [
    "### Imports"
   ],
   "metadata": {
    "collapsed": false
   },
   "id": "5e8f02c4531e07f"
  },
  {
   "cell_type": "code",
   "execution_count": 2,
   "id": "initial_id",
   "metadata": {
    "collapsed": true,
    "ExecuteTime": {
     "end_time": "2023-10-17T12:55:23.056706500Z",
     "start_time": "2023-10-17T12:55:19.289939300Z"
    }
   },
   "outputs": [],
   "source": [
    "import random\n",
    "import numpy as np\n",
    "import pandas as pd\n",
    "import matplotlib.pyplot as plt\n",
    "import torch\n",
    "from torch import nn\n",
    "import trainer_lib as tl\n",
    "import torch_model_definitions as tmd\n",
    "\n",
    "torch.manual_seed(310231551)\n",
    "random.seed(3009231410)\n",
    "np.random.seed(2909231846)\n",
    "np_random_state = np.random.RandomState(131002)"
   ]
  },
  {
   "cell_type": "markdown",
   "source": [
    "### Load data"
   ],
   "metadata": {
    "collapsed": false
   },
   "id": "5c62b93b0a0d0b14"
  },
  {
   "cell_type": "code",
   "execution_count": 3,
   "outputs": [],
   "source": [
    "df: pd.DataFrame = tl.load_country_wide_dataset('../data/country_data.csv')\n",
    "\n",
    "X = df.to_numpy(dtype=np.float32)\n",
    "y = df['el_load'].to_numpy(dtype=np.float32)"
   ],
   "metadata": {
    "collapsed": false,
    "ExecuteTime": {
     "end_time": "2023-10-17T12:55:23.952198700Z",
     "start_time": "2023-10-17T12:55:23.769919100Z"
    }
   },
   "id": "cc19b65985e4e476"
  },
  {
   "cell_type": "markdown",
   "source": [
    "### Grid search"
   ],
   "metadata": {
    "collapsed": false
   },
   "id": "7697c4ccd76de55a"
  },
  {
   "cell_type": "code",
   "execution_count": 9,
   "outputs": [
    {
     "name": "stdout",
     "output_type": "stream",
     "text": [
      "[Grid search 001] BEGIN - params: {'epochs': 1000, 'lr': 0.0002, 'model': <class 'torch_model_definitions.Seq2seq'>, 'hidden_size': 32, 'num_layers': 2, 'dropout': 0.2}\n",
      "[Fold 1] BEGIN\n",
      "Early stopping... Epoch 180: train loss: 0.009878, val loss: 0.016102, test loss: 0.073977\n",
      "[Fold 1] END - RMSE loss: 185.373 - Time: 2.5 min.\n",
      "[Fold 2] BEGIN\n",
      "Early stopping... Epoch 174: train loss: 0.005743, val loss: 0.005263, test loss: 0.015446\n",
      "[Fold 2] END - RMSE loss: 90.380 - Time: 4.1 min.\n",
      "[Fold 3] BEGIN\n",
      "Early stopping... Epoch 203: train loss: 0.004897, val loss: 0.005001, test loss: 0.020804\n",
      "[Fold 3] END - RMSE loss: 95.644 - Time: 6.8 min.\n",
      "[Fold 4] BEGIN\n",
      "Early stopping... Epoch 111: train loss: 0.005939, val loss: 0.023927, test loss: 0.021077\n",
      "[Fold 4] END - RMSE loss: 99.306 - Time: 4.8 min.\n",
      "[Fold 5] BEGIN\n",
      "Early stopping... Epoch 138: train loss: 0.005461, val loss: 0.009813, test loss: 0.029777\n",
      "[Fold 5] END - RMSE loss: 124.760 - Time: 7.3 min.\n",
      "[Fold 6] BEGIN\n",
      "Early stopping... Epoch 143: train loss: 0.005742, val loss: 0.010419, test loss: 0.029828\n",
      "[Fold 6] END - RMSE loss: 125.724 - Time: 9.7 min.\n",
      "[Grid search 001] END - Score: 120.19761168 * Without 1st split: 107.16263132438931\n",
      "[Grid search 002] BEGIN - params: {'epochs': 1000, 'lr': 0.0002, 'model': <class 'torch_model_definitions.Seq2seq'>, 'hidden_size': 64, 'num_layers': 2, 'dropout': 0.2}\n",
      "[Fold 1] BEGIN\n",
      "Early stopping... Epoch 101: train loss: 0.016695, val loss: 0.027033, test loss: 0.057299\n",
      "[Fold 1] END - RMSE loss: 166.970 - Time: 1.5 min.\n",
      "[Fold 2] BEGIN\n",
      "Early stopping... Epoch 048: train loss: 0.017394, val loss: 0.027008, test loss: 0.033449\n",
      "[Fold 2] END - RMSE loss: 134.479 - Time: 1.1 min.\n",
      "[Fold 3] BEGIN\n",
      "Early stopping... Epoch 129: train loss: 0.005971, val loss: 0.005505, test loss: 0.022895\n",
      "[Fold 3] END - RMSE loss: 101.826 - Time: 4.7 min.\n",
      "[Fold 4] BEGIN\n",
      "Early stopping... Epoch 118: train loss: 0.006230, val loss: 0.026755, test loss: 0.024409\n",
      "[Fold 4] END - RMSE loss: 111.078 - Time: 5.2 min.\n",
      "[Fold 5] BEGIN\n",
      "Early stopping... Epoch 061: train loss: 0.009471, val loss: 0.015120, test loss: 0.037098\n",
      "[Fold 5] END - RMSE loss: 141.629 - Time: 3.3 min.\n",
      "[Fold 6] BEGIN\n",
      "Early stopping... Epoch 049: train loss: 0.010114, val loss: 0.021233, test loss: 0.041213\n",
      "[Fold 6] END - RMSE loss: 143.895 - Time: 3.1 min.\n",
      "[Grid search 002] END - Score: 133.31271700 Without 1st split: 126.5812302485684\n",
      "[Grid search 003] BEGIN - params: {'epochs': 1000, 'lr': 0.0002, 'model': <class 'torch_model_definitions.Seq2seq'>, 'hidden_size': 32, 'num_layers': 3, 'dropout': 0.2}\n",
      "[Fold 1] BEGIN\n",
      "Early stopping... Epoch 058: train loss: 0.022063, val loss: 0.032583, test loss: 0.105054\n",
      "[Fold 1] END - RMSE loss: 245.988 - Time: 1.0 min.\n",
      "[Fold 2] BEGIN\n",
      "Early stopping... Epoch 047: train loss: 0.015387, val loss: 0.014958, test loss: 0.025607\n",
      "[Fold 2] END - RMSE loss: 120.894 - Time: 1.4 min.\n",
      "[Fold 3] BEGIN\n",
      "Early stopping... Epoch 127: train loss: 0.005218, val loss: 0.005820, test loss: 0.018735\n",
      "[Fold 3] END - RMSE loss: 95.463 - Time: 5.3 min.\n",
      "[Fold 4] BEGIN\n",
      "Early stopping... Epoch 113: train loss: 0.005692, val loss: 0.022685, test loss: 0.024752\n",
      "[Fold 4] END - RMSE loss: 108.222 - Time: 6.0 min.\n",
      "[Fold 5] BEGIN\n",
      "Early stopping... Epoch 125: train loss: 0.005517, val loss: 0.009896, test loss: 0.031090\n",
      "[Fold 5] END - RMSE loss: 122.935 - Time: 8.3 min.\n",
      "[Fold 6] BEGIN\n",
      "Early stopping... Epoch 103: train loss: 0.006180, val loss: 0.013568, test loss: 0.030659\n",
      "[Fold 6] END - RMSE loss: 129.261 - Time: 7.9 min.\n",
      "[Grid search 003] END - Score: 137.12718053 Without 1st split: 115.35510177757355\n",
      "[Grid search 004] BEGIN - params: {'epochs': 1000, 'lr': 0.0002, 'model': <class 'torch_model_definitions.Seq2seq'>, 'hidden_size': 64, 'num_layers': 3, 'dropout': 0.2}\n",
      "[Fold 1] BEGIN\n",
      "Early stopping... Epoch 075: train loss: 0.019699, val loss: 0.029675, test loss: 0.185824\n",
      "[Fold 1] END - RMSE loss: 289.762 - Time: 1.2 min.\n",
      "[Fold 2] BEGIN\n",
      "Early stopping... Epoch 063: train loss: 0.014011, val loss: 0.017225, test loss: 0.029858\n",
      "[Fold 2] END - RMSE loss: 128.081 - Time: 1.8 min.\n",
      "[Fold 3] BEGIN\n",
      "Early stopping... Epoch 083: train loss: 0.008443, val loss: 0.008540, test loss: 0.023865\n",
      "[Fold 3] END - RMSE loss: 108.428 - Time: 3.4 min.\n",
      "[Fold 4] BEGIN\n",
      "Early stopping... Epoch 108: train loss: 0.005762, val loss: 0.022863, test loss: 0.021751\n",
      "[Fold 4] END - RMSE loss: 103.429 - Time: 6.0 min.\n",
      "[Fold 5] BEGIN\n",
      "Early stopping... Epoch 117: train loss: 0.005295, val loss: 0.010580, test loss: 0.030924\n",
      "[Fold 5] END - RMSE loss: 122.500 - Time: 7.9 min.\n",
      "[Fold 6] BEGIN\n",
      "Early stopping... Epoch 047: train loss: 0.009936, val loss: 0.028483, test loss: 0.047688\n",
      "[Fold 6] END - RMSE loss: 157.530 - Time: 3.8 min.\n",
      "[Grid search 004] END - Score: 151.62156060 Without 1st split: 123.99356474275616\n",
      "\n",
      "Best params: {'epochs': 1000, 'lr': 0.0002, 'model': <class 'torch_model_definitions.Seq2seq'>, 'hidden_size': 32, 'num_layers': 2, 'dropout': 0.2}\n",
      "Best score: 120.19761168190779\n"
     ]
    }
   ],
   "source": [
    "grid = tl.Grid({\n",
    "    'epochs': [1000],  # we use early stopping, so this is just a high number\n",
    "    'lr': [0.0002],\n",
    "    'model': [tmd.Seq2seq],\n",
    "    'hidden_size': [32, 64],\n",
    "    'num_layers': [2, 3],\n",
    "    'dropout': [0.2],\n",
    "}) # n_splits defaulted to 6, val_mod to 8\n",
    "\n",
    "wrapper = tl.MIMOTSWrapper(tmd.Seq2seq(), seq_len=24, pred_len=3)\n",
    "b_p, b_s = wrapper.grid_search(X, y, grid, verbose=4)\n",
    "print(f\"\\nBest params: {b_p}\\nBest score: {b_s}\")"
   ],
   "metadata": {
    "collapsed": false,
    "ExecuteTime": {
     "end_time": "2023-10-17T15:49:05.674316100Z",
     "start_time": "2023-10-17T14:01:09.083710400Z"
    }
   },
   "id": "6eab3e2a01ebe19b"
  },
  {
   "cell_type": "code",
   "execution_count": null,
   "outputs": [],
   "source": [
    "grid = tl.Grid({\n",
    "    'epochs': [1000],  # we use early stopping, so this is just a high number\n",
    "    'lr': [0.0001],\n",
    "    'model': [tmd.Seq2seq],\n",
    "    'hidden_size': [24, 32],\n",
    "    'num_layers': [1, 2],\n",
    "    'dropout': [0.3, 0.5],\n",
    "}) # n_splits defaulted to 6, val_mod to 8\n",
    "\n",
    "wrapper = tl.MIMOTSWrapper(tmd.Seq2seq(), seq_len=24, pred_len=3)\n",
    "b_p, b_s = wrapper.grid_search(X, y, grid, verbose=4)\n",
    "print(f\"\\nBest params: {b_p}\\nBest score: {b_s}\")"
   ],
   "metadata": {
    "collapsed": false,
    "ExecuteTime": {
     "start_time": "2023-10-17T18:13:48.137375Z"
    }
   },
   "id": "a8da7b19d34f1a59"
  }
 ],
 "metadata": {
  "kernelspec": {
   "display_name": "Python 3",
   "language": "python",
   "name": "python3"
  },
  "language_info": {
   "codemirror_mode": {
    "name": "ipython",
    "version": 2
   },
   "file_extension": ".py",
   "mimetype": "text/x-python",
   "name": "python",
   "nbconvert_exporter": "python",
   "pygments_lexer": "ipython2",
   "version": "2.7.6"
  }
 },
 "nbformat": 4,
 "nbformat_minor": 5
}
