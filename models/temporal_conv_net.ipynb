{
 "cells": [
  {
   "cell_type": "markdown",
   "id": "3072b96593348971",
   "metadata": {
    "collapsed": false
   },
   "source": [
    "### Imports"
   ]
  },
  {
   "cell_type": "code",
   "execution_count": null,
   "id": "initial_id",
   "metadata": {
    "collapsed": true
   },
   "outputs": [],
   "source": [
    "import random\n",
    "import numpy as np\n",
    "import pandas as pd\n",
    "import matplotlib.pyplot as plt\n",
    "import torch\n",
    "from torch import nn\n",
    "import trainer_lib as tl\n",
    "from torch.nn.utils import weight_norm\n",
    "import torch_model_definitions as tmd\n",
    "\n",
    "torch.manual_seed(2412231200)\n",
    "random.seed(3009231410)\n",
    "np.random.seed(2909231846)\n",
    "np_random_state = np.random.RandomState(131002)"
   ]
  },
  {
   "cell_type": "markdown",
   "id": "aaf33bac7e52afe8",
   "metadata": {
    "collapsed": false
   },
   "source": [
    "### Load data"
   ]
  },
  {
   "cell_type": "code",
   "execution_count": null,
   "id": "10cc0848013803bd",
   "metadata": {
    "collapsed": false
   },
   "outputs": [],
   "source": [
    "df: pd.DataFrame = tl.load_country_wide_dataset('../data/country_data.csv')\n",
    "\n",
    "X = df['el_load'].to_numpy(dtype=np.float32)\n",
    "y = X.copy()"
   ]
  },
  {
   "cell_type": "markdown",
   "id": "481391e78999f7b3",
   "metadata": {
    "collapsed": false
   },
   "source": [
    "### Define models"
   ]
  },
  {
   "cell_type": "code",
   "execution_count": null,
   "id": "ad668771e5bf46a8",
   "metadata": {
    "collapsed": false
   },
   "outputs": [],
   "source": [
    "class TCN(nn.Module):\n",
    "    def __init__(self, seq_len=24, pred_len=3, num_channels=(24,) * 2, kernel_size=3, dropout=0.5, hid_noise=0.0, **kwargs):\n",
    "        super(TCN, self).__init__()\n",
    "        self.seq_len = seq_len\n",
    "        self.pred_len = pred_len\n",
    "        self.tcn = tmd.TemporalConvNet(1, num_channels, kernel_size=kernel_size, dropout=dropout)\n",
    "        self.hid_noise = tmd.GaussianNoise(hid_noise)\n",
    "        self.fc = nn.Linear(num_channels[-1], pred_len)       \n",
    "\n",
    "    def forward(self, x):\n",
    "        x = x.reshape(-1, 1, self.seq_len)\n",
    "        x = self.tcn(x)\n",
    "        x = self.hid_noise(x)\n",
    "        return self.fc(x[:, :, -1])"
   ]
  },
  {
   "cell_type": "markdown",
   "id": "e8a18568e1246577",
   "metadata": {
    "collapsed": false
   },
   "source": [
    "### Train models"
   ]
  },
  {
   "cell_type": "markdown",
   "id": "74c0b28036ce7161",
   "metadata": {
    "collapsed": false
   },
   "source": [
    "I'll use t-48 lookback, since 1D CNNs worked a lot better with that."
   ]
  },
  {
   "cell_type": "code",
   "execution_count": null,
   "id": "e778978603cce388",
   "metadata": {
    "collapsed": false
   },
   "outputs": [],
   "source": [
    "grid = tl.Grid({\n",
    "    'epochs': [1000],  # we use early stopping, so this is just a high number\n",
    "    'lr': [0.0001],\n",
    "    'seq_len': [48],\n",
    "    'pred_len': [3],\n",
    "    'model': [TCN],\n",
    "    'kernel_size': [3, 5, 7],\n",
    "    'num_channels': [(24,) * 2, (48,) * 3, (72,) *  4, (50,) * 5],\n",
    "    'dropout': [0.3],\n",
    "    'n_splits': [6],\n",
    "    'val_mod': [8],\n",
    "})\n",
    "\n",
    "wrapper = tl.MIMOTSWrapper(TCN(), seq_len=48, pred_len=3)\n",
    "b_p, b_s = wrapper.grid_search(X, y, grid, verbose=3)\n",
    "print(f\"\\nBest params: {b_p}\\nBest score: {b_s}\")"
   ]
  },
  {
   "cell_type": "markdown",
   "source": [
    "Best one was (72,) * 4 channels, and kernel size of 5, kernel size 7 isn't too far off, so it might be worth investigating further.\n",
    "(50,) * 5 channels with a kernel size of 5 performed comparably as well."
   ],
   "metadata": {
    "collapsed": false
   },
   "id": "794cdfd49701a39b"
  },
  {
   "cell_type": "code",
   "execution_count": null,
   "outputs": [],
   "source": [
    "grid = tl.Grid({\n",
    "    'epochs': [1000],  # we use early stopping, so this is just a high number\n",
    "    'lr': [0.0001],\n",
    "    'seq_len': [48],\n",
    "    'pred_len': [3],\n",
    "    'model': [TCN],\n",
    "    'kernel_size': [5, 7, 9],\n",
    "    'num_channels': [(24, 48, 72, 96,), (50, 60, 70, 80 ,90,), (20,) * 4, (100,) * 4],\n",
    "    'dropout': [0.3],\n",
    "    'n_splits': [6],\n",
    "    'val_mod': [8],\n",
    "})\n",
    "\n",
    "wrapper = tl.MIMOTSWrapper(TCN(), seq_len=48, pred_len=3)\n",
    "b_p, b_s = wrapper.grid_search(X, y, grid, verbose=3)\n",
    "print(f\"\\nBest params: {b_p}\\nBest score: {b_s}\")"
   ],
   "metadata": {
    "collapsed": false
   },
   "id": "4c5d31107578b7c2"
  },
  {
   "cell_type": "markdown",
   "source": [
    "It seems that higher kernel and filter sizes might help."
   ],
   "metadata": {
    "collapsed": false
   },
   "id": "a8d0fa789b30fe42"
  },
  {
   "cell_type": "code",
   "execution_count": null,
   "outputs": [],
   "source": [
    "grid = tl.Grid({\n",
    "    'epochs': [1000],  # we use early stopping, so this is just a high number\n",
    "    'lr': [0.0001],\n",
    "    'seq_len': [48],\n",
    "    'pred_len': [3],\n",
    "    'model': [TCN],\n",
    "    'kernel_size': [9],\n",
    "    'num_channels': [(100,) * 4],\n",
    "    'dropout': [0.3, 0.5],\n",
    "    'n_splits': [6],\n",
    "    'val_mod': [8],\n",
    "})\n",
    "\n",
    "wrapper = tl.MIMOTSWrapper(TCN(), seq_len=48, pred_len=3)\n",
    "b_p, b_s = wrapper.grid_search(X, y, grid, verbose=3)\n",
    "print(f\"\\nBest params: {b_p}\\nBest score: {b_s}\")"
   ],
   "metadata": {
    "collapsed": false
   },
   "id": "7bcaaffb518e4b5b"
  },
  {
   "cell_type": "markdown",
   "source": [
    "### Noise\n",
    "\n",
    "it seems that kernel size 5 was the most consistent, 4 or 5 layers worked almost equally well\n",
    "let's try adding noise to the fully connected layer, previous tests show that input noise didn't work well"
   ],
   "metadata": {
    "collapsed": false
   },
   "id": "21cfa1d01c6ccec4"
  },
  {
   "cell_type": "code",
   "execution_count": null,
   "outputs": [],
   "source": [
    "grid = tl.Grid({\n",
    "    'epochs': [1000],  # we use early stopping, so this is just a high number\n",
    "    'lr': [0.0001],\n",
    "    'seq_len': [48],\n",
    "    'pred_len': [3],\n",
    "    'model': [TCN],\n",
    "    'kernel_size': [5],\n",
    "    'hid_noise': [0.05, 0.1],\n",
    "    'num_channels': [(72,) * 4, (72,) * 5],\n",
    "    'dropout': [0.3],\n",
    "    'n_splits': [6],\n",
    "    'val_mod': [8],\n",
    "})\n",
    "\n",
    "wrapper = tl.MIMOTSWrapper(TCN(), seq_len=48, pred_len=3)\n",
    "b_p, b_s = wrapper.grid_search(X, y, grid, verbose=3)\n",
    "print(f\"\\nBest params: {b_p}\\nBest score: {b_s}\")"
   ],
   "metadata": {
    "collapsed": false
   },
   "id": "db402b65ccfc5eb2"
  },
  {
   "cell_type": "markdown",
   "source": [
    "### Final"
   ],
   "metadata": {
    "collapsed": false
   },
   "id": "fa2200f3c5c090db"
  },
  {
   "cell_type": "code",
   "execution_count": null,
   "outputs": [],
   "source": [
    "wrapper = tl.MIMOTSWrapper(TCN(seq_len=48, pred_len=3,num_channels=(72,) * 4, kernel_size=5, dropout=0.3, hid_noise=0.05), seq_len=48, pred_len=3)\n",
    "result = wrapper.validate_ts_strategy(X, y, epochs=1000, lr=0.0001, n_splits=6, verbose=4)"
   ],
   "metadata": {
    "collapsed": false
   },
   "id": "f1daadc673446b49"
  },
  {
   "cell_type": "code",
   "execution_count": null,
   "outputs": [],
   "source": [
    "print(sum(result[3]) / len(result[3]))\n",
    "st = X.shape[0] // 7\n",
    "tl.MIMOTSWrapper.print_evaluation_info(*wrapper.predict(X[-st:], y[-st:]))"
   ],
   "metadata": {
    "collapsed": false
   },
   "id": "436b8f8397c8b0d3"
  }
 ],
 "metadata": {
  "kernelspec": {
   "display_name": "Python 3",
   "language": "python",
   "name": "python3"
  },
  "language_info": {
   "codemirror_mode": {
    "name": "ipython",
    "version": 2
   },
   "file_extension": ".py",
   "mimetype": "text/x-python",
   "name": "python",
   "nbconvert_exporter": "python",
   "pygments_lexer": "ipython2",
   "version": "2.7.6"
  }
 },
 "nbformat": 4,
 "nbformat_minor": 5
}
