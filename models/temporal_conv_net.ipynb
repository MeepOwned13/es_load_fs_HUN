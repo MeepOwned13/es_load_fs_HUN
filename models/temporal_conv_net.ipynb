{
 "cells": [
  {
   "cell_type": "markdown",
   "id": "3072b96593348971",
   "metadata": {
    "collapsed": false
   },
   "source": [
    "### Imports"
   ]
  },
  {
   "cell_type": "code",
   "execution_count": 1,
   "id": "initial_id",
   "metadata": {
    "collapsed": true,
    "ExecuteTime": {
     "end_time": "2023-10-12T06:54:23.948550400Z",
     "start_time": "2023-10-12T06:54:17.676663400Z"
    }
   },
   "outputs": [],
   "source": [
    "import random\n",
    "import numpy as np\n",
    "import pandas as pd\n",
    "import matplotlib.pyplot as plt\n",
    "import torch\n",
    "from torch import nn\n",
    "import trainer_lib as tl\n",
    "from torch.nn.utils import weight_norm\n",
    "import torch_model_definitions as tmd\n",
    "\n",
    "torch.manual_seed(2412231200)\n",
    "random.seed(3009231410)\n",
    "np.random.seed(2909231846)\n",
    "np_random_state = np.random.RandomState(131002)"
   ]
  },
  {
   "cell_type": "markdown",
   "id": "aaf33bac7e52afe8",
   "metadata": {
    "collapsed": false
   },
   "source": [
    "### Load data"
   ]
  },
  {
   "cell_type": "code",
   "execution_count": 2,
   "id": "10cc0848013803bd",
   "metadata": {
    "collapsed": false,
    "ExecuteTime": {
     "end_time": "2023-10-12T06:54:24.134625600Z",
     "start_time": "2023-10-12T06:54:23.950552700Z"
    }
   },
   "outputs": [],
   "source": [
    "df: pd.DataFrame = tl.load_country_wide_dataset('../data/country_data.csv')\n",
    "\n",
    "X = df['el_load'].to_numpy(dtype=np.float32)\n",
    "y = X.copy()"
   ]
  },
  {
   "cell_type": "markdown",
   "id": "481391e78999f7b3",
   "metadata": {
    "collapsed": false
   },
   "source": [
    "### Define models"
   ]
  },
  {
   "cell_type": "code",
   "execution_count": 3,
   "id": "ad668771e5bf46a8",
   "metadata": {
    "collapsed": false,
    "ExecuteTime": {
     "end_time": "2023-10-12T06:54:24.139849200Z",
     "start_time": "2023-10-12T06:54:24.134625600Z"
    }
   },
   "outputs": [],
   "source": [
    "class TCN(nn.Module):\n",
    "    def __init__(self, seq_len=24, pred_len=3, num_channels=(24,) * 2, kernel_size=3, dropout=0.5, **kwargs):\n",
    "        super(TCN, self).__init__()\n",
    "        self.seq_len = seq_len\n",
    "        self.pred_len = pred_len\n",
    "        self.tcn = tmd.TemporalConvNet(1, num_channels, kernel_size=kernel_size, dropout=dropout)\n",
    "        self.fc = nn.Linear(num_channels[-1], pred_len)       \n",
    "\n",
    "    def forward(self, x):\n",
    "        x = x.reshape(-1, 1, self.seq_len)\n",
    "        x = self.tcn(x)\n",
    "        return self.fc(x[:, :, -1])"
   ]
  },
  {
   "cell_type": "markdown",
   "id": "e8a18568e1246577",
   "metadata": {
    "collapsed": false
   },
   "source": [
    "### Train models"
   ]
  },
  {
   "cell_type": "markdown",
   "id": "74c0b28036ce7161",
   "metadata": {
    "collapsed": false
   },
   "source": [
    "I'll use t-48 lookback, since 1D CNNs worked a lot better with that."
   ]
  },
  {
   "cell_type": "code",
   "execution_count": 4,
   "id": "e778978603cce388",
   "metadata": {
    "collapsed": false,
    "ExecuteTime": {
     "end_time": "2023-10-12T11:03:23.050558800Z",
     "start_time": "2023-10-12T06:54:24.141847100Z"
    }
   },
   "outputs": [
    {
     "name": "stdout",
     "output_type": "stream",
     "text": [
      "[Grid search 001] BEGIN - params: {'epochs': 1000, 'lr': 0.0001, 'seq_len': 48, 'pred_len': 3, 'model': <class '__main__.TCN'>, 'kernel_size': 3, 'num_channels': (24, 24), 'dropout': 0.3, 'n_splits': 6, 'val_mod': 8}\n",
      "[Fold 1] BEGIN - END - RMSE loss: 174.925 - Time: 1.4 min.\n",
      "[Fold 2] BEGIN - END - RMSE loss: 142.911 - Time: 2.4 min.\n",
      "[Fold 3] BEGIN - END - RMSE loss: 165.613 - Time: 2.8 min.\n",
      "[Fold 4] BEGIN - END - RMSE loss: 166.768 - Time: 3.0 min.\n",
      "[Fold 5] BEGIN - END - RMSE loss: 205.808 - Time: 2.5 min.\n",
      "[Fold 6] BEGIN - END - RMSE loss: 231.886 - Time: 1.1 min.\n",
      "[Grid search 001] END - Score: 181.31848894 *\n",
      "[Grid search 002] BEGIN - params: {'epochs': 1000, 'lr': 0.0001, 'seq_len': 48, 'pred_len': 3, 'model': <class '__main__.TCN'>, 'kernel_size': 5, 'num_channels': (24, 24), 'dropout': 0.3, 'n_splits': 6, 'val_mod': 8}\n",
      "[Fold 1] BEGIN - END - RMSE loss: 123.993 - Time: 2.8 min.\n",
      "[Fold 2] BEGIN - END - RMSE loss: 117.556 - Time: 2.1 min.\n",
      "[Fold 3] BEGIN - END - RMSE loss: 126.191 - Time: 2.4 min.\n",
      "[Fold 4] BEGIN - END - RMSE loss: 133.622 - Time: 3.0 min.\n",
      "[Fold 5] BEGIN - END - RMSE loss: 156.093 - Time: 3.1 min.\n",
      "[Fold 6] BEGIN - END - RMSE loss: 164.333 - Time: 1.4 min.\n",
      "[Grid search 002] END - Score: 136.96445386 *\n",
      "[Grid search 003] BEGIN - params: {'epochs': 1000, 'lr': 0.0001, 'seq_len': 48, 'pred_len': 3, 'model': <class '__main__.TCN'>, 'kernel_size': 7, 'num_channels': (24, 24), 'dropout': 0.3, 'n_splits': 6, 'val_mod': 8}\n",
      "[Fold 1] BEGIN - END - RMSE loss: 107.787 - Time: 2.2 min.\n",
      "[Fold 2] BEGIN - END - RMSE loss: 114.735 - Time: 1.1 min.\n",
      "[Fold 3] BEGIN - END - RMSE loss: 108.979 - Time: 2.6 min.\n",
      "[Fold 4] BEGIN - END - RMSE loss: 126.484 - Time: 1.6 min.\n",
      "[Fold 5] BEGIN - END - RMSE loss: 141.844 - Time: 2.3 min.\n",
      "[Fold 6] BEGIN - END - RMSE loss: 142.125 - Time: 2.1 min.\n",
      "[Grid search 003] END - Score: 123.65900392 *\n",
      "[Grid search 004] BEGIN - params: {'epochs': 1000, 'lr': 0.0001, 'seq_len': 48, 'pred_len': 3, 'model': <class '__main__.TCN'>, 'kernel_size': 3, 'num_channels': (48, 48, 48), 'dropout': 0.3, 'n_splits': 6, 'val_mod': 8}\n",
      "[Fold 1] BEGIN - END - RMSE loss: 119.556 - Time: 1.2 min.\n",
      "[Fold 2] BEGIN - END - RMSE loss: 101.311 - Time: 1.8 min.\n",
      "[Fold 3] BEGIN - END - RMSE loss: 106.350 - Time: 3.7 min.\n",
      "[Fold 4] BEGIN - END - RMSE loss: 119.641 - Time: 2.9 min.\n",
      "[Fold 5] BEGIN - END - RMSE loss: 141.771 - Time: 3.3 min.\n",
      "[Fold 6] BEGIN - END - RMSE loss: 143.826 - Time: 2.2 min.\n",
      "[Grid search 004] END - Score: 122.07588060 *\n",
      "[Grid search 005] BEGIN - params: {'epochs': 1000, 'lr': 0.0001, 'seq_len': 48, 'pred_len': 3, 'model': <class '__main__.TCN'>, 'kernel_size': 5, 'num_channels': (48, 48, 48), 'dropout': 0.3, 'n_splits': 6, 'val_mod': 8}\n",
      "[Fold 1] BEGIN - END - RMSE loss: 99.431 - Time: 1.7 min.\n",
      "[Fold 2] BEGIN - END - RMSE loss: 87.077 - Time: 1.6 min.\n",
      "[Fold 3] BEGIN - END - RMSE loss: 95.424 - Time: 3.9 min.\n",
      "[Fold 4] BEGIN - END - RMSE loss: 108.430 - Time: 2.1 min.\n",
      "[Fold 5] BEGIN - END - RMSE loss: 128.105 - Time: 4.9 min.\n",
      "[Fold 6] BEGIN - END - RMSE loss: 130.683 - Time: 2.1 min.\n",
      "[Grid search 005] END - Score: 108.19139875 *\n",
      "[Grid search 006] BEGIN - params: {'epochs': 1000, 'lr': 0.0001, 'seq_len': 48, 'pred_len': 3, 'model': <class '__main__.TCN'>, 'kernel_size': 7, 'num_channels': (48, 48, 48), 'dropout': 0.3, 'n_splits': 6, 'val_mod': 8}\n",
      "[Fold 1] BEGIN - END - RMSE loss: 98.216 - Time: 1.3 min.\n",
      "[Fold 2] BEGIN - END - RMSE loss: 72.239 - Time: 2.7 min.\n",
      "[Fold 3] BEGIN - END - RMSE loss: 91.563 - Time: 2.6 min.\n",
      "[Fold 4] BEGIN - END - RMSE loss: 97.023 - Time: 3.4 min.\n",
      "[Fold 5] BEGIN - END - RMSE loss: 121.897 - Time: 2.4 min.\n",
      "[Fold 6] BEGIN - END - RMSE loss: 114.192 - Time: 5.5 min.\n",
      "[Grid search 006] END - Score: 99.18820689 *\n",
      "[Grid search 007] BEGIN - params: {'epochs': 1000, 'lr': 0.0001, 'seq_len': 48, 'pred_len': 3, 'model': <class '__main__.TCN'>, 'kernel_size': 3, 'num_channels': (72, 72, 72, 72), 'dropout': 0.3, 'n_splits': 6, 'val_mod': 8}\n",
      "[Fold 1] BEGIN - END - RMSE loss: 112.622 - Time: 1.3 min.\n",
      "[Fold 2] BEGIN - END - RMSE loss: 75.820 - Time: 3.9 min.\n",
      "[Fold 3] BEGIN - END - RMSE loss: 93.121 - Time: 4.0 min.\n",
      "[Fold 4] BEGIN - END - RMSE loss: 101.952 - Time: 4.3 min.\n",
      "[Fold 5] BEGIN - END - RMSE loss: 126.648 - Time: 3.5 min.\n",
      "[Fold 6] BEGIN - END - RMSE loss: 118.982 - Time: 5.9 min.\n",
      "[Grid search 007] END - Score: 104.85757330 \n",
      "[Grid search 008] BEGIN - params: {'epochs': 1000, 'lr': 0.0001, 'seq_len': 48, 'pred_len': 3, 'model': <class '__main__.TCN'>, 'kernel_size': 5, 'num_channels': (72, 72, 72, 72), 'dropout': 0.3, 'n_splits': 6, 'val_mod': 8}\n",
      "[Fold 1] BEGIN - END - RMSE loss: 101.127 - Time: 1.4 min.\n",
      "[Fold 2] BEGIN - END - RMSE loss: 72.317 - Time: 4.2 min.\n",
      "[Fold 3] BEGIN - END - RMSE loss: 84.410 - Time: 6.6 min.\n",
      "[Fold 4] BEGIN - END - RMSE loss: 96.426 - Time: 4.7 min.\n",
      "[Fold 5] BEGIN - END - RMSE loss: 118.725 - Time: 5.1 min.\n",
      "[Fold 6] BEGIN - END - RMSE loss: 115.800 - Time: 4.0 min.\n",
      "[Grid search 008] END - Score: 98.13428318 *\n",
      "[Grid search 009] BEGIN - params: {'epochs': 1000, 'lr': 0.0001, 'seq_len': 48, 'pred_len': 3, 'model': <class '__main__.TCN'>, 'kernel_size': 7, 'num_channels': (72, 72, 72, 72), 'dropout': 0.3, 'n_splits': 6, 'val_mod': 8}\n",
      "[Fold 1] BEGIN - END - RMSE loss: 100.056 - Time: 1.4 min.\n",
      "[Fold 2] BEGIN - END - RMSE loss: 73.265 - Time: 3.3 min.\n",
      "[Fold 3] BEGIN - END - RMSE loss: 96.314 - Time: 2.7 min.\n",
      "[Fold 4] BEGIN - END - RMSE loss: 94.373 - Time: 6.2 min.\n",
      "[Fold 5] BEGIN - END - RMSE loss: 115.512 - Time: 4.4 min.\n",
      "[Fold 6] BEGIN - END - RMSE loss: 111.083 - Time: 7.1 min.\n",
      "[Grid search 009] END - Score: 98.43394369 \n",
      "[Grid search 010] BEGIN - params: {'epochs': 1000, 'lr': 0.0001, 'seq_len': 48, 'pred_len': 3, 'model': <class '__main__.TCN'>, 'kernel_size': 3, 'num_channels': (50, 50, 50, 50, 50), 'dropout': 0.3, 'n_splits': 6, 'val_mod': 8}\n",
      "[Fold 1] BEGIN - END - RMSE loss: 107.942 - Time: 1.7 min.\n",
      "[Fold 2] BEGIN - END - RMSE loss: 80.824 - Time: 3.8 min.\n",
      "[Fold 3] BEGIN - END - RMSE loss: 101.363 - Time: 3.1 min.\n",
      "[Fold 4] BEGIN - END - RMSE loss: 99.797 - Time: 6.5 min.\n",
      "[Fold 5] BEGIN - END - RMSE loss: 122.156 - Time: 8.4 min.\n",
      "[Fold 6] BEGIN - END - RMSE loss: 120.967 - Time: 4.9 min.\n",
      "[Grid search 010] END - Score: 105.50800689 \n",
      "[Grid search 011] BEGIN - params: {'epochs': 1000, 'lr': 0.0001, 'seq_len': 48, 'pred_len': 3, 'model': <class '__main__.TCN'>, 'kernel_size': 5, 'num_channels': (50, 50, 50, 50, 50), 'dropout': 0.3, 'n_splits': 6, 'val_mod': 8}\n",
      "[Fold 1] BEGIN - END - RMSE loss: 100.773 - Time: 1.6 min.\n",
      "[Fold 2] BEGIN - END - RMSE loss: 72.872 - Time: 5.7 min.\n",
      "[Fold 3] BEGIN - END - RMSE loss: 88.476 - Time: 6.6 min.\n",
      "[Fold 4] BEGIN - END - RMSE loss: 97.194 - Time: 5.8 min.\n",
      "[Fold 5] BEGIN - END - RMSE loss: 115.517 - Time: 5.8 min.\n",
      "[Fold 6] BEGIN - END - RMSE loss: 114.315 - Time: 6.5 min.\n",
      "[Grid search 011] END - Score: 98.19099153 \n",
      "[Grid search 012] BEGIN - params: {'epochs': 1000, 'lr': 0.0001, 'seq_len': 48, 'pred_len': 3, 'model': <class '__main__.TCN'>, 'kernel_size': 7, 'num_channels': (50, 50, 50, 50, 50), 'dropout': 0.3, 'n_splits': 6, 'val_mod': 8}\n",
      "[Fold 1] BEGIN - END - RMSE loss: 108.028 - Time: 1.1 min.\n",
      "[Fold 2] BEGIN - END - RMSE loss: 70.696 - Time: 4.5 min.\n",
      "[Fold 3] BEGIN - END - RMSE loss: 88.515 - Time: 5.4 min.\n",
      "[Fold 4] BEGIN - END - RMSE loss: 98.269 - Time: 4.4 min.\n",
      "[Fold 5] BEGIN - END - RMSE loss: 119.646 - Time: 6.6 min.\n",
      "[Fold 6] BEGIN - END - RMSE loss: 120.965 - Time: 3.6 min.\n",
      "[Grid search 012] END - Score: 101.01985153 \n",
      "\n",
      "Best params: {'epochs': 1000, 'lr': 0.0001, 'seq_len': 48, 'pred_len': 3, 'model': <class '__main__.TCN'>, 'kernel_size': 5, 'num_channels': (72, 72, 72, 72), 'dropout': 0.3, 'n_splits': 6, 'val_mod': 8}\n",
      "Best score: 98.13428317762595\n"
     ]
    }
   ],
   "source": [
    "grid = tl.Grid({\n",
    "    'epochs': [1000],  # we use early stopping, so this is just a high number\n",
    "    'lr': [0.0001],\n",
    "    'seq_len': [48],\n",
    "    'pred_len': [3],\n",
    "    'model': [TCN],\n",
    "    'kernel_size': [3, 5, 7],\n",
    "    'num_channels': [(24,) * 2, (48,) * 3, (72,) *  4, (50,) * 5],\n",
    "    'dropout': [0.3],\n",
    "    'n_splits': [6],\n",
    "    'val_mod': [8],\n",
    "})\n",
    "\n",
    "wrapper = tl.MIMOTSWrapper(TCN(), seq_len=48, pred_len=3)\n",
    "b_p, b_s = wrapper.grid_search(X, y, grid, verbose=3)\n",
    "print(f\"\\nBest params: {b_p}\\nBest score: {b_s}\")"
   ]
  },
  {
   "cell_type": "markdown",
   "source": [
    "Best one was (72,) * 4 channels, and kernel size of 5, kernel size 7 isn't too far off, so it might be worth investigating further.\n",
    "(50,) * 5 channels with a kernel size of 5 performed comparably as well."
   ],
   "metadata": {
    "collapsed": false
   },
   "id": "794cdfd49701a39b"
  }
 ],
 "metadata": {
  "kernelspec": {
   "display_name": "Python 3",
   "language": "python",
   "name": "python3"
  },
  "language_info": {
   "codemirror_mode": {
    "name": "ipython",
    "version": 2
   },
   "file_extension": ".py",
   "mimetype": "text/x-python",
   "name": "python",
   "nbconvert_exporter": "python",
   "pygments_lexer": "ipython2",
   "version": "2.7.6"
  }
 },
 "nbformat": 4,
 "nbformat_minor": 5
}
