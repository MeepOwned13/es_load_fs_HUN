{
 "cells": [
  {
   "cell_type": "markdown",
   "source": [
    "### Imports"
   ],
   "metadata": {
    "collapsed": false
   },
   "id": "fcf6a58743d35099"
  },
  {
   "cell_type": "code",
   "execution_count": 1,
   "outputs": [],
   "source": [
    "import random\n",
    "import numpy as np\n",
    "import pandas as pd\n",
    "import matplotlib.pyplot as plt\n",
    "import torch\n",
    "from torch import nn\n",
    "import trainer_lib as tl\n",
    "\n",
    "torch.manual_seed(2412231200)\n",
    "random.seed(3009231410)\n",
    "np.random.seed(2909231846)\n",
    "np_random_state = np.random.RandomState(131002)"
   ],
   "metadata": {
    "collapsed": false,
    "ExecuteTime": {
     "end_time": "2023-09-30T13:25:45.711476Z",
     "start_time": "2023-09-30T13:25:42.958903Z"
    }
   },
   "id": "df34c825c4e81b0c"
  },
  {
   "cell_type": "markdown",
   "source": [
    "### Load data"
   ],
   "metadata": {
    "collapsed": false
   },
   "id": "a8d9dc6d900174e5"
  },
  {
   "cell_type": "code",
   "execution_count": 2,
   "outputs": [],
   "source": [
    "df: pd.DataFrame = tl.load_country_wide_dataset('../data/country_data.csv')\n",
    "\n",
    "X = df['el_load'].to_numpy(dtype=np.float32)\n",
    "y = X.copy()"
   ],
   "metadata": {
    "collapsed": false,
    "ExecuteTime": {
     "end_time": "2023-09-30T13:25:45.892506900Z",
     "start_time": "2023-09-30T13:25:45.712475700Z"
    }
   },
   "id": "cafe1a8474d1e5b"
  },
  {
   "cell_type": "markdown",
   "source": [
    "### Define models"
   ],
   "metadata": {
    "collapsed": false
   },
   "id": "1d3289c83aed919d"
  },
  {
   "cell_type": "code",
   "execution_count": 3,
   "outputs": [],
   "source": [
    "class ConvNetSmall(nn.Module):\n",
    "    def __init__(self, dropout=0.5, **kwargs):\n",
    "        super(ConvNetSmall, self).__init__()\n",
    "        self.conv = nn.Sequential(\n",
    "            nn.Conv1d(1, 16, 4, padding=2),\n",
    "            nn.BatchNorm1d(16),\n",
    "            nn.ReLU(),\n",
    "            nn.MaxPool1d(2),\n",
    "            nn.Conv1d(16, 8, 4, padding=2),\n",
    "            nn.BatchNorm1d(8),\n",
    "            nn.ReLU(),\n",
    "            nn.MaxPool1d(2),\n",
    "        )\n",
    "        self.fc = nn.Sequential(\n",
    "            nn.Flatten(1, -1),\n",
    "            nn.Dropout(dropout),\n",
    "            nn.Linear(6 * 8, 3),\n",
    "        )\n",
    "\n",
    "    def forward(self, x):\n",
    "        x = x.reshape(-1, 1, 24)\n",
    "        x = self.conv(x)\n",
    "        x = self.fc(x)\n",
    "        return x\n",
    "    \n",
    "class ConvNetMedium(nn.Module):\n",
    "    def __init__(self, dropout=0.5, **kwargs):\n",
    "        super(ConvNetMedium, self).__init__()\n",
    "        self.conv = nn.Sequential(\n",
    "            nn.Conv1d(1, 16, 4, padding=2),\n",
    "            nn.BatchNorm1d(16),\n",
    "            nn.ReLU(),\n",
    "            nn.MaxPool1d(2),\n",
    "            nn.Conv1d(16, 32, 4, padding=2),\n",
    "            nn.BatchNorm1d(32),\n",
    "            nn.ReLU(),\n",
    "            nn.MaxPool1d(2),\n",
    "            nn.Conv1d(32, 16, 4, padding=2),\n",
    "            nn.BatchNorm1d(16),\n",
    "            nn.ReLU(),\n",
    "            nn.MaxPool1d(2),\n",
    "        )\n",
    "        self.fc = nn.Sequential(\n",
    "            nn.Flatten(1, -1),\n",
    "            nn.Dropout(dropout),\n",
    "            nn.Linear(3 * 16, 3),\n",
    "        )\n",
    "\n",
    "    def forward(self, x):\n",
    "        x = x.reshape(-1, 1, 24)\n",
    "        x = self.conv(x)\n",
    "        x = self.fc(x)\n",
    "        return x"
   ],
   "metadata": {
    "collapsed": false,
    "ExecuteTime": {
     "end_time": "2023-09-30T13:25:45.901272600Z",
     "start_time": "2023-09-30T13:25:45.892506900Z"
    }
   },
   "id": "781509586ab59558"
  },
  {
   "cell_type": "markdown",
   "source": [
    "### Grid search"
   ],
   "metadata": {
    "collapsed": false
   },
   "id": "dd4cdc82a57faf24"
  },
  {
   "cell_type": "code",
   "execution_count": 7,
   "outputs": [
    {
     "name": "stdout",
     "output_type": "stream",
     "text": [
      "[Grid search 001] BEGIN - params: {'epochs': 200, 'batch_size': 64, 'lr': 0.001, 'model': <class '__main__.ConvNetSmall'>, 'dropout': 0.5, 'n_splits': 6}\n",
      "[Fold 1] BEGIN - END - Metric loss: 74036.15625000\n",
      "[Fold 2] BEGIN - END - Metric loss: 29839.77929688\n",
      "[Fold 3] BEGIN - END - Metric loss: 28764.83203125\n",
      "[Fold 4] BEGIN - END - Metric loss: 61825.18750000\n",
      "[Fold 5] BEGIN - END - Metric loss: 82268.16406250\n",
      "[Fold 6] BEGIN - END - Metric loss: 74487.77343750\n",
      "[Grid search 001] END - Score: 58536.98209635 *\n",
      "[Grid search 002] BEGIN - params: {'epochs': 200, 'batch_size': 64, 'lr': 0.0001, 'model': <class '__main__.ConvNetSmall'>, 'dropout': 0.5, 'n_splits': 6}\n",
      "[Fold 1] BEGIN - END - Metric loss: 67067.86718750\n",
      "[Fold 2] BEGIN - END - Metric loss: 47872.58984375\n",
      "[Fold 3] BEGIN - END - Metric loss: 33076.72656250\n",
      "[Fold 4] BEGIN - END - Metric loss: 81323.43750000\n",
      "[Fold 5] BEGIN - END - Metric loss: 86466.56250000\n",
      "[Fold 6] BEGIN - END - Metric loss: 80678.94531250\n",
      "[Grid search 002] END - Score: 66081.02148438 \n",
      "[Grid search 003] BEGIN - params: {'epochs': 200, 'batch_size': 64, 'lr': 0.001, 'model': <class '__main__.ConvNetMedium'>, 'dropout': 0.5, 'n_splits': 6}\n",
      "[Fold 1] BEGIN - END - Metric loss: 60686.68750000\n",
      "[Fold 2] BEGIN - END - Metric loss: 18792.97265625\n",
      "[Fold 3] BEGIN - END - Metric loss: 14385.61621094\n",
      "[Fold 4] BEGIN - END - Metric loss: 35209.85546875\n",
      "[Fold 5] BEGIN - END - Metric loss: 80226.84375000\n",
      "[Fold 6] BEGIN - END - Metric loss: 50494.96093750\n",
      "[Grid search 003] END - Score: 43299.48942057 *\n",
      "[Grid search 004] BEGIN - params: {'epochs': 200, 'batch_size': 64, 'lr': 0.0001, 'model': <class '__main__.ConvNetMedium'>, 'dropout': 0.5, 'n_splits': 6}\n",
      "[Fold 1] BEGIN - END - Metric loss: 91064.77343750\n",
      "[Fold 2] BEGIN - END - Metric loss: 20811.22656250\n",
      "[Fold 3] BEGIN - END - Metric loss: 16520.82226562\n",
      "[Fold 4] BEGIN - END - Metric loss: 38239.65234375\n",
      "[Fold 5] BEGIN - END - Metric loss: 69158.22656250\n",
      "[Fold 6] BEGIN - END - Metric loss: 50740.93359375\n",
      "[Grid search 004] END - Score: 47755.93912760 \n",
      "[Grid search 005] BEGIN - params: {'epochs': 200, 'batch_size': 64, 'lr': 0.001, 'model': <class '__main__.ConvNetSmall'>, 'dropout': 0.3, 'n_splits': 6}\n",
      "[Fold 1] BEGIN - END - Metric loss: 78938.25000000\n",
      "[Fold 2] BEGIN - END - Metric loss: 40591.72656250\n",
      "[Fold 3] BEGIN - END - Metric loss: 28931.53515625\n",
      "[Fold 4] BEGIN - END - Metric loss: 75897.88281250\n",
      "[Fold 5] BEGIN - END - Metric loss: 80558.89843750\n",
      "[Fold 6] BEGIN - END - Metric loss: 90644.28125000\n",
      "[Grid search 005] END - Score: 65927.09570312 \n",
      "[Grid search 006] BEGIN - params: {'epochs': 200, 'batch_size': 64, 'lr': 0.0001, 'model': <class '__main__.ConvNetSmall'>, 'dropout': 0.3, 'n_splits': 6}\n",
      "[Fold 1] BEGIN - END - Metric loss: 69010.57812500\n",
      "[Fold 2] BEGIN - END - Metric loss: 38325.84765625\n",
      "[Fold 3] BEGIN - END - Metric loss: 28553.09960938\n",
      "[Fold 4] BEGIN - END - Metric loss: 79801.71875000\n",
      "[Fold 5] BEGIN - END - Metric loss: 80345.00000000\n",
      "[Fold 6] BEGIN - END - Metric loss: 66877.70312500\n",
      "[Grid search 006] END - Score: 60485.65787760 \n",
      "[Grid search 007] BEGIN - params: {'epochs': 200, 'batch_size': 64, 'lr': 0.001, 'model': <class '__main__.ConvNetMedium'>, 'dropout': 0.3, 'n_splits': 6}\n",
      "[Fold 1] BEGIN - END - Metric loss: 76537.72656250\n",
      "[Fold 2] BEGIN - END - Metric loss: 23457.71679688\n",
      "[Fold 3] BEGIN - END - Metric loss: 14496.23437500\n",
      "[Fold 4] BEGIN - END - Metric loss: 34952.38671875\n",
      "[Fold 5] BEGIN - END - Metric loss: 52672.45703125\n",
      "[Fold 6] BEGIN - END - Metric loss: 50888.19531250\n",
      "[Grid search 007] END - Score: 42167.45279948 *\n",
      "[Grid search 008] BEGIN - params: {'epochs': 200, 'batch_size': 64, 'lr': 0.0001, 'model': <class '__main__.ConvNetMedium'>, 'dropout': 0.3, 'n_splits': 6}\n",
      "[Fold 1] BEGIN - END - Metric loss: 54824.82031250\n",
      "[Fold 2] BEGIN - END - Metric loss: 21914.43164062\n",
      "[Fold 3] BEGIN - END - Metric loss: 16191.08691406\n",
      "[Fold 4] BEGIN - END - Metric loss: 38874.09765625\n",
      "[Fold 5] BEGIN - END - Metric loss: 69455.29687500\n",
      "[Fold 6] BEGIN - END - Metric loss: 61146.92578125\n",
      "[Grid search 008] END - Score: 43734.44319661 \n",
      "Best params: {'epochs': 200, 'batch_size': 64, 'lr': 0.001, 'model': <class '__main__.ConvNetMedium'>, 'dropout': 0.3, 'n_splits': 6}\n",
      "Best score: 42167.452799479164\n"
     ]
    }
   ],
   "source": [
    "grid = tl.Grid({\n",
    "    'epochs': [200],  # we use early stop anyway\n",
    "    'batch_size': [64], # so we have less params to search, this can be a single test afterward\n",
    "    'lr': [0.001, 0.0001],\n",
    "    'model': [ConvNetSmall, ConvNetMedium],\n",
    "    'dropout': [0.5, 0.3],\n",
    "    'n_splits': [6],\n",
    "})\n",
    "\n",
    "wrapper = tl.MIMOTSWrapper(ConvNetSmall(), seq_len=24, pred_len=3)\n",
    "b_p, b_s = wrapper.grid_search(X, y, grid, verbose=3)\n",
    "print(f\"Best params: {b_p}\\nBest score: {b_s}\")"
   ],
   "metadata": {
    "collapsed": false,
    "ExecuteTime": {
     "end_time": "2023-09-30T18:21:04.023829400Z",
     "start_time": "2023-09-30T13:48:47.134424300Z"
    }
   },
   "id": "33943100a58528b0"
  }
 ],
 "metadata": {
  "kernelspec": {
   "display_name": "Python 3",
   "language": "python",
   "name": "python3"
  },
  "language_info": {
   "codemirror_mode": {
    "name": "ipython",
    "version": 2
   },
   "file_extension": ".py",
   "mimetype": "text/x-python",
   "name": "python",
   "nbconvert_exporter": "python",
   "pygments_lexer": "ipython2",
   "version": "2.7.6"
  }
 },
 "nbformat": 4,
 "nbformat_minor": 5
}
