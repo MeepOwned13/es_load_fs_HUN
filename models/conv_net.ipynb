{
 "cells": [
  {
   "cell_type": "markdown",
   "source": [
    "### Imports"
   ],
   "metadata": {
    "collapsed": false
   },
   "id": "fcf6a58743d35099"
  },
  {
   "cell_type": "code",
   "execution_count": 2,
   "outputs": [],
   "source": [
    "import random\n",
    "import numpy as np\n",
    "import pandas as pd\n",
    "import matplotlib.pyplot as plt\n",
    "import torch\n",
    "from torch import nn\n",
    "import trainer_lib as tl\n",
    "\n",
    "torch.manual_seed(2412231200)\n",
    "random.seed(3009231410)\n",
    "np.random.seed(2909231846)\n",
    "np_random_state = np.random.RandomState(131002)"
   ],
   "metadata": {
    "collapsed": false,
    "ExecuteTime": {
     "end_time": "2023-10-02T10:57:40.074738900Z",
     "start_time": "2023-10-02T10:57:30.638781200Z"
    }
   },
   "id": "df34c825c4e81b0c"
  },
  {
   "cell_type": "markdown",
   "source": [
    "### Load data"
   ],
   "metadata": {
    "collapsed": false
   },
   "id": "a8d9dc6d900174e5"
  },
  {
   "cell_type": "code",
   "execution_count": 3,
   "outputs": [],
   "source": [
    "df: pd.DataFrame = tl.load_country_wide_dataset('../data/country_data.csv')\n",
    "\n",
    "X = df['el_load'].to_numpy(dtype=np.float32)\n",
    "y = X.copy()"
   ],
   "metadata": {
    "collapsed": false,
    "ExecuteTime": {
     "end_time": "2023-10-02T10:57:40.301022700Z",
     "start_time": "2023-10-02T10:57:40.070741300Z"
    }
   },
   "id": "cafe1a8474d1e5b"
  },
  {
   "cell_type": "markdown",
   "source": [
    "### Define models"
   ],
   "metadata": {
    "collapsed": false
   },
   "id": "1d3289c83aed919d"
  },
  {
   "cell_type": "code",
   "execution_count": 18,
   "outputs": [
    {
     "data": {
      "text/plain": "tensor([[-0.3949, -0.0125, -0.1370]], grad_fn=<AddmmBackward0>)"
     },
     "execution_count": 18,
     "metadata": {},
     "output_type": "execute_result"
    }
   ],
   "source": [
    "class ConvNetSmall(nn.Module):\n",
    "    def __init__(self, dropout=0.5, **kwargs):\n",
    "        super(ConvNetSmall, self).__init__()\n",
    "        self.conv = nn.Sequential(\n",
    "            nn.Conv1d(1, 8, 5, padding=2),\n",
    "            nn.BatchNorm1d(8),\n",
    "            nn.ReLU(),\n",
    "            nn.MaxPool1d(2),\n",
    "            nn.Conv1d(8, 16, 5, padding=2),\n",
    "            nn.BatchNorm1d(16),\n",
    "            nn.ReLU(),\n",
    "            nn.MaxPool1d(2),\n",
    "        )\n",
    "        self.fc = nn.Sequential(\n",
    "            nn.Flatten(1, -1),\n",
    "            nn.Dropout(dropout),\n",
    "            nn.Linear(6 * 16, 3),\n",
    "        )\n",
    "\n",
    "    def forward(self, x):\n",
    "        x = x.reshape(-1, 1, 24)\n",
    "        x = self.conv(x)\n",
    "        x = self.fc(x)\n",
    "        return x\n",
    "    \n",
    "class ConvNetMedium(nn.Module):\n",
    "    def __init__(self, dropout=0.5, **kwargs):\n",
    "        super(ConvNetMedium, self).__init__()\n",
    "        self.conv = nn.Sequential(\n",
    "            nn.Conv1d(1, 16, 7, padding=3),\n",
    "            nn.BatchNorm1d(16),\n",
    "            nn.ReLU(),\n",
    "            nn.MaxPool1d(2),\n",
    "            nn.Dropout(dropout / 5),\n",
    "            nn.Conv1d(16, 32, 7, padding=3),\n",
    "            nn.BatchNorm1d(32),\n",
    "            nn.ReLU(),\n",
    "            nn.MaxPool1d(2),\n",
    "            nn.Dropout(dropout / 5),\n",
    "            nn.Conv1d(32, 32, 7, padding=3),\n",
    "            nn.BatchNorm1d(32),\n",
    "            nn.ReLU(),\n",
    "            nn.MaxPool1d(2),\n",
    "        )\n",
    "        self.fc = nn.Sequential(\n",
    "            nn.Flatten(1, -1),\n",
    "            nn.Dropout(dropout),\n",
    "            nn.Linear(3 * 32, 3),\n",
    "        )\n",
    "\n",
    "    def forward(self, x):\n",
    "        x = x.reshape(-1, 1, 24)\n",
    "        x = self.conv(x)\n",
    "        x = self.fc(x)\n",
    "        return x\n",
    "    \n",
    "class ConvNetLarge(nn.Module):\n",
    "    def __init__(self, dropout=0.5, **kwargs):\n",
    "        super(ConvNetLarge, self).__init__()\n",
    "        self.conv = nn.Sequential(\n",
    "            nn.Conv1d(1, 32, 9, padding=4),\n",
    "            nn.BatchNorm1d(32),\n",
    "            nn.ReLU(),\n",
    "            nn.MaxPool1d(2),\n",
    "            nn.Dropout(dropout / 5),\n",
    "            nn.Conv1d(32, 64, 9, padding=4),\n",
    "            nn.BatchNorm1d(64),\n",
    "            nn.ReLU(),\n",
    "            nn.MaxPool1d(2),\n",
    "            nn.Dropout(dropout / 5),\n",
    "            nn.Conv1d(64, 64, 9, padding=4),\n",
    "            nn.BatchNorm1d(64),\n",
    "            nn.ReLU(),\n",
    "            nn.MaxPool1d(2),\n",
    "        )\n",
    "        self.fc = nn.Sequential(\n",
    "            nn.Flatten(1, -1),\n",
    "            nn.Dropout(dropout / 2),\n",
    "            nn.Linear(3 * 64, 64),\n",
    "            nn.ReLU(),\n",
    "            nn.Dropout(dropout),\n",
    "            nn.Linear(64, 3),\n",
    "        )\n",
    "\n",
    "    def forward(self, x):\n",
    "        x = x.reshape(-1, 1, 24)\n",
    "        x = self.conv(x)\n",
    "        x = self.fc(x)\n",
    "        return x"
   ],
   "metadata": {
    "collapsed": false,
    "ExecuteTime": {
     "end_time": "2023-10-02T11:42:05.415562300Z",
     "start_time": "2023-10-02T11:42:05.400472Z"
    }
   },
   "id": "781509586ab59558"
  },
  {
   "cell_type": "markdown",
   "source": [
    "### Grid search"
   ],
   "metadata": {
    "collapsed": false
   },
   "id": "dd4cdc82a57faf24"
  },
  {
   "cell_type": "code",
   "execution_count": 19,
   "outputs": [
    {
     "name": "stdout",
     "output_type": "stream",
     "text": [
      "[Grid search 001] BEGIN - params: {'epochs': 200, 'batch_size': 64, 'lr': 0.001, 'model': <class '__main__.ConvNetSmall'>, 'dropout': 0.5, 'n_splits': 6}\n",
      "[Fold 1] BEGIN\n",
      "Early stopping... Epoch 026: train loss: 0.100978, val loss: 0.108640, test loss: 0.172985\n",
      "[Fold 1] END - RMSE loss: 261.655 - Time: 0.3 min.\n",
      "[Fold 2] BEGIN\n",
      "Early stopping... Epoch 022: train loss: 0.098946, val loss: 0.098821, test loss: 0.052177\n",
      "[Fold 2] END - RMSE loss: 151.252 - Time: 0.4 min.\n",
      "[Fold 3] BEGIN\n",
      "Early stopping... Epoch 039: train loss: 0.090542, val loss: 0.085512, test loss: 0.034996\n",
      "[Fold 3] END - RMSE loss: 127.090 - Time: 0.9 min.\n",
      "[Fold 4] BEGIN\n",
      "Early stopping... Epoch 041: train loss: 0.090202, val loss: 0.150568, test loss: 0.087215\n",
      "[Fold 4] END - RMSE loss: 194.021 - Time: 1.2 min.\n",
      "[Fold 5] BEGIN\n",
      "Early stopping... Epoch 032: train loss: 0.092739, val loss: 0.094023, test loss: 0.121490\n",
      "[Fold 5] END - RMSE loss: 241.328 - Time: 1.2 min.\n",
      "[Fold 6] BEGIN\n",
      "Early stopping... Epoch 034: train loss: 0.098729, val loss: 0.123309, test loss: 0.090317\n",
      "[Fold 6] END - RMSE loss: 201.377 - Time: 1.5 min.\n",
      "[Grid search 001] END - Score: 196.12052443 *\n",
      "[Grid search 002] BEGIN - params: {'epochs': 200, 'batch_size': 64, 'lr': 0.0001, 'model': <class '__main__.ConvNetSmall'>, 'dropout': 0.5, 'n_splits': 6}\n",
      "[Fold 1] BEGIN\n",
      "Early stopping... Epoch 160: train loss: 0.104804, val loss: 0.076031, test loss: 0.109729\n",
      "[Fold 1] END - RMSE loss: 224.643 - Time: 1.7 min.\n",
      "[Fold 2] BEGIN\n",
      "Early stopping... Epoch 062: train loss: 0.120755, val loss: 0.091333, test loss: 0.062312\n",
      "[Fold 2] END - RMSE loss: 175.516 - Time: 1.1 min.\n",
      "[Fold 3] BEGIN\n",
      "Early stopping... Epoch 088: train loss: 0.100415, val loss: 0.078346, test loss: 0.041463\n",
      "[Fold 3] END - RMSE loss: 144.943 - Time: 2.2 min.\n",
      "[Fold 4] BEGIN\n",
      "Early stopping... Epoch 058: train loss: 0.100221, val loss: 0.186642, test loss: 0.109294\n",
      "[Fold 4] END - RMSE loss: 234.226 - Time: 1.8 min.\n",
      "[Fold 5] BEGIN\n",
      "Early stopping... Epoch 081: train loss: 0.096643, val loss: 0.100968, test loss: 0.096431\n",
      "[Fold 5] END - RMSE loss: 223.764 - Time: 3.1 min.\n",
      "[Fold 6] BEGIN\n",
      "Early stopping... Epoch 033: train loss: 0.104068, val loss: 0.099287, test loss: 0.103758\n",
      "[Fold 6] END - RMSE loss: 230.594 - Time: 1.5 min.\n",
      "[Grid search 002] END - Score: 205.61456524 \n",
      "[Grid search 003] BEGIN - params: {'epochs': 200, 'batch_size': 64, 'lr': 0.001, 'model': <class '__main__.ConvNetMedium'>, 'dropout': 0.5, 'n_splits': 6}\n",
      "[Fold 1] BEGIN\n",
      "Early stopping... Epoch 069: train loss: 0.058735, val loss: 0.083542, test loss: 0.128499\n",
      "[Fold 1] END - RMSE loss: 209.761 - Time: 0.9 min.\n",
      "[Fold 2] BEGIN\n",
      "Early stopping... Epoch 032: train loss: 0.062804, val loss: 0.077512, test loss: 0.034470\n",
      "[Fold 2] END - RMSE loss: 134.962 - Time: 0.7 min.\n",
      "[Fold 3] BEGIN\n",
      "Early stopping... Epoch 035: train loss: 0.059881, val loss: 0.069719, test loss: 0.034966\n",
      "[Fold 3] END - RMSE loss: 117.436 - Time: 1.0 min.\n",
      "[Fold 4] BEGIN\n",
      "Early stopping... Epoch 056: train loss: 0.056166, val loss: 0.107647, test loss: 0.089902\n",
      "[Fold 4] END - RMSE loss: 197.492 - Time: 2.1 min.\n",
      "[Fold 5] BEGIN\n",
      "Early stopping... Epoch 033: train loss: 0.058524, val loss: 0.105634, test loss: 0.133681\n",
      "[Fold 5] END - RMSE loss: 272.730 - Time: 1.5 min.\n",
      "[Fold 6] BEGIN\n",
      "Early stopping... Epoch 050: train loss: 0.059075, val loss: 0.106429, test loss: 0.103490\n",
      "[Fold 6] END - RMSE loss: 237.112 - Time: 2.7 min.\n",
      "[Grid search 003] END - Score: 194.91530724 *\n",
      "[Grid search 004] BEGIN - params: {'epochs': 200, 'batch_size': 64, 'lr': 0.0001, 'model': <class '__main__.ConvNetMedium'>, 'dropout': 0.5, 'n_splits': 6}\n",
      "[Fold 1] BEGIN\n",
      "Early stopping... Epoch 079: train loss: 0.076739, val loss: 0.079115, test loss: 0.114809\n",
      "[Fold 1] END - RMSE loss: 234.167 - Time: 1.0 min.\n",
      "[Fold 2] BEGIN\n",
      "Early stopping... Epoch 074: train loss: 0.073674, val loss: 0.101663, test loss: 0.044943\n",
      "[Fold 2] END - RMSE loss: 148.845 - Time: 1.5 min.\n",
      "[Fold 3] BEGIN\n",
      "Early stopping... Epoch 064: train loss: 0.065903, val loss: 0.074592, test loss: 0.035245\n",
      "[Fold 3] END - RMSE loss: 125.444 - Time: 1.9 min.\n",
      "[Fold 4] BEGIN\n",
      "Early stopping... Epoch 044: train loss: 0.071230, val loss: 0.129260, test loss: 0.090849\n",
      "[Fold 4] END - RMSE loss: 208.739 - Time: 1.6 min.\n",
      "[Fold 5] BEGIN\n",
      "Early stopping... Epoch 044: train loss: 0.067489, val loss: 0.087122, test loss: 0.117739\n",
      "[Fold 5] END - RMSE loss: 232.054 - Time: 2.1 min.\n",
      "[Fold 6] BEGIN\n",
      "Early stopping... Epoch 030: train loss: 0.072871, val loss: 0.099136, test loss: 0.106010\n",
      "[Fold 6] END - RMSE loss: 230.392 - Time: 1.6 min.\n",
      "[Grid search 004] END - Score: 196.60664189 \n",
      "[Grid search 005] BEGIN - params: {'epochs': 200, 'batch_size': 64, 'lr': 0.001, 'model': <class '__main__.ConvNetLarge'>, 'dropout': 0.5, 'n_splits': 6}\n",
      "[Fold 1] BEGIN\n",
      "Early stopping... Epoch 032: train loss: 0.076182, val loss: 0.077330, test loss: 0.106599\n",
      "[Fold 1] END - RMSE loss: 224.608 - Time: 0.4 min.\n",
      "[Fold 2] BEGIN\n",
      "Early stopping... Epoch 027: train loss: 0.075341, val loss: 0.084039, test loss: 0.040455\n",
      "[Fold 2] END - RMSE loss: 135.717 - Time: 0.6 min.\n",
      "[Fold 3] BEGIN\n",
      "Early stopping... Epoch 055: train loss: 0.063319, val loss: 0.062354, test loss: 0.031095\n",
      "[Fold 3] END - RMSE loss: 110.828 - Time: 1.8 min.\n",
      "[Fold 4] BEGIN\n",
      "Early stopping... Epoch 039: train loss: 0.066322, val loss: 0.143512, test loss: 0.058777\n",
      "[Fold 4] END - RMSE loss: 186.804 - Time: 1.6 min.\n",
      "[Fold 5] BEGIN\n",
      "Early stopping... Epoch 033: train loss: 0.064887, val loss: 0.080699, test loss: 0.124955\n",
      "[Fold 5] END - RMSE loss: 226.757 - Time: 1.8 min.\n",
      "[Fold 6] BEGIN\n",
      "Early stopping... Epoch 037: train loss: 0.065754, val loss: 0.104714, test loss: 0.082699\n",
      "[Fold 6] END - RMSE loss: 203.464 - Time: 2.4 min.\n",
      "[Grid search 005] END - Score: 181.36310882 *\n",
      "[Grid search 006] BEGIN - params: {'epochs': 200, 'batch_size': 64, 'lr': 0.0001, 'model': <class '__main__.ConvNetLarge'>, 'dropout': 0.5, 'n_splits': 6}\n",
      "[Fold 1] BEGIN\n",
      "Early stopping... Epoch 072: train loss: 0.074170, val loss: 0.080835, test loss: 0.135478\n",
      "[Fold 1] END - RMSE loss: 237.826 - Time: 1.0 min.\n",
      "[Fold 2] BEGIN\n",
      "Early stopping... Epoch 041: train loss: 0.076103, val loss: 0.096040, test loss: 0.040154\n",
      "[Fold 2] END - RMSE loss: 142.838 - Time: 0.9 min.\n",
      "[Fold 3] BEGIN\n",
      "Early stopping... Epoch 038: train loss: 0.075677, val loss: 0.069872, test loss: 0.031066\n",
      "[Fold 3] END - RMSE loss: 116.855 - Time: 1.2 min.\n",
      "[Fold 4] BEGIN\n",
      "Early stopping... Epoch 039: train loss: 0.070777, val loss: 0.091995, test loss: 0.063594\n",
      "[Fold 4] END - RMSE loss: 161.224 - Time: 1.5 min.\n",
      "[Fold 5] BEGIN\n",
      "Early stopping... Epoch 044: train loss: 0.066630, val loss: 0.074085, test loss: 0.108769\n",
      "[Fold 5] END - RMSE loss: 229.840 - Time: 2.1 min.\n",
      "[Fold 6] BEGIN\n",
      "Early stopping... Epoch 061: train loss: 0.068479, val loss: 0.097336, test loss: 0.078088\n",
      "[Fold 6] END - RMSE loss: 203.059 - Time: 3.5 min.\n",
      "[Grid search 006] END - Score: 181.94024375 \n",
      "Best params: {'epochs': 200, 'batch_size': 64, 'lr': 0.001, 'model': <class '__main__.ConvNetLarge'>, 'dropout': 0.5, 'n_splits': 6}\n",
      "Best score: 181.36310882080227\n"
     ]
    }
   ],
   "source": [
    "grid = tl.Grid({\n",
    "    'epochs': [200],  # we use early stop anyway\n",
    "    'batch_size': [64], # only 1 option, so we have less params to search, this can be a single test afterward\n",
    "    'lr': [0.001, 0.0001],\n",
    "    'model': [ConvNetSmall, ConvNetMedium, ConvNetLarge],\n",
    "    'dropout': [0.5],\n",
    "    'n_splits': [6],    \n",
    "})\n",
    "\n",
    "wrapper = tl.MIMOTSWrapper(ConvNetSmall(), seq_len=24, pred_len=3)\n",
    "b_p, b_s = wrapper.grid_search(X, y, grid, verbose=4)\n",
    "print(f\"Best params: {b_p}\\nBest score: {b_s}\")"
   ],
   "metadata": {
    "collapsed": false,
    "ExecuteTime": {
     "end_time": "2023-10-02T12:36:58.927222Z",
     "start_time": "2023-10-02T11:42:28.824377800Z"
    }
   },
   "id": "33943100a58528b0"
  }
 ],
 "metadata": {
  "kernelspec": {
   "display_name": "Python 3",
   "language": "python",
   "name": "python3"
  },
  "language_info": {
   "codemirror_mode": {
    "name": "ipython",
    "version": 2
   },
   "file_extension": ".py",
   "mimetype": "text/x-python",
   "name": "python",
   "nbconvert_exporter": "python",
   "pygments_lexer": "ipython2",
   "version": "2.7.6"
  }
 },
 "nbformat": 4,
 "nbformat_minor": 5
}
