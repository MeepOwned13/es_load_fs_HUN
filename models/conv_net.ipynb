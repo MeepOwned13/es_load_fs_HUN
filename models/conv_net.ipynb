{
 "cells": [
  {
   "cell_type": "markdown",
   "source": [
    "### Imports"
   ],
   "metadata": {
    "collapsed": false
   },
   "id": "fcf6a58743d35099"
  },
  {
   "cell_type": "code",
   "execution_count": null,
   "outputs": [],
   "source": [
    "import random\n",
    "import numpy as np\n",
    "import pandas as pd\n",
    "import matplotlib.pyplot as plt\n",
    "import torch\n",
    "from torch import nn\n",
    "import trainer_lib as tl\n",
    "from torch.nn.utils import weight_norm\n",
    "from torch_model_definitions import GaussianNoise\n",
    "\n",
    "torch.manual_seed(2412231200)\n",
    "random.seed(3009231410)\n",
    "np.random.seed(2909231846)\n",
    "np_random_state = np.random.RandomState(131002)"
   ],
   "metadata": {
    "collapsed": false
   },
   "id": "df34c825c4e81b0c"
  },
  {
   "cell_type": "markdown",
   "source": [
    "### Load data"
   ],
   "metadata": {
    "collapsed": false
   },
   "id": "a8d9dc6d900174e5"
  },
  {
   "cell_type": "code",
   "execution_count": null,
   "outputs": [],
   "source": [
    "df: pd.DataFrame = tl.load_country_wide_dataset('../data/country_data.csv')\n",
    "\n",
    "X = df['el_load'].to_numpy(dtype=np.float32)\n",
    "y = X.copy()"
   ],
   "metadata": {
    "collapsed": false
   },
   "id": "cafe1a8474d1e5b"
  },
  {
   "cell_type": "markdown",
   "source": [
    "### Define models"
   ],
   "metadata": {
    "collapsed": false
   },
   "id": "1d3289c83aed919d"
  },
  {
   "cell_type": "code",
   "execution_count": null,
   "outputs": [],
   "source": [
    "class ConvNetSmall(nn.Module):\n",
    "    def __init__(self, dropout=0.5, **kwargs):\n",
    "        super(ConvNetSmall, self).__init__()\n",
    "        self.conv = nn.Sequential(\n",
    "            nn.ZeroPad2d((4, 0, 0, 0)),\n",
    "            nn.Conv1d(1, 8, 5),\n",
    "            nn.BatchNorm1d(8),\n",
    "            nn.ReLU(),\n",
    "            nn.MaxPool1d(2),\n",
    "            nn.ZeroPad2d((4, 0, 0, 0)),\n",
    "            nn.Conv1d(8, 16, 5),\n",
    "            nn.BatchNorm1d(16),\n",
    "            nn.ReLU(),\n",
    "            nn.MaxPool1d(2),\n",
    "        )\n",
    "        self.fc = nn.Sequential(\n",
    "            nn.Flatten(1, -1),\n",
    "            nn.Dropout(dropout),\n",
    "            nn.Linear(6 * 16, 3),\n",
    "        )\n",
    "\n",
    "    def forward(self, x):\n",
    "        x = x.reshape(-1, 1, 24)\n",
    "        x = self.conv(x)\n",
    "        x = self.fc(x)\n",
    "        return x\n",
    "    \n",
    "class ConvNetMedium(nn.Module):\n",
    "    def __init__(self, dropout=0.5, **kwargs):\n",
    "        super(ConvNetMedium, self).__init__()\n",
    "        self.conv = nn.Sequential(\n",
    "            nn.ZeroPad2d((6, 0, 0, 0)),\n",
    "            nn.Conv1d(1, 16, 7),\n",
    "            nn.BatchNorm1d(16),\n",
    "            nn.ReLU(),\n",
    "            nn.MaxPool1d(2),\n",
    "            nn.Dropout(dropout / 5),\n",
    "            nn.ZeroPad2d((6, 0, 0, 0)),\n",
    "            nn.Conv1d(16, 32, 7),\n",
    "            nn.BatchNorm1d(32),\n",
    "            nn.ReLU(),\n",
    "            nn.MaxPool1d(2),\n",
    "            nn.Dropout(dropout / 5),\n",
    "            nn.ZeroPad2d((6, 0, 0, 0)),\n",
    "            nn.Conv1d(32, 32, 7),\n",
    "            nn.BatchNorm1d(32),\n",
    "            nn.ReLU(),\n",
    "            nn.MaxPool1d(2),\n",
    "        )\n",
    "        self.fc = nn.Sequential(\n",
    "            nn.Flatten(1, -1),\n",
    "            nn.Dropout(dropout),\n",
    "            nn.Linear(3 * 32, 3),\n",
    "        )\n",
    "\n",
    "    def forward(self, x):\n",
    "        x = x.reshape(-1, 1, 24)\n",
    "        x = self.conv(x)\n",
    "        x = self.fc(x)\n",
    "        return x\n",
    "    \n",
    "class ConvNetLarge(nn.Module):\n",
    "    def __init__(self, dropout=0.5, **kwargs):\n",
    "        super(ConvNetLarge, self).__init__()\n",
    "        self.conv = nn.Sequential(\n",
    "            nn.ZeroPad2d((8, 0, 0, 0)),\n",
    "            nn.Conv1d(1, 32, 9),\n",
    "            nn.BatchNorm1d(32),\n",
    "            nn.ReLU(),\n",
    "            nn.MaxPool1d(2),\n",
    "            nn.Dropout(dropout / 5),\n",
    "            nn.ZeroPad2d((8, 0, 0, 0)),\n",
    "            nn.Conv1d(32, 64, 9),\n",
    "            nn.BatchNorm1d(64),\n",
    "            nn.ReLU(),\n",
    "            nn.MaxPool1d(2),\n",
    "            nn.Dropout(dropout / 5),\n",
    "            nn.ZeroPad2d((8, 0, 0, 0)),\n",
    "            nn.Conv1d(64, 64, 9),\n",
    "            nn.BatchNorm1d(64),\n",
    "            nn.ReLU(),\n",
    "            nn.MaxPool1d(2),\n",
    "        )\n",
    "        self.fc = nn.Sequential(\n",
    "            nn.Flatten(1, -1),\n",
    "            nn.Dropout(dropout / 2),\n",
    "            nn.Linear(3 * 64, 64),\n",
    "            nn.ReLU(),\n",
    "            nn.Dropout(dropout),\n",
    "            nn.Linear(64, 3),\n",
    "        )\n",
    "\n",
    "    def forward(self, x):\n",
    "        x = x.reshape(-1, 1, 24)\n",
    "        x = self.conv(x)\n",
    "        x = self.fc(x)\n",
    "        return x\n",
    "    \n",
    "class ConvNetLessPad(nn.Module):\n",
    "    def __init__(self, dropout=0.5, conv_channels=(32, 64, 32), kernel_sizes=(12, 6, 3), paddings=(8, 4, 0), pool_pad=(1, 0, 1), seq_len=24, **kwargs):\n",
    "        super(ConvNetLessPad, self).__init__()\n",
    "        self.conv = nn.Sequential(\n",
    "            nn.ZeroPad2d((paddings[0], 0, 0, 0)),\n",
    "            nn.Conv1d(1, conv_channels[0], kernel_sizes[0]),\n",
    "            nn.ReLU(),\n",
    "            nn.MaxPool1d(2, padding=pool_pad[0]),\n",
    "            nn.ZeroPad2d((paddings[1], 0, 0, 0)),\n",
    "            nn.Conv1d(conv_channels[0], conv_channels[1], kernel_sizes[1]),\n",
    "            nn.ReLU(),\n",
    "            nn.MaxPool1d(2, padding=pool_pad[1]),\n",
    "            nn.ZeroPad2d((paddings[2], 0, 0, 0)),\n",
    "            nn.Conv1d(conv_channels[1], conv_channels[2], kernel_sizes[2]),\n",
    "            nn.ReLU(),\n",
    "            nn.MaxPool1d(2, padding=pool_pad[2]),\n",
    "        )\n",
    "        out = self.conv(torch.randn(1, 1, seq_len)).shape[-1]\n",
    "        self.fc = nn.Sequential(\n",
    "            nn.Flatten(1, -1),\n",
    "            nn.Dropout(dropout),\n",
    "            nn.Linear(conv_channels[2] * out, 3),\n",
    "        )\n",
    "        self.seq_len = seq_len\n",
    "    \n",
    "    def forward(self, x):\n",
    "        x = x.reshape(-1, 1, self.seq_len)\n",
    "        x = self.conv(x)\n",
    "        x = self.fc(x)\n",
    "        return x\n",
    "    \n",
    "class CNLP(ConvNetLessPad):\n",
    "    def __init__(self, param_group=0, **kwargs):\n",
    "        if param_group == 1:\n",
    "            super(CNLP, self).__init__(conv_channels=(16, 24, 32), kernel_sizes=(8, 4, 3), paddings=(4, 2, 0), pool_pad=(1, 0, 1), seq_len=24, **kwargs)\n",
    "        elif param_group == 2:\n",
    "            super(CNLP, self).__init__(conv_channels=(32, 64, 128), kernel_sizes=(14, 8, 5), paddings=(10, 6, 1), pool_pad=(1, 0, 0), seq_len=24, **kwargs)\n",
    "        elif param_group == 3:\n",
    "            super(CNLP, self).__init__(conv_channels=(32, 48, 64), kernel_sizes=(12, 6, 3), paddings=(8, 4, 0), pool_pad=(1, 0, 1), seq_len=24, **kwargs)\n",
    "        else:\n",
    "            super(CNLP, self).__init__(**kwargs)\n",
    "            \n",
    "class ConvNetNoise(nn.Module):\n",
    "    def __init__(self, seq_len=24, noise_sigma=0, dropout=0, **kwargs):\n",
    "        super(ConvNetNoise, self).__init__()\n",
    "        self.conv = nn.Sequential(\n",
    "            nn.ZeroPad2d((10, 0, 0, 0)),\n",
    "            nn.Conv1d(1, 32, 14),\n",
    "            nn.ReLU(),\n",
    "            nn.MaxPool1d(2, padding=1),\n",
    "            nn.ZeroPad2d((6, 0, 0, 0)),\n",
    "            nn.Conv1d(32, 64, 8),\n",
    "            nn.ReLU(),\n",
    "            nn.MaxPool1d(2, padding=0),\n",
    "            nn.ZeroPad2d((2, 0, 0, 0)),\n",
    "            nn.Conv1d(64, 128, 5),\n",
    "            nn.ReLU(),\n",
    "            nn.MaxPool1d(2, padding=1),\n",
    "        )\n",
    "        out = self.conv(torch.randn(1, 1, seq_len)).shape[-1]\n",
    "        self.fc = nn.Sequential(\n",
    "            GaussianNoise(noise_sigma),\n",
    "            nn.Flatten(1, -1),\n",
    "            nn.Dropout(dropout),\n",
    "            nn.Linear(128 * out, 3),\n",
    "        )\n",
    "        self.seq_len = seq_len\n",
    "    \n",
    "    def forward(self, x):\n",
    "        x = x.reshape(-1, 1, self.seq_len)\n",
    "        x = self.conv(x)\n",
    "        x = self.fc(x)\n",
    "        return x\n",
    "    \n",
    "class ConvNetLong(nn.Module):\n",
    "    def __init__(self, seq_len=48, dropout=0, noise=0.05, **kwargs):\n",
    "        super(ConvNetLong, self).__init__()\n",
    "        self.conv = nn.Sequential(\n",
    "            nn.ZeroPad2d((8, 0, 0, 0)),\n",
    "            weight_norm(nn.Conv1d(1, 64, 16)),\n",
    "            nn.ReLU(),\n",
    "            nn.MaxPool1d(2, padding=0),\n",
    "            nn.ZeroPad2d((7, 0, 0, 0)),\n",
    "            weight_norm(nn.Conv1d(64, 128, 14)),\n",
    "            nn.ReLU(),\n",
    "            nn.MaxPool1d(2, padding=0),\n",
    "        )\n",
    "        out = self.conv(torch.randn(1, 1, seq_len)).shape[-1]\n",
    "        self.fc = nn.Sequential(\n",
    "            GaussianNoise(noise),\n",
    "            nn.Flatten(1, -1),\n",
    "            nn.Linear(128 * out, 2 * 64),\n",
    "            nn.ReLU(),\n",
    "            nn.Dropout(dropout),\n",
    "            nn.Linear(2 * 64, 3),\n",
    "        )\n",
    "        self.seq_len = seq_len\n",
    "    \n",
    "    def forward(self, x):\n",
    "        x = x.reshape(-1, 1, self.seq_len)\n",
    "        x = self.conv(x)\n",
    "        x = self.fc(x)\n",
    "        return x"
   ],
   "metadata": {
    "collapsed": false
   },
   "id": "781509586ab59558"
  },
  {
   "cell_type": "markdown",
   "source": [
    "### Grid search"
   ],
   "metadata": {
    "collapsed": false
   },
   "id": "dd4cdc82a57faf24"
  },
  {
   "cell_type": "code",
   "execution_count": null,
   "outputs": [],
   "source": [
    "grid = tl.Grid({\n",
    "    'epochs': [200],  # we use early stop anyway\n",
    "    'batch_size': [64], # only 1 option, so we have less params to search, this can be a single test afterward\n",
    "    'lr': [0.001],\n",
    "    'model': [ConvNetSmall, ConvNetMedium, ConvNetLarge],\n",
    "    'dropout': [0.5],\n",
    "    'n_splits': [6],    \n",
    "})\n",
    "\n",
    "wrapper = tl.MIMOTSWrapper(ConvNetSmall(), seq_len=24, pred_len=3)\n",
    "b_p, b_s = wrapper.grid_search(X, y, grid, verbose=3)\n",
    "print(f\"Best params: {b_p}\\nBest score: {b_s}\")"
   ],
   "metadata": {
    "collapsed": false
   },
   "id": "33943100a58528b0"
  },
  {
   "cell_type": "markdown",
   "source": [
    "### Trying a model with less padding"
   ],
   "metadata": {
    "collapsed": false
   },
   "id": "58840bf09df75c1a"
  },
  {
   "cell_type": "code",
   "execution_count": null,
   "outputs": [],
   "source": [
    "wrapper = tl.MIMOTSWrapper(ConvNetLessPad(dropout=0.5), seq_len=24, pred_len=3)\n",
    "res = wrapper.validate_ts_strategy(X, y, epochs=200, lr=0.0005, n_splits=6, batch_size=64, verbose=3)"
   ],
   "metadata": {
    "collapsed": false
   },
   "id": "c8dc184bf7ac74aa"
  },
  {
   "cell_type": "markdown",
   "source": [
    "This seems to work way better, let's use grid search to tune the model further."
   ],
   "metadata": {
    "collapsed": false
   },
   "id": "629e21bd872b1772"
  },
  {
   "cell_type": "markdown",
   "source": [
    "### Grid search for the new models"
   ],
   "metadata": {
    "collapsed": false
   },
   "id": "205bb6cbb78fd29a"
  },
  {
   "cell_type": "code",
   "execution_count": null,
   "outputs": [],
   "source": [
    "grid = tl.Grid({\n",
    "    'epochs': [200],  # we use early stop anyway\n",
    "    'batch_size': [64],\n",
    "    'lr': [0.0005],\n",
    "    'model': [CNLP],\n",
    "    'param_group': [0, 1, 2, 3], # 0 is the default model, 1, 2, 3 are the other models\n",
    "    'n_splits': [6],  \n",
    "})\n",
    "\n",
    "wrapper = tl.MIMOTSWrapper(CNLP(), seq_len=24, pred_len=3)\n",
    "b_p, b_s = wrapper.grid_search(X, y, grid, verbose=3)\n",
    "print(f\"Best params: {b_p}\\nBest score: {b_s}\")"
   ],
   "metadata": {
    "collapsed": false
   },
   "id": "9b5c1a58fe8bfe62"
  },
  {
   "cell_type": "markdown",
   "source": [
    "I'll try applying Gaussian noise to the input, try a longer sequence and see if that helps training."
   ],
   "metadata": {
    "collapsed": false
   },
   "id": "bd1037f08ff4372c"
  },
  {
   "cell_type": "markdown",
   "source": [
    "### Trying a longer sequence length and noise"
   ],
   "metadata": {
    "collapsed": false
   },
   "id": "77a59ae4dbc03ae7"
  },
  {
   "cell_type": "code",
   "execution_count": null,
   "outputs": [],
   "source": [
    "wrapper = tl.MIMOTSWrapper(ConvNetLong(dropout=0.3, noise=0.02), seq_len=48, pred_len=3)\n",
    "wrapper.validate_ts_strategy(X, y, epochs=200, lr=0.0005, n_splits=6, batch_size=64, verbose=3)"
   ],
   "metadata": {
    "collapsed": false
   },
   "id": "b5997a014c0a393f"
  },
  {
   "cell_type": "markdown",
   "source": [
    "Speeding up training"
   ],
   "metadata": {
    "collapsed": false
   },
   "id": "10438fe6de1bb118"
  },
  {
   "cell_type": "code",
   "execution_count": null,
   "outputs": [],
   "source": [
    "grid = tl.Grid({\n",
    "    'epochs': [200],  # we use early stop anyway\n",
    "    'batch_size': [512, 1024, 2048],\n",
    "    'lr': [0.001],\n",
    "    'model': [ConvNetLong],\n",
    "    'noise': [0.02],\n",
    "    'dropout': [0.5],\n",
    "    'n_splits': [6],\n",
    "    'es_p': [20],\n",
    "})\n",
    "\n",
    "wrapper = tl.MIMOTSWrapper(ConvNetLong(), seq_len=48, pred_len=3)\n",
    "b_p, b_s = wrapper.grid_search(X, y, grid, verbose=3)\n",
    "print(f\"Best params: {b_p}\\nBest score: {b_s}\")"
   ],
   "metadata": {
    "collapsed": false
   },
   "id": "51f3bc46b50c8d1"
  },
  {
   "cell_type": "code",
   "execution_count": null,
   "outputs": [],
   "source": [
    "wrapper = tl.MIMOTSWrapper(ConvNetLong(dropout=0.5, noise=0.02), seq_len=48, pred_len=3)\n",
    "result = wrapper.validate_ts_strategy(X, y, epochs=400, lr=0.001, n_splits=6, batch_size=1024, es_p=20, verbose=3)"
   ],
   "metadata": {
    "collapsed": false
   },
   "id": "2a7feb97c4d8856d"
  },
  {
   "cell_type": "code",
   "execution_count": null,
   "outputs": [],
   "source": [
    "print(sum(result[3]) / len(result[3]))\n",
    "st = X.shape[0] // 7\n",
    "tl.MIMOTSWrapper.print_evaluation_info(*wrapper.predict(X[-st:], y[-st:]))"
   ],
   "metadata": {
    "collapsed": false
   },
   "id": "ce7d28f2fe27ae9"
  }
 ],
 "metadata": {
  "kernelspec": {
   "display_name": "Python 3",
   "language": "python",
   "name": "python3"
  },
  "language_info": {
   "codemirror_mode": {
    "name": "ipython",
    "version": 2
   },
   "file_extension": ".py",
   "mimetype": "text/x-python",
   "name": "python",
   "nbconvert_exporter": "python",
   "pygments_lexer": "ipython2",
   "version": "2.7.6"
  }
 },
 "nbformat": 4,
 "nbformat_minor": 5
}
