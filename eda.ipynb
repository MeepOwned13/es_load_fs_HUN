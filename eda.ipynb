{
 "cells": [
  {
   "cell_type": "markdown",
   "source": [
    "# Exploratory Data Analysis"
   ],
   "metadata": {
    "collapsed": false
   },
   "id": "127d723f003210f5"
  },
  {
   "cell_type": "markdown",
   "source": [
    "### Imports"
   ],
   "metadata": {
    "collapsed": false
   },
   "id": "ae00f9fa4c034377"
  },
  {
   "cell_type": "code",
   "execution_count": null,
   "id": "initial_id",
   "metadata": {
    "collapsed": true
   },
   "outputs": [],
   "source": [
    "import numpy as np\n",
    "import pandas as pd\n",
    "import matplotlib.pyplot as plt\n",
    "\n",
    "np.random.seed(1320210409)\n",
    "randomstate = np.random.RandomState(1320210409)"
   ]
  },
  {
   "cell_type": "markdown",
   "source": [
    "# The data\n",
    "\n",
    "## Features\n",
    "\n",
    "All features are hourly and a country-wide average.\n",
    "- **Time** _[YYYY-MM-DD HH:MM:SS]_\n",
    "- **el_load:** electricity load _[MW]_\n",
    "- **prec:** rainfall amount _[mm]_\n",
    "- **temp:** temperature _[°C]_\n",
    "- **rhum:** relative humidity [%]\n",
    "- **grad:** global radiation _[J/cm²]_\n",
    "- **pres:** momentary sea level air pressure _[hPa]_\n",
    "- **wind:** average wind speed _[m/s]_\n",
    "- **Vel_tviz:** Velence water temperature in Agárd _[°C]_\n",
    "- **Bal_tviz:** Balaton water temperature in Siófok _[°C]_\n",
    "- **holiday:** 1 or 0 depending on if it's a holiday\n",
    "- **weekend:** 1 or 0 depending on if it's a weekend\n",
    "- **covid:** 1 or 0 depending on covid restrictions in Hungary (estimate)\n",
    "\n",
    "### The goal\n",
    "\n",
    "I want to predict Hungary's electricity load for the **next couple hours** using this dataset, or it's differently aggregated counterpart (country, region, county or station)"
   ],
   "metadata": {
    "collapsed": false
   },
   "id": "489d05dc1bc8f5b6"
  },
  {
   "cell_type": "code",
   "execution_count": null,
   "outputs": [],
   "source": [
    "df = pd.read_csv(\n",
    "    'data/final_dataframe.csv',\n",
    "    parse_dates=['Time'],\n",
    "    index_col='Time',\n",
    "    sep=';'\n",
    ")\n",
    "\n",
    "df.info()\n",
    "\n",
    "df"
   ],
   "metadata": {
    "collapsed": false
   },
   "id": "3319ac7d6b4263e8"
  },
  {
   "cell_type": "markdown",
   "source": [
    "No null entries, I have dealt with those in the _data_organization_ notebook."
   ],
   "metadata": {
    "collapsed": false
   },
   "id": "47f0cf24ac7e7a7a"
  },
  {
   "cell_type": "code",
   "execution_count": null,
   "outputs": [],
   "source": [
    "df['hour'] = df.index.hour\n",
    "df['weekday'] = df.index.weekday\n",
    "df['dayofmonth'] = df.index.day\n",
    "df['month'] = df.index.month\n",
    "df['year'] = df.index.year\n",
    "\n",
    "df"
   ],
   "metadata": {
    "collapsed": false
   },
   "id": "38e8043014b692ce"
  },
  {
   "cell_type": "markdown",
   "source": [
    "# Eploring the el_load feature"
   ],
   "metadata": {
    "collapsed": false
   },
   "id": "34a40a496d3a6e07"
  },
  {
   "cell_type": "code",
   "execution_count": null,
   "outputs": [],
   "source": [
    "group_by = ['hour', 'weekday', 'dayofmonth', 'month', 'year']\n",
    "\n",
    "fig, ax = plt.subplots(len(group_by), 1, figsize=(15, 30))\n",
    "\n",
    "for group, ax in zip(group_by, ax.flatten()):\n",
    "    grouped = df.groupby(group)['el_load'].mean()\n",
    "    ax.set_title(f\"el_load mean grouped by {group}\", fontsize=15)\n",
    "    grouped.plot(ax=ax, color=\"#221f1f\", marker=\"o\")"
   ],
   "metadata": {
    "collapsed": false
   },
   "id": "324289a2e1fd9539"
  },
  {
   "cell_type": "markdown",
   "source": [
    "#### el_load\n",
    "- daily averages rises during the day, it hits its at 18-19\n",
    "- lower during the weekend\n",
    "- we don't learn too much from the day of the month at this time\n",
    "- during the year, load is higher in winter, probably since there's less sunlight\n",
    "- we can see the effects of covid between 2020-2022"
   ],
   "metadata": {
    "collapsed": false
   },
   "id": "c05ca2d4d4a9bf29"
  },
  {
   "cell_type": "markdown",
   "source": [
    "- **Time** _[YYYY-MM-DD HH:MM:SS]_\n",
    "- **el_load:** electricity load _[MW]_\n",
    "- **prec:** rainfall amount _[mm]_\n",
    "- **temp:** temperature _[°C]_\n",
    "- **rhum:** relative humidity [%]\n",
    "- **grad:** global radiation _[J/cm²]_\n",
    "- **pres:** momentary sea level air pressure _[hPa]_\n",
    "- **wind:** average wind speed _[m/s]_\n",
    "- **Vel_tviz:** Velence water temperature in Agárd _[°C]_\n",
    "- **Bal_tviz:** Balaton water temperature in Siófok _[°C]_\n",
    "- **holiday:** 1 or 0 depending on if it's a holiday\n",
    "- **weekend:** 1 or 0 depending on if it's a weekend\n",
    "- **covid:** 1 or 0 depending on covid restrictions in Hungary (estimate)"
   ],
   "metadata": {
    "collapsed": false
   },
   "id": "45d1668482e8d45f"
  },
  {
   "cell_type": "code",
   "execution_count": null,
   "outputs": [],
   "source": [
    "group_by = ['hour', 'weekday', 'dayofmonth', 'month', 'year']\n",
    "\n",
    "features = [\n",
    "    ('temp', 'Temperature'),\n",
    "    ('prec', 'Liquid precipitation'),\n",
    "    ('rhum', 'Relative humidity'),\n",
    "    ('wind', 'Wind speed'),\n",
    "    ('grad', 'Global radiation'),\n",
    "    ('pres', 'Pressure at sea level'),\n",
    "    ('Vel_tviz', 'Velence water temperature'),\n",
    "    ('Bal_tviz', 'Balton water temperature'),\n",
    "]\n",
    "\n",
    "\n",
    "for f, desc in features:\n",
    "    fig, ax = plt.subplots(1, len(group_by), figsize=(45, 5))\n",
    "    fig.suptitle(f\"Feature: {f}\")\n",
    "    for i, ax in enumerate(ax):\n",
    "        group = group_by[i % len(group_by)]\n",
    "        grouped = df.groupby(group)[f].mean()\n",
    "        ax.set_title(f\"{desc} mean grouped by {group}\", fontsize=12)\n",
    "        ax.plot(grouped, marker=\"o\")"
   ],
   "metadata": {
    "collapsed": false
   },
   "id": "d4ba253130b0bd5a"
  }
 ],
 "metadata": {
  "kernelspec": {
   "display_name": "Python 3",
   "language": "python",
   "name": "python3"
  },
  "language_info": {
   "codemirror_mode": {
    "name": "ipython",
    "version": 2
   },
   "file_extension": ".py",
   "mimetype": "text/x-python",
   "name": "python",
   "nbconvert_exporter": "python",
   "pygments_lexer": "ipython2",
   "version": "2.7.6"
  }
 },
 "nbformat": 4,
 "nbformat_minor": 5
}
