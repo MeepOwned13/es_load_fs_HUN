{
 "cells": [
  {
   "cell_type": "markdown",
   "source": [
    "# Exploratory Data Analysis"
   ],
   "metadata": {
    "collapsed": false
   },
   "id": "127d723f003210f5"
  },
  {
   "cell_type": "markdown",
   "source": [
    "### Imports"
   ],
   "metadata": {
    "collapsed": false
   },
   "id": "ae00f9fa4c034377"
  },
  {
   "cell_type": "code",
   "execution_count": null,
   "id": "initial_id",
   "metadata": {
    "collapsed": true
   },
   "outputs": [],
   "source": [
    "import numpy as np\n",
    "import pandas as pd\n",
    "import matplotlib.pyplot as plt\n",
    "import seaborn as sns\n",
    "from mlxtend.feature_selection import SequentialFeatureSelector as SFS\n",
    "# https://rasbt.github.io/mlxtend/user_guide/feature_selection/SequentialFeatureSelector/\n",
    "from sklearn.ensemble import RandomForestRegressor\n",
    "from sklearn.model_selection import TimeSeriesSplit\n",
    "from sklearn.model_selection import cross_val_score\n",
    "\n",
    "np.random.seed(1320210409)\n",
    "randomstate = np.random.RandomState(1320210409)"
   ]
  },
  {
   "cell_type": "markdown",
   "source": [
    "# The data\n",
    "\n",
    "## Features\n",
    "\n",
    "All features are hourly and a country-wide average.\n",
    "- **Time** _[YYYY-MM-DD HH:MM:SS]_\n",
    "- **el_load:** electricity load _[MW]_\n",
    "- **prec:** rainfall amount _[mm]_\n",
    "- **temp:** temperature _[°C]_\n",
    "- **rhum:** relative humidity [%]\n",
    "- **grad:** global radiation _[J/cm²]_\n",
    "- **pres:** momentary sea level air pressure _[hPa]_\n",
    "- **wind:** average wind speed _[m/s]_\n",
    "- **Vel_tviz:** Velence water temperature in Agárd _[°C]_\n",
    "- **Bal_tviz:** Balaton water temperature in Siófok _[°C]_\n",
    "- **holiday:** 1 or 0 depending on if it's a holiday\n",
    "- **weekend:** 1 or 0 depending on if it's a weekend\n",
    "- **covid:** 1 or 0 depending on covid restrictions in Hungary (estimate)\n",
    "\n",
    "### The goal\n",
    "\n",
    "I want to predict Hungary's electricity load for the **next couple of hours** using this dataset, or it's differently aggregated counterpart (country, region, county or station)"
   ],
   "metadata": {
    "collapsed": false
   },
   "id": "489d05dc1bc8f5b6"
  },
  {
   "cell_type": "code",
   "execution_count": null,
   "outputs": [],
   "source": [
    "df = pd.read_csv(\n",
    "    'data/final_dataframe.csv',\n",
    "    parse_dates=['Time'],\n",
    "    index_col='Time',\n",
    "    sep=';'\n",
    ")\n",
    "\n",
    "df.info()\n",
    "\n",
    "df"
   ],
   "metadata": {
    "collapsed": false
   },
   "id": "3319ac7d6b4263e8"
  },
  {
   "cell_type": "markdown",
   "source": [
    "No null entries, I have dealt with those in the _data_organization_ notebook."
   ],
   "metadata": {
    "collapsed": false
   },
   "id": "47f0cf24ac7e7a7a"
  },
  {
   "cell_type": "code",
   "execution_count": null,
   "outputs": [],
   "source": [
    "df['hour'] = df.index.hour\n",
    "df['weekday'] = df.index.weekday\n",
    "df['dayofmonth'] = df.index.day\n",
    "df['dayofyear'] = df.index.dayofyear\n",
    "df['month'] = df.index.month\n",
    "df['year'] = df.index.year\n",
    "\n",
    "df"
   ],
   "metadata": {
    "collapsed": false
   },
   "id": "38e8043014b692ce"
  },
  {
   "cell_type": "markdown",
   "source": [
    "## Features\n",
    "\n",
    "- **Time** _[YYYY-MM-DD HH:MM:SS]_\n",
    "- **el_load:** electricity load _[MW]_\n",
    "- **prec:** rainfall amount _[mm]_\n",
    "- **temp:** temperature _[°C]_\n",
    "- **rhum:** relative humidity [%]\n",
    "- **grad:** global radiation _[J/cm²]_\n",
    "- **pres:** momentary sea level air pressure _[hPa]_\n",
    "- **wind:** average wind speed _[m/s]_\n",
    "- **Vel_tviz:** Velence water temperature in Agárd _[°C]_\n",
    "- **Bal_tviz:** Balaton water temperature in Siófok _[°C]_\n",
    "- **holiday:** 1 or 0 depending on if it's a holiday\n",
    "- **weekend:** 1 or 0 depending on if it's a weekend\n",
    "- **covid:** 1 or 0 depending on covid restrictions in Hungary (estimate)"
   ],
   "metadata": {
    "collapsed": false
   },
   "id": "45d1668482e8d45f"
  },
  {
   "cell_type": "code",
   "execution_count": null,
   "outputs": [],
   "source": [
    "group_by = ['hour', 'weekday', 'dayofmonth', 'dayofyear', 'month', 'year']\n",
    "\n",
    "def plot_feature(dataframe: pd.DataFrame, groupes: list, feature: str, desc: str, color: str):\n",
    "    group_len = len(groupes)\n",
    "    fig, ax = plt.subplots(2, group_len // 2, figsize=(20, 7))\n",
    "    fig.suptitle(f\"Feature: {feature} ({desc})\")\n",
    "    for i, ax in enumerate(ax.flatten()):\n",
    "        group = groupes[i % group_len]\n",
    "        grouped = dataframe.groupby(group)[feature].mean()\n",
    "        ax.set_title(f\"Grouped by {group}\", fontsize=10)\n",
    "        marker = 'o' if group != 'dayofyear' else None\n",
    "        ax.plot(grouped, color=color, marker=marker)"
   ],
   "metadata": {
    "collapsed": false
   },
   "id": "705266b4b4040b8b"
  },
  {
   "cell_type": "markdown",
   "source": [
    "#### Electricity load"
   ],
   "metadata": {
    "collapsed": false
   },
   "id": "34a40a496d3a6e07"
  },
  {
   "cell_type": "code",
   "execution_count": null,
   "outputs": [],
   "source": [
    "plot_feature(df, group_by, 'el_load', 'Electricity load', 'black')"
   ],
   "metadata": {
    "collapsed": false
   },
   "id": "324289a2e1fd9539"
  },
  {
   "cell_type": "markdown",
   "source": [
    "- daily average rises during the day, it hits its peak at 18-19\n",
    "- lower during the weekend\n",
    "- we don't learn too much from the day of the month at this time\n",
    "- during the year, load is higher in winter, probably since there's less sunlight\n",
    "- we can see the effects of covid between 2020-2022"
   ],
   "metadata": {
    "collapsed": false
   },
   "id": "c05ca2d4d4a9bf29"
  },
  {
   "cell_type": "markdown",
   "source": [
    "#### Precipitation"
   ],
   "metadata": {
    "collapsed": false
   },
   "id": "4caf896e2cc6e9d3"
  },
  {
   "cell_type": "code",
   "execution_count": null,
   "outputs": [],
   "source": [
    "plot_feature(df, group_by, 'prec', 'Precipitation', 'blue')"
   ],
   "metadata": {
    "collapsed": false
   },
   "id": "84154b87c2aa1f73"
  },
  {
   "cell_type": "markdown",
   "source": [
    "- precipitation is higher during the summer as expected\n",
    "- it's higher during the weekend, but that's probably up to chance\n",
    "- it's higher during the afternoon and evening\n",
    "- other groups tell us nothing"
   ],
   "metadata": {
    "collapsed": false
   },
   "id": "17b60773f8f2400f"
  },
  {
   "cell_type": "markdown",
   "source": [
    "#### Temperature"
   ],
   "metadata": {
    "collapsed": false
   },
   "id": "c82f933a72991051"
  },
  {
   "cell_type": "code",
   "execution_count": null,
   "outputs": [],
   "source": [
    "plot_feature(df, group_by, 'temp', 'Temperature', 'red')"
   ],
   "metadata": {
    "collapsed": false
   },
   "id": "d4ba253130b0bd5a"
  },
  {
   "cell_type": "markdown",
   "source": [
    "- temperature is higher during the summer as expected\n",
    "- it's also higher during the day as expected\n",
    "- seemingly, it's rising slowly as the years go on with some outliars"
   ],
   "metadata": {
    "collapsed": false
   },
   "id": "e3985fab32ffe84d"
  },
  {
   "cell_type": "markdown",
   "source": [
    "#### Relative humidity"
   ],
   "metadata": {
    "collapsed": false
   },
   "id": "4a5d3fa69b98cfe7"
  },
  {
   "cell_type": "code",
   "execution_count": null,
   "outputs": [],
   "source": [
    "plot_feature(df, group_by, 'rhum', 'Relative humidity', 'green')"
   ],
   "metadata": {
    "collapsed": false
   },
   "id": "dbecb5e5c0a9918d"
  },
  {
   "cell_type": "markdown",
   "source": [
    "- humidity is lower during the day, hitting its low in the afternoon\n",
    "- the week group is a decieving graph, since the values are so close to each other\n",
    "- it's lower during the summer overall"
   ],
   "metadata": {
    "collapsed": false
   },
   "id": "2fed46d350e772d7"
  },
  {
   "cell_type": "markdown",
   "source": [
    "#### Global radiation"
   ],
   "metadata": {
    "collapsed": false
   },
   "id": "e6baeaba22282a0b"
  },
  {
   "cell_type": "code",
   "execution_count": null,
   "outputs": [],
   "source": [
    "plot_feature(df, group_by, 'grad', 'Global radiation', 'orange')"
   ],
   "metadata": {
    "collapsed": false
   },
   "id": "19f7eea34443a573"
  },
  {
   "cell_type": "markdown",
   "source": [
    "- global radiation is higher during the summer and the day as expected\n",
    "- it's slowly increasing as the years go on, 2023 being an outliar since we only have data for 8 months there"
   ],
   "metadata": {
    "collapsed": false
   },
   "id": "473889641f5ee26f"
  },
  {
   "cell_type": "markdown",
   "source": [
    "#### Momentary sea level air pressure"
   ],
   "metadata": {
    "collapsed": false
   },
   "id": "a28f2ae62a3632"
  },
  {
   "cell_type": "code",
   "execution_count": null,
   "outputs": [],
   "source": [
    "plot_feature(df, group_by, 'pres', 'Momentary sea level air pressure', 'purple')"
   ],
   "metadata": {
    "collapsed": false
   },
   "id": "891107186d4faf81"
  },
  {
   "cell_type": "markdown",
   "source": [
    "- air pressure fluctuates heavily during the day, being higher in the morning, but low in the afternoon\n",
    "- it's higher during the winter\n",
    "- other groups tell us nothing"
   ],
   "metadata": {
    "collapsed": false
   },
   "id": "84f0e8137fb6e1e6"
  },
  {
   "cell_type": "markdown",
   "source": [
    "#### Average wind speed"
   ],
   "metadata": {
    "collapsed": false
   },
   "id": "93079e321bac93ac"
  },
  {
   "cell_type": "code",
   "execution_count": null,
   "outputs": [],
   "source": [
    "plot_feature(df, group_by, 'wind', 'Average wind speed', 'brown')"
   ],
   "metadata": {
    "collapsed": false
   },
   "id": "4362481c5b9494f7"
  },
  {
   "cell_type": "markdown",
   "source": [
    "- wind speed is higher during the day, hitting its peak in the afternoon\n",
    "- it's higher during the winter and spring"
   ],
   "metadata": {
    "collapsed": false
   },
   "id": "b7a433c473d341e9"
  },
  {
   "cell_type": "markdown",
   "source": [
    "#### Water temperature for Balaton and Velence"
   ],
   "metadata": {
    "collapsed": false
   },
   "id": "526897b4f2ff73aa"
  },
  {
   "cell_type": "code",
   "execution_count": null,
   "outputs": [],
   "source": [
    "plot_feature(df, group_by, 'Vel_tviz', 'Velence water temperature in Agárd', 'cyan')\n",
    "\n",
    "plot_feature(df, group_by, 'Bal_tviz', 'Balaton water temperature in Siófok', 'lightblue')"
   ],
   "metadata": {
    "collapsed": false
   },
   "id": "5fe1a50ca7d18912"
  },
  {
   "cell_type": "markdown",
   "source": [
    "- the 2 water temperature graphs are really similar, so I'll write about them together\n",
    "- water temperature is higher during the summer as expected\n",
    "- they hit their peak in the afternoon for obvious reasons"
   ],
   "metadata": {
    "collapsed": false
   },
   "id": "17519758ed80b83e"
  },
  {
   "cell_type": "markdown",
   "source": [
    "## Correletion matrix"
   ],
   "metadata": {
    "collapsed": false
   },
   "id": "af8b3c37d855f84c"
  },
  {
   "cell_type": "code",
   "execution_count": null,
   "outputs": [],
   "source": [
    "# limit features used\n",
    "corr = df.drop(columns=['holiday', 'weekend', 'covid']).corr()\n",
    "plt.figure(figsize=(20, 20))\n",
    "sns.heatmap(corr, annot=True, cmap='coolwarm')"
   ],
   "metadata": {
    "collapsed": false
   },
   "id": "78505ae2a32d8639"
  },
  {
   "cell_type": "markdown",
   "source": [
    "- tempretaure and water temperatures are highly correlated as expected\n",
    "- the 2 water temperatures correlate highly, but I will keep these features seperate for now\n",
    "- dayofyear and month are highly correlated, but that's to be expected\n",
    "- relative humidity and global radiation display inverse correlation, which is interesting"
   ],
   "metadata": {
    "collapsed": false
   },
   "id": "36704009df776aa0"
  },
  {
   "cell_type": "markdown",
   "source": [
    "## Automatic feature selection"
   ],
   "metadata": {
    "collapsed": false
   },
   "id": "bbf23e1281a43faa"
  },
  {
   "cell_type": "markdown",
   "source": [
    "I'll be doing a 1 hour forecast, using the current hour, to get the best features I can, using more hours would make this combinatorial problem too big."
   ],
   "metadata": {
    "collapsed": false
   },
   "id": "edd45851e1cff227"
  },
  {
   "cell_type": "code",
   "execution_count": null,
   "outputs": [],
   "source": [
    "X = df.to_numpy(dtype=np.float64)[:-1]\n",
    "y = df['el_load'].to_numpy(dtype=np.float64)[1:]\n",
    "\n",
    "scores_df = pd.DataFrame(columns=['score'] + list(df.columns))\n",
    "\n",
    "fixed_features = None\n",
    "for i in range(1, len(df.columns)+1):\n",
    "    ts_split = TimeSeriesSplit(n_splits=4).split(X)\n",
    "    sfs = SFS(\n",
    "        RandomForestRegressor(n_estimators=50, n_jobs=-1, random_state=randomstate),\n",
    "        k_features=i,\n",
    "        forward=True,\n",
    "        scoring='neg_root_mean_squared_error',\n",
    "        cv = list(ts_split),\n",
    "        fixed_features=fixed_features,\n",
    "    )\n",
    "\n",
    "    sfs.fit_transform(X, y)\n",
    "    fixed_features = tuple(sfs.k_feature_idx_)\n",
    "    feature_idxs = [True if i in fixed_features else False for i in range(len(df.columns))]\n",
    "    scores_df.loc[i] = [-sfs.k_score_] + feature_idxs\n",
    "    print(f\"Finished {i} feature(s), score: {-sfs.k_score_}\")\n",
    "\n",
    "scores_df.to_csv('data/feature_selection.csv', sep=';')\n",
    "scores_df"
   ],
   "metadata": {
    "collapsed": false
   },
   "id": "188c11abffca4d8f"
  }
 ],
 "metadata": {
  "kernelspec": {
   "display_name": "Python 3",
   "language": "python",
   "name": "python3"
  },
  "language_info": {
   "codemirror_mode": {
    "name": "ipython",
    "version": 2
   },
   "file_extension": ".py",
   "mimetype": "text/x-python",
   "name": "python",
   "nbconvert_exporter": "python",
   "pygments_lexer": "ipython2",
   "version": "2.7.6"
  }
 },
 "nbformat": 4,
 "nbformat_minor": 5
}
