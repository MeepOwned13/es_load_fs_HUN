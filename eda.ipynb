{
 "cells": [
  {
   "cell_type": "markdown",
   "source": [
    "# Exploratory Data Analysis"
   ],
   "metadata": {
    "collapsed": false
   },
   "id": "127d723f003210f5"
  },
  {
   "cell_type": "markdown",
   "source": [
    "### Imports"
   ],
   "metadata": {
    "collapsed": false
   },
   "id": "ae00f9fa4c034377"
  },
  {
   "cell_type": "code",
   "execution_count": null,
   "id": "initial_id",
   "metadata": {
    "collapsed": true
   },
   "outputs": [],
   "source": [
    "import numpy as np\n",
    "import pandas as pd\n",
    "import matplotlib.pyplot as plt\n",
    "import seaborn as sns\n",
    "from mlxtend.feature_selection import SequentialFeatureSelector as SFS\n",
    "# https://rasbt.github.io/mlxtend/user_guide/feature_selection/SequentialFeatureSelector/\n",
    "from sklearn.ensemble import RandomForestRegressor\n",
    "from sklearn.model_selection import TimeSeriesSplit\n",
    "from sklearn.model_selection import cross_val_score\n",
    "import os\n",
    "\n",
    "np.random.seed(1320210409)\n",
    "randomstate = np.random.RandomState(1320210409)"
   ]
  },
  {
   "cell_type": "markdown",
   "source": [
    "# The data\n",
    "\n",
    "## Features\n",
    "\n",
    "All features are hourly and a country-wide average.\n",
    "- **Time** _[YYYY-MM-DD HH:MM:SS]_\n",
    "- **el_load:** electricity load _[MW]_\n",
    "- **prec:** rainfall amount _[mm]_\n",
    "- **temp:** temperature _[°C]_\n",
    "- **rhum:** relative humidity [%]\n",
    "- **grad:** global radiation _[J/cm²]_\n",
    "- **pres:** momentary sea level air pressure _[hPa]_\n",
    "- **wind:** average wind speed _[m/s]_\n",
    "- **Vel_tviz:** Velence water temperature in Agárd _[°C]_\n",
    "- **Bal_tviz:** Balaton water temperature in Siófok _[°C]_\n",
    "- **holiday:** 1 or 0 depending on if it's a holiday\n",
    "- **weekend:** 1 or 0 depending on if it's a weekend\n",
    "- **covid:** 1 or 0 depending on covid restrictions in Hungary (estimate)\n",
    "\n",
    "### The goal\n",
    "\n",
    "I want to predict Hungary's electricity load for the **next couple of hours** using this dataset, or it's differently aggregated counterpart (country, region, county or station)"
   ],
   "metadata": {
    "collapsed": false
   },
   "id": "489d05dc1bc8f5b6"
  },
  {
   "cell_type": "code",
   "execution_count": null,
   "outputs": [],
   "source": [
    "df = pd.read_csv(\n",
    "    'data/final_dataframe.csv',\n",
    "    parse_dates=['Time'],\n",
    "    index_col='Time',\n",
    "    sep=';'\n",
    ")\n",
    "\n",
    "df.info()\n",
    "\n",
    "df"
   ],
   "metadata": {
    "collapsed": false
   },
   "id": "3319ac7d6b4263e8"
  },
  {
   "cell_type": "markdown",
   "source": [
    "No null entries, I have dealt with those in the _data_organization_ notebook."
   ],
   "metadata": {
    "collapsed": false
   },
   "id": "47f0cf24ac7e7a7a"
  },
  {
   "cell_type": "code",
   "execution_count": null,
   "outputs": [],
   "source": [
    "df['hour'] = df.index.hour\n",
    "df['weekday'] = df.index.weekday\n",
    "df['dayofmonth'] = df.index.day\n",
    "df['dayofyear'] = df.index.dayofyear\n",
    "df['month'] = df.index.month\n",
    "df['year'] = df.index.year\n",
    "\n",
    "df"
   ],
   "metadata": {
    "collapsed": false
   },
   "id": "38e8043014b692ce"
  },
  {
   "cell_type": "markdown",
   "source": [
    "## Features\n",
    "\n",
    "- **Time** _[YYYY-MM-DD HH:MM:SS]_\n",
    "- **el_load:** electricity load _[MW]_\n",
    "- **prec:** rainfall amount _[mm]_\n",
    "- **temp:** temperature _[°C]_\n",
    "- **rhum:** relative humidity [%]\n",
    "- **grad:** global radiation _[J/cm²]_\n",
    "- **pres:** momentary sea level air pressure _[hPa]_\n",
    "- **wind:** average wind speed _[m/s]_\n",
    "- **Vel_tviz:** Velence water temperature in Agárd _[°C]_\n",
    "- **Bal_tviz:** Balaton water temperature in Siófok _[°C]_\n",
    "- **holiday:** 1 or 0 depending on if it's a holiday\n",
    "- **weekend:** 1 or 0 depending on if it's a weekend\n",
    "- **covid:** 1 or 0 depending on covid restrictions in Hungary (estimate)"
   ],
   "metadata": {
    "collapsed": false
   },
   "id": "45d1668482e8d45f"
  },
  {
   "cell_type": "code",
   "execution_count": null,
   "outputs": [],
   "source": [
    "group_by = ['hour', 'weekday', 'dayofmonth', 'dayofyear', 'month', 'year']\n",
    "\n",
    "def plot_feature(dataframe: pd.DataFrame, groupes: list, feature: str, desc: str, color: str):\n",
    "    group_len = len(groupes)\n",
    "    fig, ax = plt.subplots(2, group_len // 2, figsize=(20, 7))\n",
    "    fig.suptitle(f\"Feature: {feature} ({desc})\")\n",
    "    for i, ax in enumerate(ax.flatten()):\n",
    "        group = groupes[i % group_len]\n",
    "        grouped = dataframe.groupby(group)[feature].mean()\n",
    "        ax.set_title(f\"Grouped by {group}\", fontsize=10)\n",
    "        marker = 'o' if group != 'dayofyear' else None\n",
    "        ax.plot(grouped, color=color, marker=marker)"
   ],
   "metadata": {
    "collapsed": false
   },
   "id": "705266b4b4040b8b"
  },
  {
   "cell_type": "markdown",
   "source": [
    "#### Electricity load"
   ],
   "metadata": {
    "collapsed": false
   },
   "id": "34a40a496d3a6e07"
  },
  {
   "cell_type": "code",
   "execution_count": null,
   "outputs": [],
   "source": [
    "print(df['el_load'].describe())\n",
    "print(f\"0.1st percentile {df['el_load'].quantile(0.001)}\")\n",
    "print(f\"99.9th percentile {df['el_load'].quantile(0.999)}\")\n",
    "\n",
    "plot_feature(df, group_by, 'el_load', 'Electricity load', 'black')"
   ],
   "metadata": {
    "collapsed": false
   },
   "id": "324289a2e1fd9539"
  },
  {
   "cell_type": "markdown",
   "source": [
    "- the description tells us, that the standard deviation is very high for the elecrictiy load, which is to be expected\n",
    "- min and max values suggest outliers, which i'll remove by adjusting them to above seen percintiles\n",
    "- daily average rises during the day, it hits its peak at 18-19\n",
    "- lower during the weekend\n",
    "- we don't learn too much from the day of the month at this time\n",
    "- during the year, load is higher in winter, probably since there's less sunlight\n",
    "- we can see the effects of covid between 2020-2022"
   ],
   "metadata": {
    "collapsed": false
   },
   "id": "c05ca2d4d4a9bf29"
  },
  {
   "cell_type": "code",
   "execution_count": null,
   "outputs": [],
   "source": [
    "df['el_load'] = df['el_load'].clip(\n",
    "    lower=df['el_load'].quantile(0.001),\n",
    "    upper=df['el_load'].quantile(0.999)\n",
    ")\n",
    "\n",
    "df['el_load'].describe()"
   ],
   "metadata": {
    "collapsed": false
   },
   "id": "ea89a5a31a1745ac"
  },
  {
   "cell_type": "markdown",
   "source": [
    "#### Precipitation"
   ],
   "metadata": {
    "collapsed": false
   },
   "id": "4caf896e2cc6e9d3"
  },
  {
   "cell_type": "code",
   "execution_count": null,
   "outputs": [],
   "source": [
    "print(df['prec'].describe())\n",
    "print(f\"0.1st percentile {df['prec'].quantile(0.001)}\")\n",
    "print(f\"99.9th percentile {df['prec'].quantile(0.999)}\")\n",
    "\n",
    "plot_feature(df, group_by, 'prec', 'Precipitation', 'blue')"
   ],
   "metadata": {
    "collapsed": false
   },
   "id": "84154b87c2aa1f73"
  },
  {
   "cell_type": "markdown",
   "source": [
    "- precipitation is higher during the summer as expected\n",
    "- it's higher during the weekend, but that's probably up to chance\n",
    "- it's higher during the afternoon and evening\n",
    "- other groups tell us nothing"
   ],
   "metadata": {
    "collapsed": false
   },
   "id": "17b60773f8f2400f"
  },
  {
   "cell_type": "markdown",
   "source": [
    "#### Temperature"
   ],
   "metadata": {
    "collapsed": false
   },
   "id": "c82f933a72991051"
  },
  {
   "cell_type": "code",
   "execution_count": null,
   "outputs": [],
   "source": [
    "print(df['temp'].describe())\n",
    "print(f\"0.1st percentile {df['temp'].quantile(0.001)}\")\n",
    "print(f\"99.9th percentile {df['temp'].quantile(0.999)}\")\n",
    "\n",
    "plot_feature(df, group_by, 'temp', 'Temperature', 'red')"
   ],
   "metadata": {
    "collapsed": false
   },
   "id": "d4ba253130b0bd5a"
  },
  {
   "cell_type": "markdown",
   "source": [
    "- temperature is higher during the summer as expected\n",
    "- it's also higher during the day as expected\n",
    "- seemingly, it's rising slowly as the years go on with some outliers"
   ],
   "metadata": {
    "collapsed": false
   },
   "id": "e3985fab32ffe84d"
  },
  {
   "cell_type": "markdown",
   "source": [
    "#### Relative humidity"
   ],
   "metadata": {
    "collapsed": false
   },
   "id": "4a5d3fa69b98cfe7"
  },
  {
   "cell_type": "code",
   "execution_count": null,
   "outputs": [],
   "source": [
    "print(df['rhum'].describe())\n",
    "print(f\"0.1st percentile {df['rhum'].quantile(0.001)}\")\n",
    "print(f\"99.9th percentile {df['rhum'].quantile(0.999)}\")\n",
    "\n",
    "plot_feature(df, group_by, 'rhum', 'Relative humidity', 'green')"
   ],
   "metadata": {
    "collapsed": false
   },
   "id": "dbecb5e5c0a9918d"
  },
  {
   "cell_type": "markdown",
   "source": [
    "- humidity is lower during the day, hitting its low in the afternoon\n",
    "- the week group is a decieving graph, since the values are so close to each other\n",
    "- it's lower during the summer overall"
   ],
   "metadata": {
    "collapsed": false
   },
   "id": "2fed46d350e772d7"
  },
  {
   "cell_type": "markdown",
   "source": [
    "#### Global radiation"
   ],
   "metadata": {
    "collapsed": false
   },
   "id": "e6baeaba22282a0b"
  },
  {
   "cell_type": "code",
   "execution_count": null,
   "outputs": [],
   "source": [
    "print(df['grad'].describe())\n",
    "print(f\"0.1st percentile {df['grad'].quantile(0.001)}\")\n",
    "print(f\"99.9th percentile {df['grad'].quantile(0.999)}\")\n",
    "\n",
    "plot_feature(df, group_by, 'grad', 'Global radiation', 'orange')"
   ],
   "metadata": {
    "collapsed": false
   },
   "id": "19f7eea34443a573"
  },
  {
   "cell_type": "markdown",
   "source": [
    "- global radiation is higher during the summer and the day as expected\n",
    "- it's slowly increasing as the years go on, 2023 being an outlier since we only have data for 8 months there"
   ],
   "metadata": {
    "collapsed": false
   },
   "id": "473889641f5ee26f"
  },
  {
   "cell_type": "markdown",
   "source": [
    "#### Momentary sea level air pressure"
   ],
   "metadata": {
    "collapsed": false
   },
   "id": "a28f2ae62a3632"
  },
  {
   "cell_type": "code",
   "execution_count": null,
   "outputs": [],
   "source": [
    "print(df['pres'].describe())\n",
    "print(f\"0.1st percentile {df['pres'].quantile(0.001)}\")\n",
    "print(f\"99.9th percentile {df['pres'].quantile(0.999)}\")\n",
    "\n",
    "plot_feature(df, group_by, 'pres', 'Momentary sea level air pressure', 'purple')"
   ],
   "metadata": {
    "collapsed": false
   },
   "id": "891107186d4faf81"
  },
  {
   "cell_type": "markdown",
   "source": [
    "- air pressure fluctuates heavily during the day, being higher in the morning, but low in the afternoon\n",
    "- it's higher during the winter\n",
    "- other groups tell us nothing"
   ],
   "metadata": {
    "collapsed": false
   },
   "id": "84f0e8137fb6e1e6"
  },
  {
   "cell_type": "markdown",
   "source": [
    "#### Average wind speed"
   ],
   "metadata": {
    "collapsed": false
   },
   "id": "93079e321bac93ac"
  },
  {
   "cell_type": "code",
   "execution_count": null,
   "outputs": [],
   "source": [
    "print(df['wind'].describe())\n",
    "print(f\"0.1st percentile {df['wind'].quantile(0.001)}\")\n",
    "print(f\"99.9th percentile {df['wind'].quantile(0.999)}\")\n",
    "\n",
    "plot_feature(df, group_by, 'wind', 'Average wind speed', 'brown')"
   ],
   "metadata": {
    "collapsed": false
   },
   "id": "4362481c5b9494f7"
  },
  {
   "cell_type": "markdown",
   "source": [
    "- wind speed is higher during the day, hitting its peak in the afternoon\n",
    "- it's higher during the winter and spring"
   ],
   "metadata": {
    "collapsed": false
   },
   "id": "b7a433c473d341e9"
  },
  {
   "cell_type": "markdown",
   "source": [
    "#### Water temperature for Balaton and Velence"
   ],
   "metadata": {
    "collapsed": false
   },
   "id": "526897b4f2ff73aa"
  },
  {
   "cell_type": "code",
   "execution_count": null,
   "outputs": [],
   "source": [
    "print(df['Vel_tviz'].describe())\n",
    "print(f\"0.1st percentile {df['Vel_tviz'].quantile(0.001)}\")\n",
    "print(f\"99.9th percentile {df['Vel_tviz'].quantile(0.999)}\")\n",
    "\n",
    "plot_feature(df, group_by, 'Vel_tviz', 'Velence water temperature in Agárd', 'cyan')\n",
    "\n",
    "print(df['Bal_tviz'].describe())\n",
    "print(f\"0.1st percentile {df['Bal_tviz'].quantile(0.001)}\")\n",
    "print(f\"99.9th percentile {df['Bal_tviz'].quantile(0.999)}\")\n",
    "\n",
    "plot_feature(df, group_by, 'Bal_tviz', 'Balaton water temperature in Siófok', 'lightblue')"
   ],
   "metadata": {
    "collapsed": false
   },
   "id": "5fe1a50ca7d18912"
  },
  {
   "cell_type": "markdown",
   "source": [
    "- the 2 water temperature graphs are really similar, so I'll write about them together\n",
    "- water temperature is higher during the summer as expected\n",
    "- they hit their peak in the afternoon for obvious reasons"
   ],
   "metadata": {
    "collapsed": false
   },
   "id": "17519758ed80b83e"
  },
  {
   "cell_type": "markdown",
   "source": [
    "## Correletion matrix"
   ],
   "metadata": {
    "collapsed": false
   },
   "id": "af8b3c37d855f84c"
  },
  {
   "cell_type": "code",
   "execution_count": null,
   "outputs": [],
   "source": [
    "# limit features used\n",
    "corr = df.drop(columns=['holiday', 'weekend', 'covid']).corr()\n",
    "plt.figure(figsize=(20, 20))\n",
    "sns.heatmap(corr, annot=True, cmap='coolwarm')"
   ],
   "metadata": {
    "collapsed": false
   },
   "id": "78505ae2a32d8639"
  },
  {
   "cell_type": "markdown",
   "source": [
    "- tempretaure and water temperatures are highly correlated as expected\n",
    "- the 2 water temperatures correlate highly, but I will keep these features seperate for now\n",
    "- dayofyear and month are highly correlated, but that's to be expected\n",
    "- relative humidity and global radiation display inverse correlation, which is interesting"
   ],
   "metadata": {
    "collapsed": false
   },
   "id": "36704009df776aa0"
  },
  {
   "cell_type": "markdown",
   "source": [
    "## Lag features"
   ],
   "metadata": {
    "collapsed": false
   },
   "id": "727123ea15f6fc87"
  },
  {
   "cell_type": "markdown",
   "source": [
    "In time-series problems, it's generally a good practice to use lag features on the datapoint we try to predict, I'll add 4 different lags of el_load to the dataset."
   ],
   "metadata": {
    "collapsed": false
   },
   "id": "2534994a22f296a3"
  },
  {
   "cell_type": "code",
   "execution_count": null,
   "outputs": [],
   "source": [
    "df['el_load_lag24'] = df['el_load'].shift(24, fill_value=0)\n",
    "df['el_load_lag48'] = df['el_load'].shift(48, fill_value=0)\n",
    "df['el_load_lag72'] = df['el_load'].shift(72, fill_value=0)\n",
    "df['el_load_lag96'] = df['el_load'].shift(96, fill_value=0)\n",
    "\n",
    "df"
   ],
   "metadata": {
    "collapsed": false
   },
   "id": "6eae1a1692581e40"
  },
  {
   "cell_type": "markdown",
   "source": [
    "## Automatic feature selection"
   ],
   "metadata": {
    "collapsed": false
   },
   "id": "bbf23e1281a43faa"
  },
  {
   "cell_type": "markdown",
   "source": [
    "I'll be doing a 3 hour forecast, using the last 24 hours, to get the best features I can."
   ],
   "metadata": {
    "collapsed": false
   },
   "id": "edd45851e1cff227"
  },
  {
   "cell_type": "code",
   "execution_count": null,
   "outputs": [],
   "source": [
    "X = df.to_numpy(dtype=np.float64)\n",
    "y = df['el_load'].to_numpy(dtype=np.float64)\n",
    "rf_X = np.zeros((len(X)-24-3, 24*X.shape[1]))\n",
    "rf_y = np.zeros((len(X)-24-3, 3))\n",
    "for i in range(len(X)-24-3):\n",
    "    rf_X[i] = X[i:i+24].flatten()\n",
    "    rf_y[i] = y[i+24:i+24+3]\n",
    "\n",
    "# Feature groups exist, to simulate choosing or not choosing a feature/column rather than evaluating every possible combination\n",
    "    # for example, I won't check if the 2nd or 3rd hour of the day is a good feature, but rather if the hour of the day is a good feature\n",
    "feature_groups = [[j for j in range(i, rf_X.shape[1], len(df.columns))] for i in range(len(df.columns))]\n",
    "\n",
    "start_from_scratch = False\n",
    "# init, option to load already computed results\n",
    "fixed_features = None\n",
    "scores_df = pd.DataFrame(columns=['score'] + list(df.columns))\n",
    "range_start = 1\n",
    "if not start_from_scratch and os.path.exists('data/feature_selection.csv'):\n",
    "    scores_df = pd.read_csv('data/feature_selection.csv', sep=';', index_col=0)\n",
    "    range_start = len(scores_df.index) + 1\n",
    "    last_row = tuple(scores_df.iloc[-1][1:].to_numpy(dtype=bool))\n",
    "    fixed_features = [feat for feat, use in zip(feature_groups, last_row) if use]\n",
    "    fixed_features = tuple([item for sublist in fixed_features for item in sublist])\n",
    "    \n",
    "\n",
    "for i in range(range_start, len(df.columns)+1):\n",
    "    ts_split = TimeSeriesSplit(n_splits=4).split(rf_X)\n",
    "    sfs = SFS(\n",
    "        RandomForestRegressor(n_jobs=-1, random_state=randomstate, n_estimators=40,\n",
    "                              max_depth=20, max_features=1.0),\n",
    "        k_features=i,\n",
    "        forward=True,\n",
    "        scoring='neg_root_mean_squared_error', # regular root mean squared error doesn't exist in sklearn\n",
    "        cv = list(ts_split),\n",
    "        fixed_features=fixed_features,\n",
    "        feature_groups=feature_groups\n",
    "    )\n",
    "\n",
    "    sfs.fit_transform(rf_X, rf_y)\n",
    "    fixed_features = tuple(sfs.k_feature_idx_)\n",
    "    feature_idxs = [True if i in fixed_features else False for i in range(len(df.columns))]\n",
    "    scores_df.loc[i] = [-sfs.k_score_] + feature_idxs\n",
    "    print(f\"Finished {i} feature(s), score: {-sfs.k_score_}\")\n",
    "    scores_df.to_csv('data/feature_selection.csv', sep=';')\n",
    "\n",
    "scores_df"
   ],
   "metadata": {
    "collapsed": false
   },
   "id": "188c11abffca4d8f"
  },
  {
   "cell_type": "markdown",
   "source": [
    "It hits the best performance at 11 features."
   ],
   "metadata": {
    "collapsed": false
   },
   "id": "ef1f0639729783d3"
  },
  {
   "cell_type": "markdown",
   "source": [
    "## How much time should I use for the forecast?"
   ],
   "metadata": {
    "collapsed": false
   },
   "id": "5e3fc7c07f98e245"
  },
  {
   "cell_type": "code",
   "execution_count": null,
   "outputs": [],
   "source": [
    "def score_of_lookback(X: np.ndarray, y: np.ndarray,seq_len: int, pred_len: int):\n",
    "    rf_X = np.zeros((len(X)-seq_len-pred_len, seq_len*X.shape[1]))\n",
    "    rf_y = np.zeros((len(X)-seq_len-pred_len, pred_len))\n",
    "    for i in range(len(X)-seq_len-pred_len):\n",
    "        rf_X[i] = X[i:i+seq_len].flatten()\n",
    "        rf_y[i] = y[i+seq_len:i+seq_len+pred_len]\n",
    "\n",
    "    ts_split = TimeSeriesSplit(n_splits=4).split(rf_X)\n",
    "    \n",
    "    model = RandomForestRegressor(n_estimators=75, n_jobs=-1, random_state=randomstate)\n",
    "    scores = cross_val_score(model, rf_X, rf_y, scoring='neg_root_mean_squared_error', cv=list(ts_split))\n",
    "    \n",
    "    print(f\"Score for {seq_len} hours of data: {-scores.mean()}, std: {scores.std()}\")\n",
    "    return -scores.mean(), scores.std()\n",
    "\n",
    "new_df = df[['el_load', 'prec', 'grad', 'holiday', 'weekend', 'hour', 'weekday', 'dayofyear', 'month', 'year', 'el_load_lag24']]\n",
    "\n",
    "X = new_df.to_numpy(dtype=np.float64)\n",
    "y = new_df['el_load'].to_numpy(dtype=np.float64)\n",
    "\n",
    "score_of_lookback(X, y, 12, 3)\n",
    "score_of_lookback(X, y, 24, 3)\n",
    "score_of_lookback(X, y, 36, 3)\n",
    "score_of_lookback(X, y, 48, 3)"
   ],
   "metadata": {
    "collapsed": false
   },
   "id": "44ede2ed357619a1"
  },
  {
   "cell_type": "markdown",
   "source": [
    "Looks like 24 hours is the best option."
   ],
   "metadata": {
    "collapsed": false
   },
   "id": "d72be537429e1947"
  }
 ],
 "metadata": {
  "kernelspec": {
   "display_name": "Python 3",
   "language": "python",
   "name": "python3"
  },
  "language_info": {
   "codemirror_mode": {
    "name": "ipython",
    "version": 2
   },
   "file_extension": ".py",
   "mimetype": "text/x-python",
   "name": "python",
   "nbconvert_exporter": "python",
   "pygments_lexer": "ipython2",
   "version": "2.7.6"
  }
 },
 "nbformat": 4,
 "nbformat_minor": 5
}
