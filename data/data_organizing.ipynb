{
 "cells": [
  {
   "cell_type": "markdown",
   "source": [
    "### Importing libraries"
   ],
   "metadata": {
    "collapsed": false
   },
   "id": "8d4db74f140ab7ac"
  },
  {
   "cell_type": "code",
   "execution_count": 1,
   "id": "initial_id",
   "metadata": {
    "collapsed": true,
    "ExecuteTime": {
     "end_time": "2023-10-09T18:29:09.793543900Z",
     "start_time": "2023-10-09T18:29:09.352746400Z"
    }
   },
   "outputs": [],
   "source": [
    "import pandas as pd\n",
    "import numpy as np\n",
    "import holidays\n",
    "import os"
   ]
  },
  {
   "cell_type": "markdown",
   "source": [
    "## MAVIR import"
   ],
   "metadata": {
    "collapsed": false
   },
   "id": "bf652287f3e0df7f"
  },
  {
   "cell_type": "markdown",
   "source": [
    "I resample the data here, since MAVIR has missing values, basic linear interpolation should be enough for the approximately 100 missing values."
   ],
   "metadata": {
    "collapsed": false
   },
   "id": "8cadca0b7d217504"
  },
  {
   "cell_type": "code",
   "execution_count": 9,
   "outputs": [
    {
     "name": "stdout",
     "output_type": "stream",
     "text": [
      "<class 'pandas.core.frame.DataFrame'>\n",
      "DatetimeIndex: 75960 entries, 2015-01-01 00:00:00 to 2023-08-31 23:00:00\n",
      "Freq: H\n",
      "Data columns (total 2 columns):\n",
      " #   Column      Non-Null Count  Dtype  \n",
      "---  ------      --------------  -----  \n",
      " 0   el_load     75960 non-null  float64\n",
      " 1   mavir_pred  75960 non-null  float64\n",
      "dtypes: float64(2)\n",
      "memory usage: 1.7 MB\n",
      "MAVIR MAE: 253.013941640337\n"
     ]
    },
    {
     "data": {
      "text/plain": "                      el_load  mavir_pred\nTime                                     \n2015-01-01 00:00:00  4270.718     4283.00\n2015-01-01 01:00:00  4068.940     4112.50\n2015-01-01 02:00:00  3754.788     3847.25\n2015-01-01 03:00:00  3510.361     3704.00\n2015-01-01 04:00:00  3426.489     3646.75\n...                       ...         ...\n2023-08-31 19:00:00  5480.864     5657.25\n2023-08-31 20:00:00  5139.191     5343.25\n2023-08-31 21:00:00  4849.395     5033.50\n2023-08-31 22:00:00  4652.292     4813.00\n2023-08-31 23:00:00  4364.219     4518.50\n\n[75960 rows x 2 columns]",
      "text/html": "<div>\n<style scoped>\n    .dataframe tbody tr th:only-of-type {\n        vertical-align: middle;\n    }\n\n    .dataframe tbody tr th {\n        vertical-align: top;\n    }\n\n    .dataframe thead th {\n        text-align: right;\n    }\n</style>\n<table border=\"1\" class=\"dataframe\">\n  <thead>\n    <tr style=\"text-align: right;\">\n      <th></th>\n      <th>el_load</th>\n      <th>mavir_pred</th>\n    </tr>\n    <tr>\n      <th>Time</th>\n      <th></th>\n      <th></th>\n    </tr>\n  </thead>\n  <tbody>\n    <tr>\n      <th>2015-01-01 00:00:00</th>\n      <td>4270.718</td>\n      <td>4283.00</td>\n    </tr>\n    <tr>\n      <th>2015-01-01 01:00:00</th>\n      <td>4068.940</td>\n      <td>4112.50</td>\n    </tr>\n    <tr>\n      <th>2015-01-01 02:00:00</th>\n      <td>3754.788</td>\n      <td>3847.25</td>\n    </tr>\n    <tr>\n      <th>2015-01-01 03:00:00</th>\n      <td>3510.361</td>\n      <td>3704.00</td>\n    </tr>\n    <tr>\n      <th>2015-01-01 04:00:00</th>\n      <td>3426.489</td>\n      <td>3646.75</td>\n    </tr>\n    <tr>\n      <th>...</th>\n      <td>...</td>\n      <td>...</td>\n    </tr>\n    <tr>\n      <th>2023-08-31 19:00:00</th>\n      <td>5480.864</td>\n      <td>5657.25</td>\n    </tr>\n    <tr>\n      <th>2023-08-31 20:00:00</th>\n      <td>5139.191</td>\n      <td>5343.25</td>\n    </tr>\n    <tr>\n      <th>2023-08-31 21:00:00</th>\n      <td>4849.395</td>\n      <td>5033.50</td>\n    </tr>\n    <tr>\n      <th>2023-08-31 22:00:00</th>\n      <td>4652.292</td>\n      <td>4813.00</td>\n    </tr>\n    <tr>\n      <th>2023-08-31 23:00:00</th>\n      <td>4364.219</td>\n      <td>4518.50</td>\n    </tr>\n  </tbody>\n</table>\n<p>75960 rows × 2 columns</p>\n</div>"
     },
     "execution_count": 9,
     "metadata": {},
     "output_type": "execute_result"
    }
   ],
   "source": [
    "mavir = pd.read_csv('mavir_data/mavir.csv', sep=';', parse_dates=['Time'], index_col='Time', date_format=\"%Y-%m-%d %H:%M:%S\")\n",
    "mavir.columns = ['el_load', 'mavir_pred']\n",
    "mavir = mavir[:'2023-08-31 23:00:00']\n",
    "mavir = mavir.resample('1H').mean()\n",
    "mavir.interpolate(method='linear', inplace=True)\n",
    "mavir.info()\n",
    "\n",
    "print('MAVIR MAE:',(mavir['el_load'] - mavir['mavir_pred']).abs().mean())\n",
    "\n",
    "mavir"
   ],
   "metadata": {
    "collapsed": false,
    "ExecuteTime": {
     "end_time": "2023-10-09T18:31:26.005964400Z",
     "start_time": "2023-10-09T18:31:25.901925500Z"
    }
   },
   "id": "753b827908f7b8fe"
  },
  {
   "cell_type": "markdown",
   "source": [
    "## OMSZ import"
   ],
   "metadata": {
    "collapsed": false
   },
   "id": "1193e4fd2f065a3a"
  },
  {
   "cell_type": "code",
   "execution_count": null,
   "outputs": [],
   "source": [
    "example = pd.read_csv('omsz_data/53101_Heves_Kékestető.csv', sep=';', parse_dates=['Time'], index_col='Time', date_format=\"%Y-%m-%d %H:%M:%S\")\n",
    "example.info()\n",
    "\n",
    "example"
   ],
   "metadata": {
    "collapsed": false
   },
   "id": "a6fcd88de98e14d7"
  },
  {
   "cell_type": "markdown",
   "source": [
    "Let's check which features have enough datapoints to keep in our dataset"
   ],
   "metadata": {
    "collapsed": false
   },
   "id": "6a99cd54df10ae00"
  },
  {
   "cell_type": "code",
   "execution_count": null,
   "outputs": [],
   "source": [
    "list_of_files = [f\"omsz_data/{file}\" for file in os.listdir('omsz_data')]\n",
    "print(f\"Number of files: {len(list_of_files)}\")\n",
    "\n",
    "cols = {'r': 0, 'ta': 0, 'u': 0, 'sg': 0, 'sr': 0, 'we': 0, 'p0': 0, 'f': 0, 'tviz': 0, 'p': 0}\n",
    "\n",
    "for f in list_of_files:\n",
    "    df = pd.read_csv(f, sep=';', parse_dates=['Time'], index_col='Time', date_format=\"%Y-%m-%d %H:%M:%S\", nrows=3)\n",
    "    c = df.columns\n",
    "    for col in c:\n",
    "        cols[col] += 1\n",
    "        if col == 'tviz':\n",
    "            print(f\"Water temperature available in {f.split('/')[1]}, has null values: {df['tviz'].isnull().values.any()}\")\n",
    "\n",
    "print(\"Number of columns available:\", cols)"
   ],
   "metadata": {
    "collapsed": false
   },
   "id": "889c0634c8b59379"
  },
  {
   "cell_type": "markdown",
   "source": [
    "I'll drop some features that have too few datapoints or are repetitive:\n",
    "- p: air pressure at instrument level, i'll keep p0, which is the air pressure at sea level\n",
    "- we: weather code, not possible to aggregate to bigger areas\n",
    "- sg: seems to have many missing values\n",
    "\n",
    "tviz: water temperature, not available for most of the stations, but it's available for Balaton via Siófok, and for Velence via Agárd so it's probably worth keeping"
   ],
   "metadata": {
    "collapsed": false
   },
   "id": "a2f0ee68bd5e523d"
  },
  {
   "cell_type": "code",
   "execution_count": null,
   "outputs": [],
   "source": [
    "cols_to_drop = ['p', 'we', 'sg', 'tviz']\n",
    "\n",
    "columns = {\n",
    "    key: [] for key in cols if key not in cols_to_drop\n",
    "}\n",
    "rename_cols = {\n",
    "    'r': 'prec',\n",
    "    'ta': 'temp',\n",
    "    'u': 'rhum',\n",
    "    'sr': 'grad',\n",
    "    'p0': 'pres',\n",
    "    'f': 'wind'\n",
    "}\n",
    "\n",
    "tviz_cols = {}\n",
    "\n",
    "for i, f in enumerate(list_of_files):\n",
    "    df = pd.read_csv(f, sep=';', parse_dates=['Time'], index_col='Time', date_format=\"%Y-%m-%d %H:%M:%S\")\n",
    "    for col in df.columns:\n",
    "        if col not in cols_to_drop:\n",
    "            columns[col].append(df[col])\n",
    "        elif col == 'tviz':\n",
    "            tviz_cols[(f.split('/')[1]).split('_')[0]] = df[col]\n",
    "            print(f\"{f.split('/')[1]} has tviz entries\")\n",
    "            \n",
    "final_dataframe = mavir.copy().drop(columns=['mavir_pred'])\n",
    "            \n",
    "for key, value in columns.items():\n",
    "    df = pd.DataFrame(index=example.index)\n",
    "    df = pd.concat([df, *value], axis=1)\n",
    "    final_dataframe[rename_cols[key]] = df.mean(axis=1, skipna=True)\n",
    "\n",
    "# for key, value in tviz_cols.items():\n",
    "#     print(key, value.info()) # based on this info, I'll throw away data recorded in Győr Likócs, since it only has 1 entry\n",
    "\n",
    "final_dataframe['Vel_tviz'] = tviz_cols['35315']\n",
    "final_dataframe['Bal_tviz'] = tviz_cols['36100']\n",
    "\n",
    "# there's only some missing values, mostly in tviz columns, so I'll just interpolate them\n",
    "final_dataframe.interpolate(method='linear', inplace=True)\n",
    "\n",
    "final_dataframe.info()\n",
    "\n",
    "final_dataframe"
   ],
   "metadata": {
    "collapsed": false
   },
   "id": "bb6439f4b9fe0732"
  },
  {
   "cell_type": "code",
   "execution_count": null,
   "outputs": [],
   "source": [
    "holidays_hu = holidays.country_holidays('HU', years=list(range(2015, 2024)))\n",
    "\n",
    "holidays_hu.get('2023-08-20 01:00:00')\n",
    "\n",
    "# is it holiday or weekend?\n",
    "final_dataframe['holiday'] = final_dataframe.index.map(lambda x: 1 if holidays_hu.get(x) else 0)\n",
    "final_dataframe['weekend'] = final_dataframe.index.map(lambda x: 1 if x.weekday() >= 5 else 0)\n",
    "\n",
    "final_dataframe"
   ],
   "metadata": {
    "collapsed": false
   },
   "id": "f6c2392bb14571b1"
  },
  {
   "cell_type": "markdown",
   "source": [
    "## Covid identifiers\n",
    "\n",
    "The best resource I could find that has dates is: https://hu.wikipedia.org/wiki/Covid19-koronavírus-járvány_Magyarországon\n",
    "The official emergency situation was announced on 2020 march 11th.\n",
    "For the end date, I chose when travel limitations were lifted, which is 2022. march 7. according to https://konzinfo.mfa.gov.hu/covid-19"
   ],
   "metadata": {
    "collapsed": false
   },
   "id": "e1c0b60334ae907c"
  },
  {
   "cell_type": "code",
   "execution_count": null,
   "outputs": [],
   "source": [
    "final_dataframe['covid'] = 0\n",
    "final_dataframe.loc['2020-03-11 00:00:00':'2022-03-7 23:00:00', 'covid'] = 1\n",
    "print(final_dataframe['covid'].value_counts())\n",
    "\n",
    "final_dataframe['holiday'] = final_dataframe['holiday'].astype(float)\n",
    "final_dataframe['weekend'] = final_dataframe['weekend'].astype(float)\n",
    "final_dataframe['covid'] = final_dataframe['covid'].astype(float)\n",
    "\n",
    "final_dataframe.to_csv('country_data.csv', sep=';')\n",
    "\n",
    "final_dataframe.info()\n",
    "final_dataframe"
   ],
   "metadata": {
    "collapsed": false
   },
   "id": "26a93fe7f2551a34"
  }
 ],
 "metadata": {
  "kernelspec": {
   "display_name": "Python 3",
   "language": "python",
   "name": "python3"
  },
  "language_info": {
   "codemirror_mode": {
    "name": "ipython",
    "version": 2
   },
   "file_extension": ".py",
   "mimetype": "text/x-python",
   "name": "python",
   "nbconvert_exporter": "python",
   "pygments_lexer": "ipython2",
   "version": "2.7.6"
  }
 },
 "nbformat": 4,
 "nbformat_minor": 5
}
