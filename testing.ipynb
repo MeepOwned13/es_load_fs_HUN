{
 "cells": [
  {
   "cell_type": "markdown",
   "source": [
    "## Imports"
   ],
   "metadata": {
    "collapsed": false
   },
   "id": "c503cf5ffb79235d"
  },
  {
   "cell_type": "code",
   "execution_count": 1,
   "outputs": [],
   "source": [
    "import pandas as pd\n",
    "import numpy as np"
   ],
   "metadata": {
    "collapsed": false,
    "ExecuteTime": {
     "end_time": "2023-09-17T11:53:49.274660200Z",
     "start_time": "2023-09-17T11:53:48.903337100Z"
    }
   },
   "id": "e4650a36b6a54a19"
  },
  {
   "cell_type": "markdown",
   "source": [
    "### Format station data\n",
    "\n",
    "Testing formatting and cutting of individual station data"
   ],
   "metadata": {
    "collapsed": false
   },
   "id": "9eeda580b896e8e0"
  },
  {
   "cell_type": "code",
   "execution_count": null,
   "id": "initial_id",
   "metadata": {
    "collapsed": true
   },
   "outputs": [],
   "source": [
    "df: pd.DataFrame = pd.read_csv('data/omsz_data/Győr-Moson-Sopron_Mosonmagyaróvár.csv',\n",
    "                               skiprows=4, # skip metadata of csv\n",
    "                               sep=';', # separator\n",
    "                               skipinitialspace=True, # remove trailing whitespace\n",
    "                               na_values=['EOR', -999], # End Of Record is irrelevant, -999 means missing value\n",
    "                               low_memory=False, # warning about mixed types\n",
    "                               )\n",
    "df.columns = df.columns.str.strip() # remove trailing whitespaces\n",
    "df['Time'] = pd.to_datetime(df['Time'], format='%Y%m%d%H%M') # convert to datetime\n",
    "df.index = df['Time'] # set index to datetime\n",
    "df.drop('Time', axis=1, inplace=True) # remove unnecessary column\n",
    "df.dropna(how='all', axis=1, inplace=True) # remove columns with all NaN values\n",
    "# print(df.dtypes)\n",
    "# print(df.describe())\n",
    "\n",
    "df"
   ]
  },
  {
   "cell_type": "markdown",
   "source": [
    "### Electricity load data\n",
    "\n",
    "Checking electricity load data that will be used"
   ],
   "metadata": {
    "collapsed": false
   },
   "id": "d9233bf7d2b1f48b"
  },
  {
   "cell_type": "code",
   "execution_count": 2,
   "outputs": [
    {
     "data": {
      "text/plain": "                     Nettó terv rendszerterhelés  Nettó terhelés  \\\nTime                                                               \n2014-12-31 23:00:00                     4217.698        4441.649   \n2015-01-01 00:00:00                     4038.799        4270.718   \n2015-01-01 01:00:00                     3833.700        4068.940   \n2015-01-01 02:00:00                     3523.887        3754.788   \n2015-01-01 03:00:00                     3334.091        3510.361   \n...                                          ...             ...   \n2019-05-10 13:00:00                     5137.336        5171.769   \n2019-05-10 14:00:00                     5142.928        5167.305   \n2019-05-10 15:00:00                     5134.088        5190.775   \n2019-05-10 16:00:00                     5066.371        5152.173   \n2019-05-10 17:00:00                          NaN             NaN   \n\n                     MAVIR becslés  Nettó terv rendszertermelés  \\\nTime                                                              \n2014-12-31 23:00:00        4445.00                     4205.410   \n2015-01-01 00:00:00        4283.00                     4033.771   \n2015-01-01 01:00:00        4112.50                     3828.110   \n2015-01-01 02:00:00        3847.25                     3509.965   \n2015-01-01 03:00:00        3704.00                     3327.267   \n...                            ...                          ...   \n2019-05-10 13:00:00        5523.00                     5101.825   \n2019-05-10 14:00:00        5570.50                     5114.371   \n2019-05-10 15:00:00        5549.00                     5099.356   \n2019-05-10 16:00:00        5454.00                     5026.913   \n2019-05-10 17:00:00            NaN                          NaN   \n\n                     Nettó rendszerterhelés tény - üzemirányítási  \\\nTime                                                                \n2014-12-31 23:00:00                                      4441.649   \n2015-01-01 00:00:00                                      4270.718   \n2015-01-01 01:00:00                                      4068.940   \n2015-01-01 02:00:00                                      3754.788   \n2015-01-01 03:00:00                                      3510.361   \n...                                                           ...   \n2019-05-10 13:00:00                                      5171.769   \n2019-05-10 14:00:00                                      5167.305   \n2019-05-10 15:00:00                                      5190.775   \n2019-05-10 16:00:00                                      5152.173   \n2019-05-10 17:00:00                                           NaN   \n\n                     Bruttó hitelesített rendszerterhelés tény  \\\nTime                                                             \n2014-12-31 23:00:00                                    4727.00   \n2015-01-01 00:00:00                                    4562.75   \n2015-01-01 01:00:00                                    4363.75   \n2015-01-01 02:00:00                                    4054.00   \n2015-01-01 03:00:00                                    3809.75   \n...                                                        ...   \n2019-05-10 13:00:00                                    5400.25   \n2019-05-10 14:00:00                                    5396.00   \n2019-05-10 15:00:00                                    5426.00   \n2019-05-10 16:00:00                                    5386.00   \n2019-05-10 17:00:00                                        NaN   \n\n                     Bruttó terv rendszerterhelés  \\\nTime                                                \n2014-12-31 23:00:00                      4610.685   \n2015-01-01 00:00:00                      4438.101   \n2015-01-01 01:00:00                      4226.770   \n2015-01-01 02:00:00                      3914.933   \n2015-01-01 03:00:00                      3743.815   \n...                                           ...   \n2019-05-10 13:00:00                      5383.933   \n2019-05-10 14:00:00                      5407.511   \n2019-05-10 15:00:00                      5413.481   \n2019-05-10 16:00:00                      5363.663   \n2019-05-10 17:00:00                           NaN   \n\n                     Nettó tény rendszerterhelés - net.ker.elsz.meres  \\\nTime                                                                    \n2014-12-31 23:00:00                                          4334.268   \n2015-01-01 00:00:00                                          4167.426   \n2015-01-01 01:00:00                                          3966.348   \n2015-01-01 02:00:00                                          3653.326   \n2015-01-01 03:00:00                                          3406.167   \n...                                                               ...   \n2019-05-10 13:00:00                                          5138.393   \n2019-05-10 14:00:00                                          5114.985   \n2019-05-10 15:00:00                                          5120.101   \n2019-05-10 16:00:00                                          5041.042   \n2019-05-10 17:00:00                                               NaN   \n\n                     Bruttó tény rendszerterhelés  \\\nTime                                                \n2014-12-31 23:00:00                      4728.877   \n2015-01-01 00:00:00                      4561.364   \n2015-01-01 01:00:00                      4364.469   \n2015-01-01 02:00:00                      4054.418   \n2015-01-01 03:00:00                      3810.251   \n...                                           ...   \n2019-05-10 13:00:00                      5404.372   \n2019-05-10 14:00:00                      5401.816   \n2019-05-10 15:00:00                      5426.095   \n2019-05-10 16:00:00                      5387.883   \n2019-05-10 17:00:00                           NaN   \n\n                     Nettó MAVIR rendszerterhelés becslés  \nTime                                                       \n2014-12-31 23:00:00                                   NaN  \n2015-01-01 00:00:00                              3871.412  \n2015-01-01 01:00:00                              3734.557  \n2015-01-01 02:00:00                              3436.674  \n2015-01-01 03:00:00                              3264.344  \n...                                                   ...  \n2019-05-10 13:00:00                              5092.751  \n2019-05-10 14:00:00                              5143.517  \n2019-05-10 15:00:00                              5125.815  \n2019-05-10 16:00:00                              5025.547  \n2019-05-10 17:00:00                                   NaN  \n\n[38179 rows x 10 columns]",
      "text/html": "<div>\n<style scoped>\n    .dataframe tbody tr th:only-of-type {\n        vertical-align: middle;\n    }\n\n    .dataframe tbody tr th {\n        vertical-align: top;\n    }\n\n    .dataframe thead th {\n        text-align: right;\n    }\n</style>\n<table border=\"1\" class=\"dataframe\">\n  <thead>\n    <tr style=\"text-align: right;\">\n      <th></th>\n      <th>Nettó terv rendszerterhelés</th>\n      <th>Nettó terhelés</th>\n      <th>MAVIR becslés</th>\n      <th>Nettó terv rendszertermelés</th>\n      <th>Nettó rendszerterhelés tény - üzemirányítási</th>\n      <th>Bruttó hitelesített rendszerterhelés tény</th>\n      <th>Bruttó terv rendszerterhelés</th>\n      <th>Nettó tény rendszerterhelés - net.ker.elsz.meres</th>\n      <th>Bruttó tény rendszerterhelés</th>\n      <th>Nettó MAVIR rendszerterhelés becslés</th>\n    </tr>\n    <tr>\n      <th>Time</th>\n      <th></th>\n      <th></th>\n      <th></th>\n      <th></th>\n      <th></th>\n      <th></th>\n      <th></th>\n      <th></th>\n      <th></th>\n      <th></th>\n    </tr>\n  </thead>\n  <tbody>\n    <tr>\n      <th>2014-12-31 23:00:00</th>\n      <td>4217.698</td>\n      <td>4441.649</td>\n      <td>4445.00</td>\n      <td>4205.410</td>\n      <td>4441.649</td>\n      <td>4727.00</td>\n      <td>4610.685</td>\n      <td>4334.268</td>\n      <td>4728.877</td>\n      <td>NaN</td>\n    </tr>\n    <tr>\n      <th>2015-01-01 00:00:00</th>\n      <td>4038.799</td>\n      <td>4270.718</td>\n      <td>4283.00</td>\n      <td>4033.771</td>\n      <td>4270.718</td>\n      <td>4562.75</td>\n      <td>4438.101</td>\n      <td>4167.426</td>\n      <td>4561.364</td>\n      <td>3871.412</td>\n    </tr>\n    <tr>\n      <th>2015-01-01 01:00:00</th>\n      <td>3833.700</td>\n      <td>4068.940</td>\n      <td>4112.50</td>\n      <td>3828.110</td>\n      <td>4068.940</td>\n      <td>4363.75</td>\n      <td>4226.770</td>\n      <td>3966.348</td>\n      <td>4364.469</td>\n      <td>3734.557</td>\n    </tr>\n    <tr>\n      <th>2015-01-01 02:00:00</th>\n      <td>3523.887</td>\n      <td>3754.788</td>\n      <td>3847.25</td>\n      <td>3509.965</td>\n      <td>3754.788</td>\n      <td>4054.00</td>\n      <td>3914.933</td>\n      <td>3653.326</td>\n      <td>4054.418</td>\n      <td>3436.674</td>\n    </tr>\n    <tr>\n      <th>2015-01-01 03:00:00</th>\n      <td>3334.091</td>\n      <td>3510.361</td>\n      <td>3704.00</td>\n      <td>3327.267</td>\n      <td>3510.361</td>\n      <td>3809.75</td>\n      <td>3743.815</td>\n      <td>3406.167</td>\n      <td>3810.251</td>\n      <td>3264.344</td>\n    </tr>\n    <tr>\n      <th>...</th>\n      <td>...</td>\n      <td>...</td>\n      <td>...</td>\n      <td>...</td>\n      <td>...</td>\n      <td>...</td>\n      <td>...</td>\n      <td>...</td>\n      <td>...</td>\n      <td>...</td>\n    </tr>\n    <tr>\n      <th>2019-05-10 13:00:00</th>\n      <td>5137.336</td>\n      <td>5171.769</td>\n      <td>5523.00</td>\n      <td>5101.825</td>\n      <td>5171.769</td>\n      <td>5400.25</td>\n      <td>5383.933</td>\n      <td>5138.393</td>\n      <td>5404.372</td>\n      <td>5092.751</td>\n    </tr>\n    <tr>\n      <th>2019-05-10 14:00:00</th>\n      <td>5142.928</td>\n      <td>5167.305</td>\n      <td>5570.50</td>\n      <td>5114.371</td>\n      <td>5167.305</td>\n      <td>5396.00</td>\n      <td>5407.511</td>\n      <td>5114.985</td>\n      <td>5401.816</td>\n      <td>5143.517</td>\n    </tr>\n    <tr>\n      <th>2019-05-10 15:00:00</th>\n      <td>5134.088</td>\n      <td>5190.775</td>\n      <td>5549.00</td>\n      <td>5099.356</td>\n      <td>5190.775</td>\n      <td>5426.00</td>\n      <td>5413.481</td>\n      <td>5120.101</td>\n      <td>5426.095</td>\n      <td>5125.815</td>\n    </tr>\n    <tr>\n      <th>2019-05-10 16:00:00</th>\n      <td>5066.371</td>\n      <td>5152.173</td>\n      <td>5454.00</td>\n      <td>5026.913</td>\n      <td>5152.173</td>\n      <td>5386.00</td>\n      <td>5363.663</td>\n      <td>5041.042</td>\n      <td>5387.883</td>\n      <td>5025.547</td>\n    </tr>\n    <tr>\n      <th>2019-05-10 17:00:00</th>\n      <td>NaN</td>\n      <td>NaN</td>\n      <td>NaN</td>\n      <td>NaN</td>\n      <td>NaN</td>\n      <td>NaN</td>\n      <td>NaN</td>\n      <td>NaN</td>\n      <td>NaN</td>\n      <td>NaN</td>\n    </tr>\n  </tbody>\n</table>\n<p>38179 rows × 10 columns</p>\n</div>"
     },
     "execution_count": 2,
     "metadata": {},
     "output_type": "execute_result"
    }
   ],
   "source": [
    "df: pd.DataFrame = pd.read_csv('data/mavir_data/mavir_1.csv', sep=';')\n",
    "\n",
    "df.columns = df.columns.str.strip()\n",
    "df['Time'] = pd.to_datetime(df['Időpont'], utc=True).dt.tz_localize(None)\n",
    "df.index = df['Time']\n",
    "df.drop(['Time', 'Időpont'], axis=1, inplace=True)\n",
    "\n",
    "df"
   ],
   "metadata": {
    "collapsed": false,
    "ExecuteTime": {
     "end_time": "2023-09-17T11:53:49.561312100Z",
     "start_time": "2023-09-17T11:53:49.284660900Z"
    }
   },
   "id": "3a20fa5b7def208b"
  },
  {
   "cell_type": "markdown",
   "source": [
    "### Checking meta data\n",
    "\n",
    "I'm deciding which start date to use for the new dataset, it looks like a lot of new stations were set up in 2014, so somwhere between 2015 and 2017 seem like good years to start\n",
    "- I have to keep in mind, the COVID pandemic started around 2020, so I want a good amount of data before that too"
   ],
   "metadata": {
    "collapsed": false
   },
   "id": "6ab14a7c0ae7335b"
  },
  {
   "cell_type": "code",
   "execution_count": null,
   "outputs": [],
   "source": [
    "df = pd.DataFrame = pd.read_csv('data/omsz_meta.csv',\n",
    "                                sep=';',\n",
    "                                )\n",
    "df.sort_values('StartDate', inplace=True)\n",
    "\n",
    "df"
   ],
   "metadata": {
    "collapsed": false
   },
   "id": "7c3a9da183a35053"
  }
 ],
 "metadata": {
  "kernelspec": {
   "display_name": "Python 3",
   "language": "python",
   "name": "python3"
  },
  "language_info": {
   "codemirror_mode": {
    "name": "ipython",
    "version": 2
   },
   "file_extension": ".py",
   "mimetype": "text/x-python",
   "name": "python",
   "nbconvert_exporter": "python",
   "pygments_lexer": "ipython2",
   "version": "2.7.6"
  }
 },
 "nbformat": 4,
 "nbformat_minor": 5
}
