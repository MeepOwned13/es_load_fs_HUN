{
 "cells": [
  {
   "cell_type": "markdown",
   "source": [
    "## Imports"
   ],
   "metadata": {
    "collapsed": false
   },
   "id": "c503cf5ffb79235d"
  },
  {
   "cell_type": "code",
   "execution_count": 1,
   "outputs": [],
   "source": [
    "import pandas as pd\n",
    "import numpy as np"
   ],
   "metadata": {
    "collapsed": false,
    "ExecuteTime": {
     "end_time": "2023-09-17T19:33:15.079315100Z",
     "start_time": "2023-09-17T19:33:14.749149800Z"
    }
   },
   "id": "e4650a36b6a54a19"
  },
  {
   "cell_type": "markdown",
   "source": [
    "### Format station data\n",
    "\n",
    "Testing formatting and cutting of individual station data"
   ],
   "metadata": {
    "collapsed": false
   },
   "id": "9eeda580b896e8e0"
  },
  {
   "cell_type": "code",
   "execution_count": null,
   "id": "initial_id",
   "metadata": {
    "collapsed": true
   },
   "outputs": [],
   "source": [
    "df: pd.DataFrame = pd.read_csv('data/omsz_data/Győr-Moson-Sopron_Mosonmagyaróvár.csv',\n",
    "                               skiprows=4, # skip metadata of csv\n",
    "                               sep=';', # separator\n",
    "                               skipinitialspace=True, # remove trailing whitespace\n",
    "                               na_values=['EOR', -999], # End Of Record is irrelevant, -999 means missing value\n",
    "                               low_memory=False, # warning about mixed types\n",
    "                               )\n",
    "df.columns = df.columns.str.strip() # remove trailing whitespaces\n",
    "df['Time'] = pd.to_datetime(df['Time'], format='%Y%m%d%H%M') # convert to datetime\n",
    "df.index = df['Time'] # set index to datetime\n",
    "df.drop('Time', axis=1, inplace=True) # remove unnecessary column\n",
    "df.dropna(how='all', axis=1, inplace=True) # remove columns with all NaN values\n",
    "# print(df.dtypes)\n",
    "# print(df.describe())\n",
    "\n",
    "df"
   ]
  },
  {
   "cell_type": "markdown",
   "source": [
    "### Electricity load data\n",
    "\n",
    "Checking electricity load data that will be used"
   ],
   "metadata": {
    "collapsed": false
   },
   "id": "d9233bf7d2b1f48b"
  },
  {
   "cell_type": "code",
   "execution_count": 4,
   "outputs": [
    {
     "data": {
      "text/plain": "                     Nettó terv rendszerterhelés  Nettó terhelés  \\\nTime                                                               \n2015-01-01 01:00:00                     4038.799        4270.718   \n2015-01-01 02:00:00                     3833.700        4068.940   \n2015-01-01 03:00:00                     3523.887        3754.788   \n2015-01-01 04:00:00                     3334.091        3510.361   \n2015-01-01 05:00:00                     3244.132        3426.489   \n...                                          ...             ...   \n2023-09-16 19:00:00                     4897.714        4917.640   \n2023-09-16 20:00:00                     4773.311        4836.893   \n2023-09-16 21:00:00                     4525.007        4556.295   \n2023-09-16 22:00:00                     4256.993        4308.079   \n2023-09-16 23:00:00                     4011.614        4071.350   \n\n                     MAVIR becslés  Nettó terv rendszertermelés  \\\nTime                                                              \n2015-01-01 01:00:00        4283.00                     4033.771   \n2015-01-01 02:00:00        4112.50                     3828.110   \n2015-01-01 03:00:00        3847.25                     3509.965   \n2015-01-01 04:00:00        3704.00                     3327.267   \n2015-01-01 05:00:00        3646.75                     3238.058   \n...                            ...                          ...   \n2023-09-16 19:00:00        5153.50                     4872.768   \n2023-09-16 20:00:00        4950.00                     4722.568   \n2023-09-16 21:00:00        4658.25                     4492.654   \n2023-09-16 22:00:00        4377.75                     4251.202   \n2023-09-16 23:00:00        4158.50                     3988.843   \n\n                     Nettó rendszerterhelés tény - üzemirányítási  \\\nTime                                                                \n2015-01-01 01:00:00                                      4270.718   \n2015-01-01 02:00:00                                      4068.940   \n2015-01-01 03:00:00                                      3754.788   \n2015-01-01 04:00:00                                      3510.361   \n2015-01-01 05:00:00                                      3426.489   \n...                                                           ...   \n2023-09-16 19:00:00                                      4917.639   \n2023-09-16 20:00:00                                      4836.893   \n2023-09-16 21:00:00                                      4556.295   \n2023-09-16 22:00:00                                      4308.079   \n2023-09-16 23:00:00                                      4071.350   \n\n                     Bruttó hitelesített rendszerterhelés tény  \\\nTime                                                             \n2015-01-01 01:00:00                                    4562.75   \n2015-01-01 02:00:00                                    4363.75   \n2015-01-01 03:00:00                                    4054.00   \n2015-01-01 04:00:00                                    3809.75   \n2015-01-01 05:00:00                                    3728.50   \n...                                                        ...   \n2023-09-16 19:00:00                                    5116.00   \n2023-09-16 20:00:00                                    5037.75   \n2023-09-16 21:00:00                                    4752.75   \n2023-09-16 22:00:00                                    4505.50   \n2023-09-16 23:00:00                                    4263.50   \n\n                     Bruttó terv rendszerterhelés  \\\nTime                                                \n2015-01-01 01:00:00                      4438.101   \n2015-01-01 02:00:00                      4226.770   \n2015-01-01 03:00:00                      3914.933   \n2015-01-01 04:00:00                      3743.815   \n2015-01-01 05:00:00                      3653.310   \n...                                           ...   \n2023-09-16 19:00:00                      5158.700   \n2023-09-16 20:00:00                      5041.603   \n2023-09-16 21:00:00                      4779.990   \n2023-09-16 22:00:00                      4498.640   \n2023-09-16 23:00:00                      4229.423   \n\n                     Nettó tény rendszerterhelés - net.ker.elsz.meres  \\\nTime                                                                    \n2015-01-01 01:00:00                                          4167.426   \n2015-01-01 02:00:00                                          3966.348   \n2015-01-01 03:00:00                                          3653.326   \n2015-01-01 04:00:00                                          3406.167   \n2015-01-01 05:00:00                                          3323.994   \n...                                                               ...   \n2023-09-16 19:00:00                                          4770.906   \n2023-09-16 20:00:00                                          4712.392   \n2023-09-16 21:00:00                                          4430.148   \n2023-09-16 22:00:00                                          4173.954   \n2023-09-16 23:00:00                                          3943.054   \n\n                     Bruttó tény rendszerterhelés  \\\nTime                                                \n2015-01-01 01:00:00                      4561.364   \n2015-01-01 02:00:00                      4364.469   \n2015-01-01 03:00:00                      4054.418   \n2015-01-01 04:00:00                      3810.251   \n2015-01-01 05:00:00                      3726.526   \n...                                           ...   \n2023-09-16 19:00:00                      5094.324   \n2023-09-16 20:00:00                      5012.292   \n2023-09-16 21:00:00                      4731.554   \n2023-09-16 22:00:00                      4482.914   \n2023-09-16 23:00:00                      4243.588   \n\n                     Nettó MAVIR rendszerterhelés becslés  \nTime                                                       \n2015-01-01 01:00:00                              3871.412  \n2015-01-01 02:00:00                              3734.557  \n2015-01-01 03:00:00                              3436.674  \n2015-01-01 04:00:00                              3264.344  \n2015-01-01 05:00:00                              3195.405  \n...                                                   ...  \n2023-09-16 19:00:00                              4865.750  \n2023-09-16 20:00:00                              4659.000  \n2023-09-16 21:00:00                              4368.250  \n2023-09-16 22:00:00                              4099.250  \n2023-09-16 23:00:00                              3882.750  \n\n[76221 rows x 10 columns]",
      "text/html": "<div>\n<style scoped>\n    .dataframe tbody tr th:only-of-type {\n        vertical-align: middle;\n    }\n\n    .dataframe tbody tr th {\n        vertical-align: top;\n    }\n\n    .dataframe thead th {\n        text-align: right;\n    }\n</style>\n<table border=\"1\" class=\"dataframe\">\n  <thead>\n    <tr style=\"text-align: right;\">\n      <th></th>\n      <th>Nettó terv rendszerterhelés</th>\n      <th>Nettó terhelés</th>\n      <th>MAVIR becslés</th>\n      <th>Nettó terv rendszertermelés</th>\n      <th>Nettó rendszerterhelés tény - üzemirányítási</th>\n      <th>Bruttó hitelesített rendszerterhelés tény</th>\n      <th>Bruttó terv rendszerterhelés</th>\n      <th>Nettó tény rendszerterhelés - net.ker.elsz.meres</th>\n      <th>Bruttó tény rendszerterhelés</th>\n      <th>Nettó MAVIR rendszerterhelés becslés</th>\n    </tr>\n    <tr>\n      <th>Time</th>\n      <th></th>\n      <th></th>\n      <th></th>\n      <th></th>\n      <th></th>\n      <th></th>\n      <th></th>\n      <th></th>\n      <th></th>\n      <th></th>\n    </tr>\n  </thead>\n  <tbody>\n    <tr>\n      <th>2015-01-01 01:00:00</th>\n      <td>4038.799</td>\n      <td>4270.718</td>\n      <td>4283.00</td>\n      <td>4033.771</td>\n      <td>4270.718</td>\n      <td>4562.75</td>\n      <td>4438.101</td>\n      <td>4167.426</td>\n      <td>4561.364</td>\n      <td>3871.412</td>\n    </tr>\n    <tr>\n      <th>2015-01-01 02:00:00</th>\n      <td>3833.700</td>\n      <td>4068.940</td>\n      <td>4112.50</td>\n      <td>3828.110</td>\n      <td>4068.940</td>\n      <td>4363.75</td>\n      <td>4226.770</td>\n      <td>3966.348</td>\n      <td>4364.469</td>\n      <td>3734.557</td>\n    </tr>\n    <tr>\n      <th>2015-01-01 03:00:00</th>\n      <td>3523.887</td>\n      <td>3754.788</td>\n      <td>3847.25</td>\n      <td>3509.965</td>\n      <td>3754.788</td>\n      <td>4054.00</td>\n      <td>3914.933</td>\n      <td>3653.326</td>\n      <td>4054.418</td>\n      <td>3436.674</td>\n    </tr>\n    <tr>\n      <th>2015-01-01 04:00:00</th>\n      <td>3334.091</td>\n      <td>3510.361</td>\n      <td>3704.00</td>\n      <td>3327.267</td>\n      <td>3510.361</td>\n      <td>3809.75</td>\n      <td>3743.815</td>\n      <td>3406.167</td>\n      <td>3810.251</td>\n      <td>3264.344</td>\n    </tr>\n    <tr>\n      <th>2015-01-01 05:00:00</th>\n      <td>3244.132</td>\n      <td>3426.489</td>\n      <td>3646.75</td>\n      <td>3238.058</td>\n      <td>3426.489</td>\n      <td>3728.50</td>\n      <td>3653.310</td>\n      <td>3323.994</td>\n      <td>3726.526</td>\n      <td>3195.405</td>\n    </tr>\n    <tr>\n      <th>...</th>\n      <td>...</td>\n      <td>...</td>\n      <td>...</td>\n      <td>...</td>\n      <td>...</td>\n      <td>...</td>\n      <td>...</td>\n      <td>...</td>\n      <td>...</td>\n      <td>...</td>\n    </tr>\n    <tr>\n      <th>2023-09-16 19:00:00</th>\n      <td>4897.714</td>\n      <td>4917.640</td>\n      <td>5153.50</td>\n      <td>4872.768</td>\n      <td>4917.639</td>\n      <td>5116.00</td>\n      <td>5158.700</td>\n      <td>4770.906</td>\n      <td>5094.324</td>\n      <td>4865.750</td>\n    </tr>\n    <tr>\n      <th>2023-09-16 20:00:00</th>\n      <td>4773.311</td>\n      <td>4836.893</td>\n      <td>4950.00</td>\n      <td>4722.568</td>\n      <td>4836.893</td>\n      <td>5037.75</td>\n      <td>5041.603</td>\n      <td>4712.392</td>\n      <td>5012.292</td>\n      <td>4659.000</td>\n    </tr>\n    <tr>\n      <th>2023-09-16 21:00:00</th>\n      <td>4525.007</td>\n      <td>4556.295</td>\n      <td>4658.25</td>\n      <td>4492.654</td>\n      <td>4556.295</td>\n      <td>4752.75</td>\n      <td>4779.990</td>\n      <td>4430.148</td>\n      <td>4731.554</td>\n      <td>4368.250</td>\n    </tr>\n    <tr>\n      <th>2023-09-16 22:00:00</th>\n      <td>4256.993</td>\n      <td>4308.079</td>\n      <td>4377.75</td>\n      <td>4251.202</td>\n      <td>4308.079</td>\n      <td>4505.50</td>\n      <td>4498.640</td>\n      <td>4173.954</td>\n      <td>4482.914</td>\n      <td>4099.250</td>\n    </tr>\n    <tr>\n      <th>2023-09-16 23:00:00</th>\n      <td>4011.614</td>\n      <td>4071.350</td>\n      <td>4158.50</td>\n      <td>3988.843</td>\n      <td>4071.350</td>\n      <td>4263.50</td>\n      <td>4229.423</td>\n      <td>3943.054</td>\n      <td>4243.588</td>\n      <td>3882.750</td>\n    </tr>\n  </tbody>\n</table>\n<p>76221 rows × 10 columns</p>\n</div>"
     },
     "execution_count": 4,
     "metadata": {},
     "output_type": "execute_result"
    }
   ],
   "source": [
    "def format_mavir(dataframe: pd.DataFrame):\n",
    "    dataframe.columns = dataframe.columns.str.strip()\n",
    "    dataframe['Time'] = (pd.to_datetime(dataframe['Időpont'], utc=True) + pd.Timedelta(hours=1)).dt.tz_localize(None)\n",
    "    dataframe['Time'] = dataframe['Time']\n",
    "    dataframe.index = dataframe['Time']\n",
    "    dataframe.drop(['Time', 'Időpont'], axis=1, inplace=True)\n",
    "    dataframe.dropna(axis=0, inplace=True)\n",
    "    return dataframe\n",
    "\n",
    "df1: pd.DataFrame = pd.read_csv('data/mavir_data/mavir_1.csv', sep=';')\n",
    "df2: pd.DataFrame = pd.read_csv('data/mavir_data/mavir_2.csv', sep=';')\n",
    "df1 = format_mavir(df1)\n",
    "df2 = format_mavir(df2)\n",
    "\n",
    "df = pd.concat([df1, df2])\n",
    "df"
   ],
   "metadata": {
    "collapsed": false,
    "ExecuteTime": {
     "end_time": "2023-09-17T19:33:38.532701900Z",
     "start_time": "2023-09-17T19:33:37.880251900Z"
    }
   },
   "id": "3a20fa5b7def208b"
  },
  {
   "cell_type": "markdown",
   "source": [
    "### Checking meta data\n",
    "\n",
    "I'm deciding which start date to use for the new dataset, it looks like a lot of new stations were set up in 2014, so somwhere between 2015 and 2017 seem like good years to start\n",
    "- I have to keep in mind, the COVID pandemic started around 2020, so I want a good amount of data before that too"
   ],
   "metadata": {
    "collapsed": false
   },
   "id": "6ab14a7c0ae7335b"
  },
  {
   "cell_type": "code",
   "execution_count": null,
   "outputs": [],
   "source": [
    "df = pd.DataFrame = pd.read_csv('data/omsz_meta.csv',\n",
    "                                sep=';',\n",
    "                                )\n",
    "df.sort_values('StartDate', inplace=True)\n",
    "\n",
    "df"
   ],
   "metadata": {
    "collapsed": false
   },
   "id": "7c3a9da183a35053"
  }
 ],
 "metadata": {
  "kernelspec": {
   "display_name": "Python 3",
   "language": "python",
   "name": "python3"
  },
  "language_info": {
   "codemirror_mode": {
    "name": "ipython",
    "version": 2
   },
   "file_extension": ".py",
   "mimetype": "text/x-python",
   "name": "python",
   "nbconvert_exporter": "python",
   "pygments_lexer": "ipython2",
   "version": "2.7.6"
  }
 },
 "nbformat": 4,
 "nbformat_minor": 5
}
