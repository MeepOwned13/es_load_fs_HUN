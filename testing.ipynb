{
 "cells": [
  {
   "cell_type": "markdown",
   "source": [
    "## Imports"
   ],
   "metadata": {
    "collapsed": false
   },
   "id": "c503cf5ffb79235d"
  },
  {
   "cell_type": "code",
   "execution_count": null,
   "outputs": [],
   "source": [
    "import pandas as pd\n",
    "import numpy as np"
   ],
   "metadata": {
    "collapsed": false
   },
   "id": "e4650a36b6a54a19"
  },
  {
   "cell_type": "markdown",
   "source": [
    "### Format station data\n",
    "\n",
    "Testing formatting and cutting of individual station data"
   ],
   "metadata": {
    "collapsed": false
   },
   "id": "9eeda580b896e8e0"
  },
  {
   "cell_type": "code",
   "execution_count": null,
   "id": "initial_id",
   "metadata": {
    "collapsed": true
   },
   "outputs": [],
   "source": [
    "df: pd.DataFrame = pd.read_csv('data/omsz_data/Szabolcs-Szatmár-Bereg_Nyírtass.csv',\n",
    "                               skiprows=4, # skip metadata of csv\n",
    "                               sep=';', # separator\n",
    "                               skipinitialspace=True, # remove trailing whitespace\n",
    "                               na_values=['EOR', -999], # End Of Record is irrelevant, -999 means missing value\n",
    "                               low_memory=False, # warning about mixed types\n",
    "                               )\n",
    "df.columns = df.columns.str.strip() # remove trailing whitespaces\n",
    "df['Time'] = pd.to_datetime(df['Time'], format='%Y%m%d%H%M') # convert to datetime\n",
    "df.index = df['Time'] # set index to datetime\n",
    "df.drop('Time', axis=1, inplace=True) # remove unnecessary column\n",
    "df.dropna(how='all', axis=1, inplace=True) # remove columns with all NaN values\n",
    "# print(df.dtypes)\n",
    "# print(df.describe())\n",
    "df = df['2015-01-01 00:00:00':]\n",
    "df.drop(['StationNumber', 't', 'tn', 'tx', 'v', 'p', 'fs', 'fsd', 'fx', 'fxd', 'fxdat', 'fd', 'et5', 'et10', 'et20', 'et50', 'et100', 'tsn', 'suv'], axis=1, inplace=True, errors='ignore')\n",
    "# 'suv' column doesn't exist in this particular instance\n",
    "# still deciding if i should keep the 'we' column\n",
    "df.to_csv('test.csv', sep=';')\n",
    "\n",
    "df"
   ]
  },
  {
   "cell_type": "markdown",
   "source": [
    "### Electricity load data\n",
    "\n",
    "Checking electricity load data that will be used"
   ],
   "metadata": {
    "collapsed": false
   },
   "id": "d9233bf7d2b1f48b"
  },
  {
   "cell_type": "code",
   "execution_count": null,
   "outputs": [],
   "source": [
    "df: pd.DataFrame = pd.read_csv('data/mavir_data/mavir_1.csv', sep=';')\n",
    "\n",
    "df.columns = df.columns.str.strip()\n",
    "df['Time'] = pd.to_datetime(df['Időpont'], utc=True).dt.tz_localize(None)\n",
    "df.index = df['Time']\n",
    "df.drop(['Time', 'Időpont'], axis=1, inplace=True)\n",
    "\n",
    "df"
   ],
   "metadata": {
    "collapsed": false
   },
   "id": "3a20fa5b7def208b"
  },
  {
   "cell_type": "markdown",
   "source": [
    "### Checking meta data\n",
    "\n",
    "I'm deciding which start date to use for the new dataset, it looks like a lot of new stations were set up in 2014, so somwhere between 2015 and 2017 seem like good years to start\n",
    "- I have to keep in mind, the COVID pandemic started around 2020, so I want a good amount of data before that too"
   ],
   "metadata": {
    "collapsed": false
   },
   "id": "6ab14a7c0ae7335b"
  },
  {
   "cell_type": "code",
   "execution_count": null,
   "outputs": [],
   "source": [
    "df = pd.DataFrame = pd.read_csv('data/omsz_meta.csv',\n",
    "                                sep=';',\n",
    "                                )\n",
    "df.sort_values('StartDate', inplace=True)\n",
    "\n",
    "df"
   ],
   "metadata": {
    "collapsed": false
   },
   "id": "7c3a9da183a35053"
  }
 ],
 "metadata": {
  "kernelspec": {
   "display_name": "Python 3",
   "language": "python",
   "name": "python3"
  },
  "language_info": {
   "codemirror_mode": {
    "name": "ipython",
    "version": 2
   },
   "file_extension": ".py",
   "mimetype": "text/x-python",
   "name": "python",
   "nbconvert_exporter": "python",
   "pygments_lexer": "ipython2",
   "version": "2.7.6"
  }
 },
 "nbformat": 4,
 "nbformat_minor": 5
}
