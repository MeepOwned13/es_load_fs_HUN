{
 "cells": [
  {
   "cell_type": "code",
   "execution_count": 19,
   "id": "initial_id",
   "metadata": {
    "collapsed": true,
    "ExecuteTime": {
     "end_time": "2023-09-14T18:26:54.253805400Z",
     "start_time": "2023-09-14T18:26:52.508065800Z"
    }
   },
   "outputs": [
    {
     "name": "stdout",
     "output_type": "stream",
     "text": [
      "StationNumber      int64\n",
      "r                float64\n",
      "t                float64\n",
      "ta               float64\n",
      "tn               float64\n",
      "tx               float64\n",
      "v                 object\n",
      "p                float64\n",
      "u                  int64\n",
      "sg               float64\n",
      "sr               float64\n",
      "fs               float64\n",
      "fsd              float64\n",
      "fx               float64\n",
      "fxd                int64\n",
      "fxdat             object\n",
      "we               float64\n",
      "p0               float64\n",
      "f                float64\n",
      "fd                 int64\n",
      "et5              float64\n",
      "et10             float64\n",
      "et20             float64\n",
      "et50             float64\n",
      "et100            float64\n",
      "tsn              float64\n",
      "dtype: object\n",
      "       StationNumber              r              t             ta  \\\n",
      "count       184080.0  184080.000000  184080.000000  184080.000000   \n",
      "mean         23201.0       0.063639      11.200814      11.205796   \n",
      "std              0.0       0.488835       9.132266       9.127287   \n",
      "min          23201.0       0.000000     -17.800000     -17.800000   \n",
      "25%          23201.0       0.000000       4.000000       4.000000   \n",
      "50%          23201.0       0.000000      11.000000      11.000000   \n",
      "75%          23201.0       0.000000      17.900000      18.000000   \n",
      "max          23201.0      38.600000      39.200000      39.100000   \n",
      "\n",
      "                  tn             tx              p              u  \\\n",
      "count  184080.000000  184080.000000  184080.000000  184080.000000   \n",
      "mean       10.707125      11.699354    1002.487044      72.506389   \n",
      "std         8.989443       9.267932       7.839666      18.182423   \n",
      "min       -17.800000     -17.700000     962.000000      11.000000   \n",
      "25%         3.600000       4.400000     997.800000      60.000000   \n",
      "50%        10.500000      11.500000    1002.400000      76.000000   \n",
      "75%        17.400000      18.600000    1007.300000      88.000000   \n",
      "max        38.900000      39.400000    1032.200000     100.000000   \n",
      "\n",
      "                  sg             sr  ...            we             p0  \\\n",
      "count  163664.000000  171737.000000  ...  15519.000000  184080.000000   \n",
      "mean      101.508597      50.541044  ...     16.374573    1017.230815   \n",
      "std         6.835512      81.553251  ...     45.070392       8.076201   \n",
      "min        80.760000       0.000000  ...      1.000000     976.700000   \n",
      "25%        97.340000       0.000000  ...      2.000000    1012.300000   \n",
      "50%       100.540000       1.600000  ...      4.000000    1016.900000   \n",
      "75%       104.460000      72.100000  ...      9.000000    1022.200000   \n",
      "max       247.340000     361.000000  ...    601.000000    1048.400000   \n",
      "\n",
      "                   f             fd            et5           et10  \\\n",
      "count  184080.000000  184080.000000  126775.000000  126775.000000   \n",
      "mean        3.073683     215.345670      12.342566      12.248544   \n",
      "std         2.034090     106.373037       8.515318       8.018293   \n",
      "min         0.000000       1.000000      -4.700000      -2.700000   \n",
      "25%         1.600000     125.000000       4.600000       4.900000   \n",
      "50%         2.600000     224.000000      11.700000      11.700000   \n",
      "75%         4.100000     319.000000      19.800000      19.600000   \n",
      "max        16.000000     360.000000      35.900000      32.300000   \n",
      "\n",
      "                et20           et50          et100            tsn  \n",
      "count  123463.000000  126775.000000  126775.000000  184080.000000  \n",
      "mean       11.952131      12.084764      11.959848      10.364311  \n",
      "std         7.356672       6.307249       4.792207       9.445589  \n",
      "min        -1.400000       0.400000       2.800000     -17.100000  \n",
      "25%         5.100000       6.100000       7.500000       2.800000  \n",
      "50%        11.500000      11.900000      12.000000       9.700000  \n",
      "75%        19.000000      18.100000      16.600000      16.900000  \n",
      "max        28.400000      25.000000      21.200000      41.600000  \n",
      "\n",
      "[8 rows x 24 columns]\n"
     ]
    },
    {
     "data": {
      "text/plain": "                     StationNumber    r    t   ta   tn    tx    v       p   u  \\\nTime                                                                            \n2002-01-01 00:00:00          23201  0.0 -4.3 -4.4 -4.8  -4.3  NaN  1013.3  73   \n2002-01-01 01:00:00          23201  0.0 -4.7 -4.6 -4.8  -4.4  NaN  1014.5  64   \n2002-01-01 02:00:00          23201  0.0 -5.2 -5.2 -5.4  -4.8  NaN  1016.0  64   \n2002-01-01 03:00:00          23201  0.0 -6.0 -5.8 -6.0  -5.5  NaN  1016.3  64   \n2002-01-01 04:00:00          23201  0.0 -6.0 -5.9 -6.1  -5.7  NaN  1016.9  63   \n...                            ...  ...  ...  ...  ...   ...  ...     ...  ..   \n2022-12-31 19:00:00          23201  0.0  7.4  8.5  7.2  10.1  NaN  1009.8  93   \n2022-12-31 20:00:00          23201  0.0  9.6  9.6  7.4  10.4  NaN  1009.6  82   \n2022-12-31 21:00:00          23201  0.0  9.7  9.2  8.4  10.0  NaN  1009.6  83   \n2022-12-31 22:00:00          23201  0.0  8.2  9.4  8.2  10.1  NaN  1009.7  87   \n2022-12-31 23:00:00          23201  0.0  4.7  5.6  3.8   8.6  NaN  1009.5  96   \n\n                         sg  ...    we      p0    f   fd  et5 et10  et20  \\\nTime                         ...                                           \n2002-01-01 00:00:00   99.33  ...   NaN  1029.0  8.8  330  NaN  NaN   NaN   \n2002-01-01 01:00:00   99.56  ...   NaN  1030.3  9.0  345  NaN  NaN   NaN   \n2002-01-01 02:00:00   98.61  ...   NaN  1031.8  5.6  332  NaN  NaN   NaN   \n2002-01-01 03:00:00   97.76  ...   NaN  1032.2  7.4  330  NaN  NaN   NaN   \n2002-01-01 04:00:00  100.95  ...   NaN  1032.8  6.3  344  NaN  NaN   NaN   \n...                     ...  ...   ...     ...  ...  ...  ...  ...   ...   \n2022-12-31 19:00:00   92.97  ...  12.0  1024.8  1.1  179  4.5  4.3   4.4   \n2022-12-31 20:00:00   95.37  ...   5.0  1024.5  2.0  192  4.5  4.3   4.4   \n2022-12-31 21:00:00   93.66  ...   5.0  1024.5  1.6  188  4.5  4.4   4.4   \n2022-12-31 22:00:00   92.92  ...   5.0  1024.7  1.6  148  4.5  4.4   4.5   \n2022-12-31 23:00:00   94.01  ...  12.0  1024.7  1.4  150  4.5  4.4   4.5   \n\n                     et50  et100  tsn  \nTime                                   \n2002-01-01 00:00:00   NaN    NaN -5.1  \n2002-01-01 01:00:00   NaN    NaN -5.2  \n2002-01-01 02:00:00   NaN    NaN -5.9  \n2002-01-01 03:00:00   NaN    NaN -6.5  \n2002-01-01 04:00:00   NaN    NaN -6.5  \n...                   ...    ...  ...  \n2022-12-31 19:00:00   5.5    7.6  5.1  \n2022-12-31 20:00:00   5.5    7.6  4.8  \n2022-12-31 21:00:00   5.5    7.5  4.4  \n2022-12-31 22:00:00   5.5    7.5  5.3  \n2022-12-31 23:00:00   5.5    7.5  2.4  \n\n[184080 rows x 26 columns]",
      "text/html": "<div>\n<style scoped>\n    .dataframe tbody tr th:only-of-type {\n        vertical-align: middle;\n    }\n\n    .dataframe tbody tr th {\n        vertical-align: top;\n    }\n\n    .dataframe thead th {\n        text-align: right;\n    }\n</style>\n<table border=\"1\" class=\"dataframe\">\n  <thead>\n    <tr style=\"text-align: right;\">\n      <th></th>\n      <th>StationNumber</th>\n      <th>r</th>\n      <th>t</th>\n      <th>ta</th>\n      <th>tn</th>\n      <th>tx</th>\n      <th>v</th>\n      <th>p</th>\n      <th>u</th>\n      <th>sg</th>\n      <th>...</th>\n      <th>we</th>\n      <th>p0</th>\n      <th>f</th>\n      <th>fd</th>\n      <th>et5</th>\n      <th>et10</th>\n      <th>et20</th>\n      <th>et50</th>\n      <th>et100</th>\n      <th>tsn</th>\n    </tr>\n    <tr>\n      <th>Time</th>\n      <th></th>\n      <th></th>\n      <th></th>\n      <th></th>\n      <th></th>\n      <th></th>\n      <th></th>\n      <th></th>\n      <th></th>\n      <th></th>\n      <th></th>\n      <th></th>\n      <th></th>\n      <th></th>\n      <th></th>\n      <th></th>\n      <th></th>\n      <th></th>\n      <th></th>\n      <th></th>\n      <th></th>\n    </tr>\n  </thead>\n  <tbody>\n    <tr>\n      <th>2002-01-01 00:00:00</th>\n      <td>23201</td>\n      <td>0.0</td>\n      <td>-4.3</td>\n      <td>-4.4</td>\n      <td>-4.8</td>\n      <td>-4.3</td>\n      <td>NaN</td>\n      <td>1013.3</td>\n      <td>73</td>\n      <td>99.33</td>\n      <td>...</td>\n      <td>NaN</td>\n      <td>1029.0</td>\n      <td>8.8</td>\n      <td>330</td>\n      <td>NaN</td>\n      <td>NaN</td>\n      <td>NaN</td>\n      <td>NaN</td>\n      <td>NaN</td>\n      <td>-5.1</td>\n    </tr>\n    <tr>\n      <th>2002-01-01 01:00:00</th>\n      <td>23201</td>\n      <td>0.0</td>\n      <td>-4.7</td>\n      <td>-4.6</td>\n      <td>-4.8</td>\n      <td>-4.4</td>\n      <td>NaN</td>\n      <td>1014.5</td>\n      <td>64</td>\n      <td>99.56</td>\n      <td>...</td>\n      <td>NaN</td>\n      <td>1030.3</td>\n      <td>9.0</td>\n      <td>345</td>\n      <td>NaN</td>\n      <td>NaN</td>\n      <td>NaN</td>\n      <td>NaN</td>\n      <td>NaN</td>\n      <td>-5.2</td>\n    </tr>\n    <tr>\n      <th>2002-01-01 02:00:00</th>\n      <td>23201</td>\n      <td>0.0</td>\n      <td>-5.2</td>\n      <td>-5.2</td>\n      <td>-5.4</td>\n      <td>-4.8</td>\n      <td>NaN</td>\n      <td>1016.0</td>\n      <td>64</td>\n      <td>98.61</td>\n      <td>...</td>\n      <td>NaN</td>\n      <td>1031.8</td>\n      <td>5.6</td>\n      <td>332</td>\n      <td>NaN</td>\n      <td>NaN</td>\n      <td>NaN</td>\n      <td>NaN</td>\n      <td>NaN</td>\n      <td>-5.9</td>\n    </tr>\n    <tr>\n      <th>2002-01-01 03:00:00</th>\n      <td>23201</td>\n      <td>0.0</td>\n      <td>-6.0</td>\n      <td>-5.8</td>\n      <td>-6.0</td>\n      <td>-5.5</td>\n      <td>NaN</td>\n      <td>1016.3</td>\n      <td>64</td>\n      <td>97.76</td>\n      <td>...</td>\n      <td>NaN</td>\n      <td>1032.2</td>\n      <td>7.4</td>\n      <td>330</td>\n      <td>NaN</td>\n      <td>NaN</td>\n      <td>NaN</td>\n      <td>NaN</td>\n      <td>NaN</td>\n      <td>-6.5</td>\n    </tr>\n    <tr>\n      <th>2002-01-01 04:00:00</th>\n      <td>23201</td>\n      <td>0.0</td>\n      <td>-6.0</td>\n      <td>-5.9</td>\n      <td>-6.1</td>\n      <td>-5.7</td>\n      <td>NaN</td>\n      <td>1016.9</td>\n      <td>63</td>\n      <td>100.95</td>\n      <td>...</td>\n      <td>NaN</td>\n      <td>1032.8</td>\n      <td>6.3</td>\n      <td>344</td>\n      <td>NaN</td>\n      <td>NaN</td>\n      <td>NaN</td>\n      <td>NaN</td>\n      <td>NaN</td>\n      <td>-6.5</td>\n    </tr>\n    <tr>\n      <th>...</th>\n      <td>...</td>\n      <td>...</td>\n      <td>...</td>\n      <td>...</td>\n      <td>...</td>\n      <td>...</td>\n      <td>...</td>\n      <td>...</td>\n      <td>...</td>\n      <td>...</td>\n      <td>...</td>\n      <td>...</td>\n      <td>...</td>\n      <td>...</td>\n      <td>...</td>\n      <td>...</td>\n      <td>...</td>\n      <td>...</td>\n      <td>...</td>\n      <td>...</td>\n      <td>...</td>\n    </tr>\n    <tr>\n      <th>2022-12-31 19:00:00</th>\n      <td>23201</td>\n      <td>0.0</td>\n      <td>7.4</td>\n      <td>8.5</td>\n      <td>7.2</td>\n      <td>10.1</td>\n      <td>NaN</td>\n      <td>1009.8</td>\n      <td>93</td>\n      <td>92.97</td>\n      <td>...</td>\n      <td>12.0</td>\n      <td>1024.8</td>\n      <td>1.1</td>\n      <td>179</td>\n      <td>4.5</td>\n      <td>4.3</td>\n      <td>4.4</td>\n      <td>5.5</td>\n      <td>7.6</td>\n      <td>5.1</td>\n    </tr>\n    <tr>\n      <th>2022-12-31 20:00:00</th>\n      <td>23201</td>\n      <td>0.0</td>\n      <td>9.6</td>\n      <td>9.6</td>\n      <td>7.4</td>\n      <td>10.4</td>\n      <td>NaN</td>\n      <td>1009.6</td>\n      <td>82</td>\n      <td>95.37</td>\n      <td>...</td>\n      <td>5.0</td>\n      <td>1024.5</td>\n      <td>2.0</td>\n      <td>192</td>\n      <td>4.5</td>\n      <td>4.3</td>\n      <td>4.4</td>\n      <td>5.5</td>\n      <td>7.6</td>\n      <td>4.8</td>\n    </tr>\n    <tr>\n      <th>2022-12-31 21:00:00</th>\n      <td>23201</td>\n      <td>0.0</td>\n      <td>9.7</td>\n      <td>9.2</td>\n      <td>8.4</td>\n      <td>10.0</td>\n      <td>NaN</td>\n      <td>1009.6</td>\n      <td>83</td>\n      <td>93.66</td>\n      <td>...</td>\n      <td>5.0</td>\n      <td>1024.5</td>\n      <td>1.6</td>\n      <td>188</td>\n      <td>4.5</td>\n      <td>4.4</td>\n      <td>4.4</td>\n      <td>5.5</td>\n      <td>7.5</td>\n      <td>4.4</td>\n    </tr>\n    <tr>\n      <th>2022-12-31 22:00:00</th>\n      <td>23201</td>\n      <td>0.0</td>\n      <td>8.2</td>\n      <td>9.4</td>\n      <td>8.2</td>\n      <td>10.1</td>\n      <td>NaN</td>\n      <td>1009.7</td>\n      <td>87</td>\n      <td>92.92</td>\n      <td>...</td>\n      <td>5.0</td>\n      <td>1024.7</td>\n      <td>1.6</td>\n      <td>148</td>\n      <td>4.5</td>\n      <td>4.4</td>\n      <td>4.5</td>\n      <td>5.5</td>\n      <td>7.5</td>\n      <td>5.3</td>\n    </tr>\n    <tr>\n      <th>2022-12-31 23:00:00</th>\n      <td>23201</td>\n      <td>0.0</td>\n      <td>4.7</td>\n      <td>5.6</td>\n      <td>3.8</td>\n      <td>8.6</td>\n      <td>NaN</td>\n      <td>1009.5</td>\n      <td>96</td>\n      <td>94.01</td>\n      <td>...</td>\n      <td>12.0</td>\n      <td>1024.7</td>\n      <td>1.4</td>\n      <td>150</td>\n      <td>4.5</td>\n      <td>4.4</td>\n      <td>4.5</td>\n      <td>5.5</td>\n      <td>7.5</td>\n      <td>2.4</td>\n    </tr>\n  </tbody>\n</table>\n<p>184080 rows × 26 columns</p>\n</div>"
     },
     "execution_count": 19,
     "metadata": {},
     "output_type": "execute_result"
    }
   ],
   "source": [
    "import pandas as pd\n",
    "import numpy as np\n",
    "\n",
    "df: pd.DataFrame = pd.read_csv('omsz_data/Győr-Moson-Sopron_Mosonmagyaróvár.csv',\n",
    "                               skiprows=4, # skip metadata of csv\n",
    "                               sep=';', # separator\n",
    "                               skipinitialspace=True, # remove trailing whitespace\n",
    "                               na_values=['EOR', -999], # End Of Record is irrelevant, -999 means missing value\n",
    "                               low_memory=False, # warning about mixed types\n",
    "                               )\n",
    "df.columns = df.columns.str.strip() # remove trailing whitespaces\n",
    "df['Time'] = pd.to_datetime(df['Time'], format='%Y%m%d%H%M') # convert to datetime\n",
    "df.index = df['Time'] # set index to datetime\n",
    "df.drop('Time', axis=1, inplace=True) # remove unnecessary column\n",
    "df.dropna(how='all', axis=1, inplace=True) # remove columns with all NaN values\n",
    "# print(df.dtypes)\n",
    "# print(df.describe())\n",
    "\n",
    "df"
   ]
  },
  {
   "cell_type": "code",
   "execution_count": 3,
   "outputs": [
    {
     "data": {
      "text/plain": "                     Nettó terv rendszerterhelés  Nettó terhelés  \\\nTime                                                               \n2018-01-01 00:00:00                     3926.540        3986.028   \n2018-01-01 01:00:00                     3790.682        3866.534   \n2018-01-01 02:00:00                     3513.431        3607.349   \n2018-01-01 03:00:00                     3335.715        3418.238   \n2018-01-01 04:00:00                     3257.596        3360.744   \n...                                          ...             ...   \n2023-09-14 19:00:00                     5343.331             NaN   \n2023-09-14 20:00:00                     4999.134             NaN   \n2023-09-14 21:00:00                     4732.110             NaN   \n2023-09-14 22:00:00                     4530.384             NaN   \n2023-09-14 23:00:00                          NaN             NaN   \n\n                     MAVIR becslés  Nettó terv rendszertermelés  \\\nTime                                                              \n2018-01-01 00:00:00        4276.50                     3911.154   \n2018-01-01 01:00:00        4157.00                     3775.331   \n2018-01-01 02:00:00        3898.25                     3501.505   \n2018-01-01 03:00:00        3697.00                     3413.855   \n2018-01-01 04:00:00        3627.75                     3469.264   \n...                            ...                          ...   \n2023-09-14 19:00:00        5615.50                     5361.806   \n2023-09-14 20:00:00        5249.25                     5169.298   \n2023-09-14 21:00:00        4992.75                     4817.198   \n2023-09-14 22:00:00        4774.00                     4709.204   \n2023-09-14 23:00:00            NaN                          NaN   \n\n                     Nettó rendszerterhelés tény - üzemirányítási  \\\nTime                                                                \n2018-01-01 00:00:00                                      3986.027   \n2018-01-01 01:00:00                                      3866.534   \n2018-01-01 02:00:00                                      3607.349   \n2018-01-01 03:00:00                                      3418.237   \n2018-01-01 04:00:00                                      3360.744   \n...                                                           ...   \n2023-09-14 19:00:00                                           NaN   \n2023-09-14 20:00:00                                           NaN   \n2023-09-14 21:00:00                                           NaN   \n2023-09-14 22:00:00                                           NaN   \n2023-09-14 23:00:00                                           NaN   \n\n                     Bruttó hitelesített rendszerterhelés tény  \\\nTime                                                             \n2018-01-01 00:00:00                                    4199.25   \n2018-01-01 01:00:00                                    4069.75   \n2018-01-01 02:00:00                                    3814.75   \n2018-01-01 03:00:00                                    3624.75   \n2018-01-01 04:00:00                                    3562.25   \n...                                                        ...   \n2023-09-14 19:00:00                                        NaN   \n2023-09-14 20:00:00                                        NaN   \n2023-09-14 21:00:00                                        NaN   \n2023-09-14 22:00:00                                        NaN   \n2023-09-14 23:00:00                                        NaN   \n\n                     Bruttó terv rendszerterhelés  \\\nTime                                                \n2018-01-01 00:00:00                      4258.438   \n2018-01-01 01:00:00                      4120.233   \n2018-01-01 02:00:00                      3863.475   \n2018-01-01 03:00:00                      3793.290   \n2018-01-01 04:00:00                      3870.480   \n...                                           ...   \n2023-09-14 19:00:00                      5614.418   \n2023-09-14 20:00:00                      5398.140   \n2023-09-14 21:00:00                      5036.590   \n2023-09-14 22:00:00                      4944.151   \n2023-09-14 23:00:00                           NaN   \n\n                     Nettó tény rendszerterhelés - net.ker.elsz.meres  \\\nTime                                                                    \n2018-01-01 00:00:00                                          3851.035   \n2018-01-01 01:00:00                                          3731.949   \n2018-01-01 02:00:00                                          3475.011   \n2018-01-01 03:00:00                                          3289.397   \n2018-01-01 04:00:00                                          3229.467   \n...                                                               ...   \n2023-09-14 19:00:00                                               NaN   \n2023-09-14 20:00:00                                               NaN   \n2023-09-14 21:00:00                                               NaN   \n2023-09-14 22:00:00                                               NaN   \n2023-09-14 23:00:00                                               NaN   \n\n                     Bruttó tény rendszerterhelés  \\\nTime                                                \n2018-01-01 00:00:00                      4193.318   \n2018-01-01 01:00:00                      4075.735   \n2018-01-01 02:00:00                      3816.608   \n2018-01-01 03:00:00                      3625.328   \n2018-01-01 04:00:00                      3567.273   \n...                                           ...   \n2023-09-14 19:00:00                           NaN   \n2023-09-14 20:00:00                           NaN   \n2023-09-14 21:00:00                           NaN   \n2023-09-14 22:00:00                           NaN   \n2023-09-14 23:00:00                           NaN   \n\n                     Nettó MAVIR rendszerterhelés becslés                Time  \nTime                                                                           \n2018-01-01 00:00:00                              3858.101 2018-01-01 00:00:00  \n2018-01-01 01:00:00                              3757.103 2018-01-01 01:00:00  \n2018-01-01 02:00:00                              3559.871 2018-01-01 02:00:00  \n2018-01-01 03:00:00                              3323.871 2018-01-01 03:00:00  \n2018-01-01 04:00:00                              3238.276 2018-01-01 04:00:00  \n...                                                   ...                 ...  \n2023-09-14 19:00:00                              5309.000 2023-09-14 19:00:00  \n2023-09-14 20:00:00                              4940.750 2023-09-14 20:00:00  \n2023-09-14 21:00:00                              4684.500 2023-09-14 21:00:00  \n2023-09-14 22:00:00                              4471.750 2023-09-14 22:00:00  \n2023-09-14 23:00:00                                   NaN 2023-09-14 23:00:00  \n\n[49992 rows x 11 columns]",
      "text/html": "<div>\n<style scoped>\n    .dataframe tbody tr th:only-of-type {\n        vertical-align: middle;\n    }\n\n    .dataframe tbody tr th {\n        vertical-align: top;\n    }\n\n    .dataframe thead th {\n        text-align: right;\n    }\n</style>\n<table border=\"1\" class=\"dataframe\">\n  <thead>\n    <tr style=\"text-align: right;\">\n      <th></th>\n      <th>Nettó terv rendszerterhelés</th>\n      <th>Nettó terhelés</th>\n      <th>MAVIR becslés</th>\n      <th>Nettó terv rendszertermelés</th>\n      <th>Nettó rendszerterhelés tény - üzemirányítási</th>\n      <th>Bruttó hitelesített rendszerterhelés tény</th>\n      <th>Bruttó terv rendszerterhelés</th>\n      <th>Nettó tény rendszerterhelés - net.ker.elsz.meres</th>\n      <th>Bruttó tény rendszerterhelés</th>\n      <th>Nettó MAVIR rendszerterhelés becslés</th>\n      <th>Time</th>\n    </tr>\n    <tr>\n      <th>Time</th>\n      <th></th>\n      <th></th>\n      <th></th>\n      <th></th>\n      <th></th>\n      <th></th>\n      <th></th>\n      <th></th>\n      <th></th>\n      <th></th>\n      <th></th>\n    </tr>\n  </thead>\n  <tbody>\n    <tr>\n      <th>2018-01-01 00:00:00</th>\n      <td>3926.540</td>\n      <td>3986.028</td>\n      <td>4276.50</td>\n      <td>3911.154</td>\n      <td>3986.027</td>\n      <td>4199.25</td>\n      <td>4258.438</td>\n      <td>3851.035</td>\n      <td>4193.318</td>\n      <td>3858.101</td>\n      <td>2018-01-01 00:00:00</td>\n    </tr>\n    <tr>\n      <th>2018-01-01 01:00:00</th>\n      <td>3790.682</td>\n      <td>3866.534</td>\n      <td>4157.00</td>\n      <td>3775.331</td>\n      <td>3866.534</td>\n      <td>4069.75</td>\n      <td>4120.233</td>\n      <td>3731.949</td>\n      <td>4075.735</td>\n      <td>3757.103</td>\n      <td>2018-01-01 01:00:00</td>\n    </tr>\n    <tr>\n      <th>2018-01-01 02:00:00</th>\n      <td>3513.431</td>\n      <td>3607.349</td>\n      <td>3898.25</td>\n      <td>3501.505</td>\n      <td>3607.349</td>\n      <td>3814.75</td>\n      <td>3863.475</td>\n      <td>3475.011</td>\n      <td>3816.608</td>\n      <td>3559.871</td>\n      <td>2018-01-01 02:00:00</td>\n    </tr>\n    <tr>\n      <th>2018-01-01 03:00:00</th>\n      <td>3335.715</td>\n      <td>3418.238</td>\n      <td>3697.00</td>\n      <td>3413.855</td>\n      <td>3418.237</td>\n      <td>3624.75</td>\n      <td>3793.290</td>\n      <td>3289.397</td>\n      <td>3625.328</td>\n      <td>3323.871</td>\n      <td>2018-01-01 03:00:00</td>\n    </tr>\n    <tr>\n      <th>2018-01-01 04:00:00</th>\n      <td>3257.596</td>\n      <td>3360.744</td>\n      <td>3627.75</td>\n      <td>3469.264</td>\n      <td>3360.744</td>\n      <td>3562.25</td>\n      <td>3870.480</td>\n      <td>3229.467</td>\n      <td>3567.273</td>\n      <td>3238.276</td>\n      <td>2018-01-01 04:00:00</td>\n    </tr>\n    <tr>\n      <th>...</th>\n      <td>...</td>\n      <td>...</td>\n      <td>...</td>\n      <td>...</td>\n      <td>...</td>\n      <td>...</td>\n      <td>...</td>\n      <td>...</td>\n      <td>...</td>\n      <td>...</td>\n      <td>...</td>\n    </tr>\n    <tr>\n      <th>2023-09-14 19:00:00</th>\n      <td>5343.331</td>\n      <td>NaN</td>\n      <td>5615.50</td>\n      <td>5361.806</td>\n      <td>NaN</td>\n      <td>NaN</td>\n      <td>5614.418</td>\n      <td>NaN</td>\n      <td>NaN</td>\n      <td>5309.000</td>\n      <td>2023-09-14 19:00:00</td>\n    </tr>\n    <tr>\n      <th>2023-09-14 20:00:00</th>\n      <td>4999.134</td>\n      <td>NaN</td>\n      <td>5249.25</td>\n      <td>5169.298</td>\n      <td>NaN</td>\n      <td>NaN</td>\n      <td>5398.140</td>\n      <td>NaN</td>\n      <td>NaN</td>\n      <td>4940.750</td>\n      <td>2023-09-14 20:00:00</td>\n    </tr>\n    <tr>\n      <th>2023-09-14 21:00:00</th>\n      <td>4732.110</td>\n      <td>NaN</td>\n      <td>4992.75</td>\n      <td>4817.198</td>\n      <td>NaN</td>\n      <td>NaN</td>\n      <td>5036.590</td>\n      <td>NaN</td>\n      <td>NaN</td>\n      <td>4684.500</td>\n      <td>2023-09-14 21:00:00</td>\n    </tr>\n    <tr>\n      <th>2023-09-14 22:00:00</th>\n      <td>4530.384</td>\n      <td>NaN</td>\n      <td>4774.00</td>\n      <td>4709.204</td>\n      <td>NaN</td>\n      <td>NaN</td>\n      <td>4944.151</td>\n      <td>NaN</td>\n      <td>NaN</td>\n      <td>4471.750</td>\n      <td>2023-09-14 22:00:00</td>\n    </tr>\n    <tr>\n      <th>2023-09-14 23:00:00</th>\n      <td>NaN</td>\n      <td>NaN</td>\n      <td>NaN</td>\n      <td>NaN</td>\n      <td>NaN</td>\n      <td>NaN</td>\n      <td>NaN</td>\n      <td>NaN</td>\n      <td>NaN</td>\n      <td>NaN</td>\n      <td>2023-09-14 23:00:00</td>\n    </tr>\n  </tbody>\n</table>\n<p>49992 rows × 11 columns</p>\n</div>"
     },
     "execution_count": 3,
     "metadata": {},
     "output_type": "execute_result"
    }
   ],
   "source": [
    "import warnings\n",
    "\n",
    "# suppress default style warning\n",
    "with warnings.catch_warnings(record=True):\n",
    "    warnings.simplefilter(\"always\")\n",
    "    df: pd.DataFrame = pd.read_excel('veradatok.xlsx', engine='openpyxl')\n",
    "\n",
    "df.columns = df.columns.str.strip()\n",
    "df['Time'] = pd.to_datetime(df['Időpont'], utc=True).dt.tz_localize(None)\n",
    "df.drop('Időpont', axis=1, inplace=True)\n",
    "df.index = df['Time']\n",
    "\n",
    "df"
   ],
   "metadata": {
    "collapsed": false,
    "ExecuteTime": {
     "end_time": "2023-09-14T12:01:24.385706500Z",
     "start_time": "2023-09-14T12:01:11.270681900Z"
    }
   },
   "id": "3a20fa5b7def208b"
  },
  {
   "cell_type": "code",
   "execution_count": 6,
   "outputs": [
    {
     "data": {
      "text/plain": "               StartDate   EndDate  Latitude  Longitude  Elevation  \\\nStationNumber                                                        \n13704           19950422  20040317   47.6783    16.6022      232.8   \n13704           20050727  20230914   47.6783    16.6022      232.8   \n13711           20031107  20230914   47.7147    16.6658      116.8   \n14707           20140519  20230914   47.4806    16.7292      198.7   \n15310           20020227  20230914   47.1983    16.6478      200.1   \n...                  ...       ...       ...        ...        ...   \n72805           19981231  20230914   48.1042    22.7694      114.7   \n73110           20210906  20230914   47.8636    22.2222      150.0   \n73313           20140605  20230914   47.8456    22.6631      117.6   \n73505           19980311  20230914   47.6961    22.0569      155.7   \n74500           20140612  20230914   47.4400    22.0011      124.2   \n\n               StationName                               \\\nStationNumber                                             \n13704          Sopron Kuruc-domb                          \n13704          Sopron Kuruc-domb                          \n13711          Fertőrákos                                 \n14707          Sopronhorpács                              \n15310          Szombathely                                \n...                                                 ...   \n72805          Milota                                     \n73110          Nyírkáta Herczeghtanya                     \n73313          Csenger                                    \n73505          Nyírlugos                                  \n74500          Bagamér                                    \n\n               RegioName               \nStationNumber                          \n13704          Győr-Moson-Sopron       \n13704          Győr-Moson-Sopron       \n13711          Győr-Moson-Sopron       \n14707          Győr-Moson-Sopron       \n15310          Vas                     \n...                               ...  \n72805          Szabolcs-Szatmár-Bereg  \n73110          Szabolcs-Szatmár-Bereg  \n73313          Szabolcs-Szatmár-Bereg  \n73505          Szabolcs-Szatmár-Bereg  \n74500          Hajdú-Bihar             \n\n[143 rows x 7 columns]",
      "text/html": "<div>\n<style scoped>\n    .dataframe tbody tr th:only-of-type {\n        vertical-align: middle;\n    }\n\n    .dataframe tbody tr th {\n        vertical-align: top;\n    }\n\n    .dataframe thead th {\n        text-align: right;\n    }\n</style>\n<table border=\"1\" class=\"dataframe\">\n  <thead>\n    <tr style=\"text-align: right;\">\n      <th></th>\n      <th>StartDate</th>\n      <th>EndDate</th>\n      <th>Latitude</th>\n      <th>Longitude</th>\n      <th>Elevation</th>\n      <th>StationName</th>\n      <th>RegioName</th>\n    </tr>\n    <tr>\n      <th>StationNumber</th>\n      <th></th>\n      <th></th>\n      <th></th>\n      <th></th>\n      <th></th>\n      <th></th>\n      <th></th>\n    </tr>\n  </thead>\n  <tbody>\n    <tr>\n      <th>13704</th>\n      <td>19950422</td>\n      <td>20040317</td>\n      <td>47.6783</td>\n      <td>16.6022</td>\n      <td>232.8</td>\n      <td>Sopron Kuruc-domb</td>\n      <td>Győr-Moson-Sopron</td>\n    </tr>\n    <tr>\n      <th>13704</th>\n      <td>20050727</td>\n      <td>20230914</td>\n      <td>47.6783</td>\n      <td>16.6022</td>\n      <td>232.8</td>\n      <td>Sopron Kuruc-domb</td>\n      <td>Győr-Moson-Sopron</td>\n    </tr>\n    <tr>\n      <th>13711</th>\n      <td>20031107</td>\n      <td>20230914</td>\n      <td>47.7147</td>\n      <td>16.6658</td>\n      <td>116.8</td>\n      <td>Fertőrákos</td>\n      <td>Győr-Moson-Sopron</td>\n    </tr>\n    <tr>\n      <th>14707</th>\n      <td>20140519</td>\n      <td>20230914</td>\n      <td>47.4806</td>\n      <td>16.7292</td>\n      <td>198.7</td>\n      <td>Sopronhorpács</td>\n      <td>Győr-Moson-Sopron</td>\n    </tr>\n    <tr>\n      <th>15310</th>\n      <td>20020227</td>\n      <td>20230914</td>\n      <td>47.1983</td>\n      <td>16.6478</td>\n      <td>200.1</td>\n      <td>Szombathely</td>\n      <td>Vas</td>\n    </tr>\n    <tr>\n      <th>...</th>\n      <td>...</td>\n      <td>...</td>\n      <td>...</td>\n      <td>...</td>\n      <td>...</td>\n      <td>...</td>\n      <td>...</td>\n    </tr>\n    <tr>\n      <th>72805</th>\n      <td>19981231</td>\n      <td>20230914</td>\n      <td>48.1042</td>\n      <td>22.7694</td>\n      <td>114.7</td>\n      <td>Milota</td>\n      <td>Szabolcs-Szatmár-Bereg</td>\n    </tr>\n    <tr>\n      <th>73110</th>\n      <td>20210906</td>\n      <td>20230914</td>\n      <td>47.8636</td>\n      <td>22.2222</td>\n      <td>150.0</td>\n      <td>Nyírkáta Herczeghtanya</td>\n      <td>Szabolcs-Szatmár-Bereg</td>\n    </tr>\n    <tr>\n      <th>73313</th>\n      <td>20140605</td>\n      <td>20230914</td>\n      <td>47.8456</td>\n      <td>22.6631</td>\n      <td>117.6</td>\n      <td>Csenger</td>\n      <td>Szabolcs-Szatmár-Bereg</td>\n    </tr>\n    <tr>\n      <th>73505</th>\n      <td>19980311</td>\n      <td>20230914</td>\n      <td>47.6961</td>\n      <td>22.0569</td>\n      <td>155.7</td>\n      <td>Nyírlugos</td>\n      <td>Szabolcs-Szatmár-Bereg</td>\n    </tr>\n    <tr>\n      <th>74500</th>\n      <td>20140612</td>\n      <td>20230914</td>\n      <td>47.4400</td>\n      <td>22.0011</td>\n      <td>124.2</td>\n      <td>Bagamér</td>\n      <td>Hajdú-Bihar</td>\n    </tr>\n  </tbody>\n</table>\n<p>143 rows × 7 columns</p>\n</div>"
     },
     "execution_count": 6,
     "metadata": {},
     "output_type": "execute_result"
    }
   ],
   "source": [
    "df = pd.read_csv('station_meta_auto.csv', sep=';', skipinitialspace=True, index_col='StationNumber', na_values='EOR')\n",
    "df.dropna(how='all', axis=1, inplace=True)\n",
    "\n",
    "df"
   ],
   "metadata": {
    "collapsed": false,
    "ExecuteTime": {
     "end_time": "2023-09-14T12:03:45.832646200Z",
     "start_time": "2023-09-14T12:03:45.786737300Z"
    }
   },
   "id": "50d30d3069ebd012"
  }
 ],
 "metadata": {
  "kernelspec": {
   "display_name": "Python 3",
   "language": "python",
   "name": "python3"
  },
  "language_info": {
   "codemirror_mode": {
    "name": "ipython",
    "version": 2
   },
   "file_extension": ".py",
   "mimetype": "text/x-python",
   "name": "python",
   "nbconvert_exporter": "python",
   "pygments_lexer": "ipython2",
   "version": "2.7.6"
  }
 },
 "nbformat": 4,
 "nbformat_minor": 5
}
