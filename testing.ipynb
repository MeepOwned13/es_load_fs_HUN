{
 "cells": [
  {
   "cell_type": "markdown",
   "source": [
    "## Imports"
   ],
   "metadata": {
    "collapsed": false
   },
   "id": "c503cf5ffb79235d"
  },
  {
   "cell_type": "code",
   "execution_count": null,
   "outputs": [],
   "source": [
    "import pandas as pd\n",
    "import numpy as np"
   ],
   "metadata": {
    "collapsed": false
   },
   "id": "e4650a36b6a54a19"
  },
  {
   "cell_type": "markdown",
   "source": [
    "### Format station data\n",
    "\n",
    "Testing formatting and cutting of individual station data"
   ],
   "metadata": {
    "collapsed": false
   },
   "id": "9eeda580b896e8e0"
  },
  {
   "cell_type": "code",
   "execution_count": null,
   "id": "initial_id",
   "metadata": {
    "collapsed": true
   },
   "outputs": [],
   "source": [
    "df: pd.DataFrame = pd.read_csv('data/omsz_data/Győr-Moson-Sopron_Mosonmagyaróvár.csv',\n",
    "                               skiprows=4, # skip metadata of csv\n",
    "                               sep=';', # separator\n",
    "                               skipinitialspace=True, # remove trailing whitespace\n",
    "                               na_values=['EOR', -999], # End Of Record is irrelevant, -999 means missing value\n",
    "                               low_memory=False, # warning about mixed types\n",
    "                               )\n",
    "df.columns = df.columns.str.strip() # remove trailing whitespaces\n",
    "df['Time'] = pd.to_datetime(df['Time'], format='%Y%m%d%H%M') # convert to datetime\n",
    "df.index = df['Time'] # set index to datetime\n",
    "df.drop('Time', axis=1, inplace=True) # remove unnecessary column\n",
    "df.dropna(how='all', axis=1, inplace=True) # remove columns with all NaN values\n",
    "# print(df.dtypes)\n",
    "# print(df.describe())\n",
    "\n",
    "df"
   ]
  },
  {
   "cell_type": "markdown",
   "source": [
    "### Electricity load data\n",
    "\n",
    "Checking electricity load data that will be used"
   ],
   "metadata": {
    "collapsed": false
   },
   "id": "d9233bf7d2b1f48b"
  },
  {
   "cell_type": "code",
   "execution_count": null,
   "outputs": [],
   "source": [
    "def format_mavir(dataframe: pd.DataFrame):\n",
    "    dataframe.columns = dataframe.columns.str.strip()\n",
    "    dataframe['Time'] = (pd.to_datetime(dataframe['Időpont'], utc=True) + pd.Timedelta(hours=1)).dt.tz_localize(None)\n",
    "    dataframe['Time'] = dataframe['Time']\n",
    "    dataframe.index = dataframe['Time']\n",
    "    dataframe.drop(['Time', 'Időpont'], axis=1, inplace=True)\n",
    "    dataframe.dropna(axis=0, inplace=True)\n",
    "    return dataframe\n",
    "\n",
    "df1: pd.DataFrame = pd.read_csv('data/mavir_data/mavir_1.csv', sep=';')\n",
    "df2: pd.DataFrame = pd.read_csv('data/mavir_data/mavir_2.csv', sep=';')\n",
    "df1 = format_mavir(df1)\n",
    "df2 = format_mavir(df2)\n",
    "\n",
    "df = pd.concat([df1, df2])\n",
    "df"
   ],
   "metadata": {
    "collapsed": false
   },
   "id": "3a20fa5b7def208b"
  },
  {
   "cell_type": "code",
   "execution_count": 11,
   "outputs": [
    {
     "data": {
      "text/plain": "                     Nettó terhelés  MAVIR becslés\nTime                                              \n2015-01-01 01:00:00        4270.718        4283.00\n2015-01-01 02:00:00        4068.940        4112.50\n2015-01-01 03:00:00        3754.788        3847.25\n2015-01-01 04:00:00        3510.361        3704.00\n2015-01-01 05:00:00        3426.489        3646.75\n...                             ...            ...\n2023-09-16 19:00:00        4917.640        5153.50\n2023-09-16 20:00:00        4836.893        4950.00\n2023-09-16 21:00:00        4556.295        4658.25\n2023-09-16 22:00:00        4308.079        4377.75\n2023-09-16 23:00:00        4071.350        4158.50\n\n[76221 rows x 2 columns]",
      "text/html": "<div>\n<style scoped>\n    .dataframe tbody tr th:only-of-type {\n        vertical-align: middle;\n    }\n\n    .dataframe tbody tr th {\n        vertical-align: top;\n    }\n\n    .dataframe thead th {\n        text-align: right;\n    }\n</style>\n<table border=\"1\" class=\"dataframe\">\n  <thead>\n    <tr style=\"text-align: right;\">\n      <th></th>\n      <th>Nettó terhelés</th>\n      <th>MAVIR becslés</th>\n    </tr>\n    <tr>\n      <th>Time</th>\n      <th></th>\n      <th></th>\n    </tr>\n  </thead>\n  <tbody>\n    <tr>\n      <th>2015-01-01 01:00:00</th>\n      <td>4270.718</td>\n      <td>4283.00</td>\n    </tr>\n    <tr>\n      <th>2015-01-01 02:00:00</th>\n      <td>4068.940</td>\n      <td>4112.50</td>\n    </tr>\n    <tr>\n      <th>2015-01-01 03:00:00</th>\n      <td>3754.788</td>\n      <td>3847.25</td>\n    </tr>\n    <tr>\n      <th>2015-01-01 04:00:00</th>\n      <td>3510.361</td>\n      <td>3704.00</td>\n    </tr>\n    <tr>\n      <th>2015-01-01 05:00:00</th>\n      <td>3426.489</td>\n      <td>3646.75</td>\n    </tr>\n    <tr>\n      <th>...</th>\n      <td>...</td>\n      <td>...</td>\n    </tr>\n    <tr>\n      <th>2023-09-16 19:00:00</th>\n      <td>4917.640</td>\n      <td>5153.50</td>\n    </tr>\n    <tr>\n      <th>2023-09-16 20:00:00</th>\n      <td>4836.893</td>\n      <td>4950.00</td>\n    </tr>\n    <tr>\n      <th>2023-09-16 21:00:00</th>\n      <td>4556.295</td>\n      <td>4658.25</td>\n    </tr>\n    <tr>\n      <th>2023-09-16 22:00:00</th>\n      <td>4308.079</td>\n      <td>4377.75</td>\n    </tr>\n    <tr>\n      <th>2023-09-16 23:00:00</th>\n      <td>4071.350</td>\n      <td>4158.50</td>\n    </tr>\n  </tbody>\n</table>\n<p>76221 rows × 2 columns</p>\n</div>"
     },
     "execution_count": 11,
     "metadata": {},
     "output_type": "execute_result"
    }
   ],
   "source": [
    "df = pd.read_csv('data/mavir_data/mavir.csv', sep=';', index_col='Time')\n",
    "df.drop(['Nettó terv rendszerterhelés', 'Bruttó hitelesített rendszerterhelés tény', 'Nettó tény rendszerterhelés - net.ker.elsz.meres',\n",
    "         'Bruttó terv rendszerterhelés', 'Bruttó tény rendszerterhelés', 'Nettó rendszerterhelés tény - üzemirányítási',\n",
    "         'Nettó terv rendszertermelés', 'Nettó MAVIR rendszerterhelés becslés'],\n",
    "         inplace=True, axis=1)\n",
    "df"
   ],
   "metadata": {
    "collapsed": false,
    "ExecuteTime": {
     "end_time": "2023-09-17T21:34:17.765967600Z",
     "start_time": "2023-09-17T21:34:17.646917900Z"
    }
   },
   "id": "dff6c9f5eadce497"
  },
  {
   "cell_type": "markdown",
   "source": [
    "### Checking meta data\n",
    "\n",
    "I'm deciding which start date to use for the new dataset, it looks like a lot of new stations were set up in 2014, so somwhere between 2015 and 2017 seem like good years to start\n",
    "- I have to keep in mind, the COVID pandemic started around 2020, so I want a good amount of data before that too"
   ],
   "metadata": {
    "collapsed": false
   },
   "id": "6ab14a7c0ae7335b"
  },
  {
   "cell_type": "code",
   "execution_count": null,
   "outputs": [],
   "source": [
    "df = pd.DataFrame = pd.read_csv('data/omsz_meta.csv',\n",
    "                                sep=';',\n",
    "                                )\n",
    "df.sort_values('StartDate', inplace=True)\n",
    "\n",
    "df"
   ],
   "metadata": {
    "collapsed": false
   },
   "id": "7c3a9da183a35053"
  }
 ],
 "metadata": {
  "kernelspec": {
   "display_name": "Python 3",
   "language": "python",
   "name": "python3"
  },
  "language_info": {
   "codemirror_mode": {
    "name": "ipython",
    "version": 2
   },
   "file_extension": ".py",
   "mimetype": "text/x-python",
   "name": "python",
   "nbconvert_exporter": "python",
   "pygments_lexer": "ipython2",
   "version": "2.7.6"
  }
 },
 "nbformat": 4,
 "nbformat_minor": 5
}
